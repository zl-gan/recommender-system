{
 "cells": [
  {
   "cell_type": "markdown",
   "metadata": {},
   "source": [
    "# CDS513 Predictive Business Analytics - Assignment 1\n",
    "## *Topic 3 - The Movie Dataset*"
   ]
  },
  {
   "cell_type": "markdown",
   "metadata": {},
   "source": [
    "# Recommender Systems (Collaborative Filtering - Memory Based)"
   ]
  },
  {
   "cell_type": "markdown",
   "metadata": {},
   "source": [
    "## Import necessary packages"
   ]
  },
  {
   "cell_type": "code",
   "execution_count": 1,
   "metadata": {},
   "outputs": [],
   "source": [
    "import numpy as np\n",
    "import scipy\n",
    "import pandas as pd\n",
    "import math\n",
    "import random\n",
    "import sklearn\n",
    "from nltk.corpus import stopwords\n",
    "from scipy.sparse import csr_matrix\n",
    "from sklearn.model_selection import train_test_split\n",
    "from sklearn.feature_extraction.text import TfidfVectorizer\n",
    "from sklearn.metrics.pairwise import cosine_similarity\n",
    "from scipy.sparse.linalg import svds\n",
    "from sklearn.preprocessing import MinMaxScaler\n",
    "import matplotlib.pyplot as plt\n",
    "# pd.set_option(\"display.max_columns\", None)"
   ]
  },
  {
   "cell_type": "markdown",
   "metadata": {},
   "source": [
    "## Data Exploration and Pre-Processing"
   ]
  },
  {
   "cell_type": "code",
   "execution_count": 2,
   "metadata": {},
   "outputs": [
    {
     "data": {
      "text/html": [
       "<div>\n",
       "<style scoped>\n",
       "    .dataframe tbody tr th:only-of-type {\n",
       "        vertical-align: middle;\n",
       "    }\n",
       "\n",
       "    .dataframe tbody tr th {\n",
       "        vertical-align: top;\n",
       "    }\n",
       "\n",
       "    .dataframe thead th {\n",
       "        text-align: right;\n",
       "    }\n",
       "</style>\n",
       "<table border=\"1\" class=\"dataframe\">\n",
       "  <thead>\n",
       "    <tr style=\"text-align: right;\">\n",
       "      <th></th>\n",
       "      <th>userId</th>\n",
       "      <th>movieId</th>\n",
       "      <th>rating</th>\n",
       "      <th>timestamp</th>\n",
       "    </tr>\n",
       "  </thead>\n",
       "  <tbody>\n",
       "    <tr>\n",
       "      <th>0</th>\n",
       "      <td>1</td>\n",
       "      <td>31</td>\n",
       "      <td>2.5</td>\n",
       "      <td>1260759144</td>\n",
       "    </tr>\n",
       "    <tr>\n",
       "      <th>1</th>\n",
       "      <td>1</td>\n",
       "      <td>1029</td>\n",
       "      <td>3.0</td>\n",
       "      <td>1260759179</td>\n",
       "    </tr>\n",
       "    <tr>\n",
       "      <th>2</th>\n",
       "      <td>1</td>\n",
       "      <td>1061</td>\n",
       "      <td>3.0</td>\n",
       "      <td>1260759182</td>\n",
       "    </tr>\n",
       "    <tr>\n",
       "      <th>3</th>\n",
       "      <td>1</td>\n",
       "      <td>1129</td>\n",
       "      <td>2.0</td>\n",
       "      <td>1260759185</td>\n",
       "    </tr>\n",
       "    <tr>\n",
       "      <th>4</th>\n",
       "      <td>1</td>\n",
       "      <td>1172</td>\n",
       "      <td>4.0</td>\n",
       "      <td>1260759205</td>\n",
       "    </tr>\n",
       "    <tr>\n",
       "      <th>5</th>\n",
       "      <td>1</td>\n",
       "      <td>1263</td>\n",
       "      <td>2.0</td>\n",
       "      <td>1260759151</td>\n",
       "    </tr>\n",
       "    <tr>\n",
       "      <th>6</th>\n",
       "      <td>1</td>\n",
       "      <td>1287</td>\n",
       "      <td>2.0</td>\n",
       "      <td>1260759187</td>\n",
       "    </tr>\n",
       "    <tr>\n",
       "      <th>7</th>\n",
       "      <td>1</td>\n",
       "      <td>1293</td>\n",
       "      <td>2.0</td>\n",
       "      <td>1260759148</td>\n",
       "    </tr>\n",
       "    <tr>\n",
       "      <th>8</th>\n",
       "      <td>1</td>\n",
       "      <td>1339</td>\n",
       "      <td>3.5</td>\n",
       "      <td>1260759125</td>\n",
       "    </tr>\n",
       "    <tr>\n",
       "      <th>9</th>\n",
       "      <td>1</td>\n",
       "      <td>1343</td>\n",
       "      <td>2.0</td>\n",
       "      <td>1260759131</td>\n",
       "    </tr>\n",
       "  </tbody>\n",
       "</table>\n",
       "</div>"
      ],
      "text/plain": [
       "   userId  movieId  rating   timestamp\n",
       "0       1       31     2.5  1260759144\n",
       "1       1     1029     3.0  1260759179\n",
       "2       1     1061     3.0  1260759182\n",
       "3       1     1129     2.0  1260759185\n",
       "4       1     1172     4.0  1260759205\n",
       "5       1     1263     2.0  1260759151\n",
       "6       1     1287     2.0  1260759187\n",
       "7       1     1293     2.0  1260759148\n",
       "8       1     1339     3.5  1260759125\n",
       "9       1     1343     2.0  1260759131"
      ]
     },
     "execution_count": 2,
     "metadata": {},
     "output_type": "execute_result"
    }
   ],
   "source": [
    "# import ratings file\n",
    "# df = pd.read_csv(\"ratings.csv\")\n",
    "# df = pd.read_csv(\"ratings_small.csv\", dtype={\"userId\": int, \"movieId\": str, \"rating\": float, \"timestamp\":int})\n",
    "df = pd.read_csv(\"ratings_small.csv\")\n",
    "df.head(10)"
   ]
  },
  {
   "cell_type": "code",
   "execution_count": 3,
   "metadata": {},
   "outputs": [
    {
     "data": {
      "text/plain": [
       "userId       0\n",
       "movieId      0\n",
       "rating       0\n",
       "timestamp    0\n",
       "dtype: int64"
      ]
     },
     "execution_count": 3,
     "metadata": {},
     "output_type": "execute_result"
    }
   ],
   "source": [
    "# check for null values\n",
    "df.isnull().sum()"
   ]
  },
  {
   "cell_type": "code",
   "execution_count": 4,
   "metadata": {},
   "outputs": [],
   "source": [
    "# convert the timestamp from epoch to datetime\n",
    "df[\"timestamp\"] = pd.to_datetime(df[\"timestamp\"], unit=\"s\")"
   ]
  },
  {
   "cell_type": "code",
   "execution_count": 5,
   "metadata": {},
   "outputs": [
    {
     "data": {
      "text/plain": [
       "userId                int64\n",
       "movieId               int64\n",
       "rating              float64\n",
       "timestamp    datetime64[ns]\n",
       "dtype: object"
      ]
     },
     "execution_count": 5,
     "metadata": {},
     "output_type": "execute_result"
    }
   ],
   "source": [
    "df.dtypes"
   ]
  },
  {
   "cell_type": "code",
   "execution_count": 6,
   "metadata": {},
   "outputs": [
    {
     "data": {
      "text/html": [
       "<div>\n",
       "<style scoped>\n",
       "    .dataframe tbody tr th:only-of-type {\n",
       "        vertical-align: middle;\n",
       "    }\n",
       "\n",
       "    .dataframe tbody tr th {\n",
       "        vertical-align: top;\n",
       "    }\n",
       "\n",
       "    .dataframe thead th {\n",
       "        text-align: right;\n",
       "    }\n",
       "</style>\n",
       "<table border=\"1\" class=\"dataframe\">\n",
       "  <thead>\n",
       "    <tr style=\"text-align: right;\">\n",
       "      <th></th>\n",
       "      <th>movieId</th>\n",
       "      <th>imdbId</th>\n",
       "      <th>tmdbId</th>\n",
       "    </tr>\n",
       "  </thead>\n",
       "  <tbody>\n",
       "    <tr>\n",
       "      <th>0</th>\n",
       "      <td>1</td>\n",
       "      <td>114709</td>\n",
       "      <td>862.0</td>\n",
       "    </tr>\n",
       "    <tr>\n",
       "      <th>1</th>\n",
       "      <td>2</td>\n",
       "      <td>113497</td>\n",
       "      <td>8844.0</td>\n",
       "    </tr>\n",
       "    <tr>\n",
       "      <th>2</th>\n",
       "      <td>3</td>\n",
       "      <td>113228</td>\n",
       "      <td>15602.0</td>\n",
       "    </tr>\n",
       "    <tr>\n",
       "      <th>3</th>\n",
       "      <td>4</td>\n",
       "      <td>114885</td>\n",
       "      <td>31357.0</td>\n",
       "    </tr>\n",
       "    <tr>\n",
       "      <th>4</th>\n",
       "      <td>5</td>\n",
       "      <td>113041</td>\n",
       "      <td>11862.0</td>\n",
       "    </tr>\n",
       "  </tbody>\n",
       "</table>\n",
       "</div>"
      ],
      "text/plain": [
       "   movieId  imdbId   tmdbId\n",
       "0        1  114709    862.0\n",
       "1        2  113497   8844.0\n",
       "2        3  113228  15602.0\n",
       "3        4  114885  31357.0\n",
       "4        5  113041  11862.0"
      ]
     },
     "execution_count": 6,
     "metadata": {},
     "output_type": "execute_result"
    }
   ],
   "source": [
    "# loading links_small.csv\n",
    "links_df = pd.read_csv(\"links_small.csv\")\n",
    "links_df.head()"
   ]
  },
  {
   "cell_type": "code",
   "execution_count": 7,
   "metadata": {},
   "outputs": [
    {
     "name": "stdout",
     "output_type": "stream",
     "text": [
      "(9125, 3)\n"
     ]
    },
    {
     "data": {
      "text/plain": [
       "movieId     0\n",
       "imdbId      0\n",
       "tmdbId     13\n",
       "dtype: int64"
      ]
     },
     "execution_count": 7,
     "metadata": {},
     "output_type": "execute_result"
    }
   ],
   "source": [
    "print(links_df.shape)\n",
    "links_df.isnull().sum()"
   ]
  },
  {
   "cell_type": "code",
   "execution_count": 8,
   "metadata": {},
   "outputs": [
    {
     "data": {
      "text/plain": [
       "(9112, 3)"
      ]
     },
     "execution_count": 8,
     "metadata": {},
     "output_type": "execute_result"
    }
   ],
   "source": [
    "links_df.dropna(inplace=True)\n",
    "links_df.shape"
   ]
  },
  {
   "cell_type": "code",
   "execution_count": 9,
   "metadata": {},
   "outputs": [
    {
     "data": {
      "text/html": [
       "<div>\n",
       "<style scoped>\n",
       "    .dataframe tbody tr th:only-of-type {\n",
       "        vertical-align: middle;\n",
       "    }\n",
       "\n",
       "    .dataframe tbody tr th {\n",
       "        vertical-align: top;\n",
       "    }\n",
       "\n",
       "    .dataframe thead th {\n",
       "        text-align: right;\n",
       "    }\n",
       "</style>\n",
       "<table border=\"1\" class=\"dataframe\">\n",
       "  <thead>\n",
       "    <tr style=\"text-align: right;\">\n",
       "      <th></th>\n",
       "      <th>movieId</th>\n",
       "      <th>imdbId</th>\n",
       "      <th>tmdbId</th>\n",
       "    </tr>\n",
       "  </thead>\n",
       "  <tbody>\n",
       "    <tr>\n",
       "      <th>0</th>\n",
       "      <td>1</td>\n",
       "      <td>114709</td>\n",
       "      <td>862</td>\n",
       "    </tr>\n",
       "    <tr>\n",
       "      <th>1</th>\n",
       "      <td>2</td>\n",
       "      <td>113497</td>\n",
       "      <td>8844</td>\n",
       "    </tr>\n",
       "    <tr>\n",
       "      <th>2</th>\n",
       "      <td>3</td>\n",
       "      <td>113228</td>\n",
       "      <td>15602</td>\n",
       "    </tr>\n",
       "    <tr>\n",
       "      <th>3</th>\n",
       "      <td>4</td>\n",
       "      <td>114885</td>\n",
       "      <td>31357</td>\n",
       "    </tr>\n",
       "    <tr>\n",
       "      <th>4</th>\n",
       "      <td>5</td>\n",
       "      <td>113041</td>\n",
       "      <td>11862</td>\n",
       "    </tr>\n",
       "  </tbody>\n",
       "</table>\n",
       "</div>"
      ],
      "text/plain": [
       "   movieId  imdbId  tmdbId\n",
       "0        1  114709     862\n",
       "1        2  113497    8844\n",
       "2        3  113228   15602\n",
       "3        4  114885   31357\n",
       "4        5  113041   11862"
      ]
     },
     "execution_count": 9,
     "metadata": {},
     "output_type": "execute_result"
    }
   ],
   "source": [
    "links_df[\"tmdbId\"] = links_df[\"tmdbId\"].apply(lambda x: int(x))\n",
    "links_df.head()"
   ]
  },
  {
   "cell_type": "code",
   "execution_count": 10,
   "metadata": {},
   "outputs": [
    {
     "data": {
      "text/html": [
       "<div>\n",
       "<style scoped>\n",
       "    .dataframe tbody tr th:only-of-type {\n",
       "        vertical-align: middle;\n",
       "    }\n",
       "\n",
       "    .dataframe tbody tr th {\n",
       "        vertical-align: top;\n",
       "    }\n",
       "\n",
       "    .dataframe thead th {\n",
       "        text-align: right;\n",
       "    }\n",
       "</style>\n",
       "<table border=\"1\" class=\"dataframe\">\n",
       "  <thead>\n",
       "    <tr style=\"text-align: right;\">\n",
       "      <th></th>\n",
       "      <th>userId</th>\n",
       "      <th>movieId</th>\n",
       "      <th>rating</th>\n",
       "      <th>timestamp</th>\n",
       "      <th>tmdbId</th>\n",
       "    </tr>\n",
       "  </thead>\n",
       "  <tbody>\n",
       "    <tr>\n",
       "      <th>0</th>\n",
       "      <td>1</td>\n",
       "      <td>31</td>\n",
       "      <td>2.5</td>\n",
       "      <td>2009-12-14 02:52:24</td>\n",
       "      <td>9909</td>\n",
       "    </tr>\n",
       "    <tr>\n",
       "      <th>1</th>\n",
       "      <td>7</td>\n",
       "      <td>31</td>\n",
       "      <td>3.0</td>\n",
       "      <td>1996-12-29 14:12:30</td>\n",
       "      <td>9909</td>\n",
       "    </tr>\n",
       "    <tr>\n",
       "      <th>2</th>\n",
       "      <td>31</td>\n",
       "      <td>31</td>\n",
       "      <td>4.0</td>\n",
       "      <td>2010-05-11 01:39:13</td>\n",
       "      <td>9909</td>\n",
       "    </tr>\n",
       "    <tr>\n",
       "      <th>3</th>\n",
       "      <td>32</td>\n",
       "      <td>31</td>\n",
       "      <td>4.0</td>\n",
       "      <td>1996-06-15 08:47:20</td>\n",
       "      <td>9909</td>\n",
       "    </tr>\n",
       "    <tr>\n",
       "      <th>4</th>\n",
       "      <td>36</td>\n",
       "      <td>31</td>\n",
       "      <td>3.0</td>\n",
       "      <td>1996-11-03 21:40:02</td>\n",
       "      <td>9909</td>\n",
       "    </tr>\n",
       "  </tbody>\n",
       "</table>\n",
       "</div>"
      ],
      "text/plain": [
       "   userId  movieId  rating           timestamp  tmdbId\n",
       "0       1       31     2.5 2009-12-14 02:52:24    9909\n",
       "1       7       31     3.0 1996-12-29 14:12:30    9909\n",
       "2      31       31     4.0 2010-05-11 01:39:13    9909\n",
       "3      32       31     4.0 1996-06-15 08:47:20    9909\n",
       "4      36       31     3.0 1996-11-03 21:40:02    9909"
      ]
     },
     "execution_count": 10,
     "metadata": {},
     "output_type": "execute_result"
    }
   ],
   "source": [
    "# merge user ratings file with links file. \n",
    "df = df.merge(links_df[[\"movieId\", \"tmdbId\"]], left_on=\"movieId\", right_on=\"movieId\")\n",
    "df.head()"
   ]
  },
  {
   "cell_type": "code",
   "execution_count": 11,
   "metadata": {},
   "outputs": [
    {
     "data": {
      "text/html": [
       "<div>\n",
       "<style scoped>\n",
       "    .dataframe tbody tr th:only-of-type {\n",
       "        vertical-align: middle;\n",
       "    }\n",
       "\n",
       "    .dataframe tbody tr th {\n",
       "        vertical-align: top;\n",
       "    }\n",
       "\n",
       "    .dataframe thead th {\n",
       "        text-align: right;\n",
       "    }\n",
       "</style>\n",
       "<table border=\"1\" class=\"dataframe\">\n",
       "  <thead>\n",
       "    <tr style=\"text-align: right;\">\n",
       "      <th></th>\n",
       "      <th>adult</th>\n",
       "      <th>belongs_to_collection</th>\n",
       "      <th>budget</th>\n",
       "      <th>genres</th>\n",
       "      <th>homepage</th>\n",
       "      <th>id</th>\n",
       "      <th>imdb_id</th>\n",
       "      <th>original_language</th>\n",
       "      <th>original_title</th>\n",
       "      <th>overview</th>\n",
       "      <th>...</th>\n",
       "      <th>release_date</th>\n",
       "      <th>revenue</th>\n",
       "      <th>runtime</th>\n",
       "      <th>spoken_languages</th>\n",
       "      <th>status</th>\n",
       "      <th>tagline</th>\n",
       "      <th>title</th>\n",
       "      <th>video</th>\n",
       "      <th>vote_average</th>\n",
       "      <th>vote_count</th>\n",
       "    </tr>\n",
       "  </thead>\n",
       "  <tbody>\n",
       "    <tr>\n",
       "      <th>0</th>\n",
       "      <td>False</td>\n",
       "      <td>{'id': 10194, 'name': 'Toy Story Collection', ...</td>\n",
       "      <td>30000000</td>\n",
       "      <td>[{'id': 16, 'name': 'Animation'}, {'id': 35, '...</td>\n",
       "      <td>http://toystory.disney.com/toy-story</td>\n",
       "      <td>862</td>\n",
       "      <td>tt0114709</td>\n",
       "      <td>en</td>\n",
       "      <td>Toy Story</td>\n",
       "      <td>Led by Woody, Andy's toys live happily in his ...</td>\n",
       "      <td>...</td>\n",
       "      <td>1995-10-30</td>\n",
       "      <td>373554033.0</td>\n",
       "      <td>81.0</td>\n",
       "      <td>[{'iso_639_1': 'en', 'name': 'English'}]</td>\n",
       "      <td>Released</td>\n",
       "      <td>NaN</td>\n",
       "      <td>Toy Story</td>\n",
       "      <td>False</td>\n",
       "      <td>7.7</td>\n",
       "      <td>5415.0</td>\n",
       "    </tr>\n",
       "    <tr>\n",
       "      <th>1</th>\n",
       "      <td>False</td>\n",
       "      <td>NaN</td>\n",
       "      <td>65000000</td>\n",
       "      <td>[{'id': 12, 'name': 'Adventure'}, {'id': 14, '...</td>\n",
       "      <td>NaN</td>\n",
       "      <td>8844</td>\n",
       "      <td>tt0113497</td>\n",
       "      <td>en</td>\n",
       "      <td>Jumanji</td>\n",
       "      <td>When siblings Judy and Peter discover an encha...</td>\n",
       "      <td>...</td>\n",
       "      <td>1995-12-15</td>\n",
       "      <td>262797249.0</td>\n",
       "      <td>104.0</td>\n",
       "      <td>[{'iso_639_1': 'en', 'name': 'English'}, {'iso...</td>\n",
       "      <td>Released</td>\n",
       "      <td>Roll the dice and unleash the excitement!</td>\n",
       "      <td>Jumanji</td>\n",
       "      <td>False</td>\n",
       "      <td>6.9</td>\n",
       "      <td>2413.0</td>\n",
       "    </tr>\n",
       "    <tr>\n",
       "      <th>2</th>\n",
       "      <td>False</td>\n",
       "      <td>{'id': 119050, 'name': 'Grumpy Old Men Collect...</td>\n",
       "      <td>0</td>\n",
       "      <td>[{'id': 10749, 'name': 'Romance'}, {'id': 35, ...</td>\n",
       "      <td>NaN</td>\n",
       "      <td>15602</td>\n",
       "      <td>tt0113228</td>\n",
       "      <td>en</td>\n",
       "      <td>Grumpier Old Men</td>\n",
       "      <td>A family wedding reignites the ancient feud be...</td>\n",
       "      <td>...</td>\n",
       "      <td>1995-12-22</td>\n",
       "      <td>0.0</td>\n",
       "      <td>101.0</td>\n",
       "      <td>[{'iso_639_1': 'en', 'name': 'English'}]</td>\n",
       "      <td>Released</td>\n",
       "      <td>Still Yelling. Still Fighting. Still Ready for...</td>\n",
       "      <td>Grumpier Old Men</td>\n",
       "      <td>False</td>\n",
       "      <td>6.5</td>\n",
       "      <td>92.0</td>\n",
       "    </tr>\n",
       "    <tr>\n",
       "      <th>3</th>\n",
       "      <td>False</td>\n",
       "      <td>NaN</td>\n",
       "      <td>16000000</td>\n",
       "      <td>[{'id': 35, 'name': 'Comedy'}, {'id': 18, 'nam...</td>\n",
       "      <td>NaN</td>\n",
       "      <td>31357</td>\n",
       "      <td>tt0114885</td>\n",
       "      <td>en</td>\n",
       "      <td>Waiting to Exhale</td>\n",
       "      <td>Cheated on, mistreated and stepped on, the wom...</td>\n",
       "      <td>...</td>\n",
       "      <td>1995-12-22</td>\n",
       "      <td>81452156.0</td>\n",
       "      <td>127.0</td>\n",
       "      <td>[{'iso_639_1': 'en', 'name': 'English'}]</td>\n",
       "      <td>Released</td>\n",
       "      <td>Friends are the people who let you be yourself...</td>\n",
       "      <td>Waiting to Exhale</td>\n",
       "      <td>False</td>\n",
       "      <td>6.1</td>\n",
       "      <td>34.0</td>\n",
       "    </tr>\n",
       "    <tr>\n",
       "      <th>4</th>\n",
       "      <td>False</td>\n",
       "      <td>{'id': 96871, 'name': 'Father of the Bride Col...</td>\n",
       "      <td>0</td>\n",
       "      <td>[{'id': 35, 'name': 'Comedy'}]</td>\n",
       "      <td>NaN</td>\n",
       "      <td>11862</td>\n",
       "      <td>tt0113041</td>\n",
       "      <td>en</td>\n",
       "      <td>Father of the Bride Part II</td>\n",
       "      <td>Just when George Banks has recovered from his ...</td>\n",
       "      <td>...</td>\n",
       "      <td>1995-02-10</td>\n",
       "      <td>76578911.0</td>\n",
       "      <td>106.0</td>\n",
       "      <td>[{'iso_639_1': 'en', 'name': 'English'}]</td>\n",
       "      <td>Released</td>\n",
       "      <td>Just When His World Is Back To Normal... He's ...</td>\n",
       "      <td>Father of the Bride Part II</td>\n",
       "      <td>False</td>\n",
       "      <td>5.7</td>\n",
       "      <td>173.0</td>\n",
       "    </tr>\n",
       "  </tbody>\n",
       "</table>\n",
       "<p>5 rows × 24 columns</p>\n",
       "</div>"
      ],
      "text/plain": [
       "   adult                              belongs_to_collection    budget  \\\n",
       "0  False  {'id': 10194, 'name': 'Toy Story Collection', ...  30000000   \n",
       "1  False                                                NaN  65000000   \n",
       "2  False  {'id': 119050, 'name': 'Grumpy Old Men Collect...         0   \n",
       "3  False                                                NaN  16000000   \n",
       "4  False  {'id': 96871, 'name': 'Father of the Bride Col...         0   \n",
       "\n",
       "                                              genres  \\\n",
       "0  [{'id': 16, 'name': 'Animation'}, {'id': 35, '...   \n",
       "1  [{'id': 12, 'name': 'Adventure'}, {'id': 14, '...   \n",
       "2  [{'id': 10749, 'name': 'Romance'}, {'id': 35, ...   \n",
       "3  [{'id': 35, 'name': 'Comedy'}, {'id': 18, 'nam...   \n",
       "4                     [{'id': 35, 'name': 'Comedy'}]   \n",
       "\n",
       "                               homepage     id    imdb_id original_language  \\\n",
       "0  http://toystory.disney.com/toy-story    862  tt0114709                en   \n",
       "1                                   NaN   8844  tt0113497                en   \n",
       "2                                   NaN  15602  tt0113228                en   \n",
       "3                                   NaN  31357  tt0114885                en   \n",
       "4                                   NaN  11862  tt0113041                en   \n",
       "\n",
       "                original_title  \\\n",
       "0                    Toy Story   \n",
       "1                      Jumanji   \n",
       "2             Grumpier Old Men   \n",
       "3            Waiting to Exhale   \n",
       "4  Father of the Bride Part II   \n",
       "\n",
       "                                            overview  ... release_date  \\\n",
       "0  Led by Woody, Andy's toys live happily in his ...  ...   1995-10-30   \n",
       "1  When siblings Judy and Peter discover an encha...  ...   1995-12-15   \n",
       "2  A family wedding reignites the ancient feud be...  ...   1995-12-22   \n",
       "3  Cheated on, mistreated and stepped on, the wom...  ...   1995-12-22   \n",
       "4  Just when George Banks has recovered from his ...  ...   1995-02-10   \n",
       "\n",
       "       revenue runtime                                   spoken_languages  \\\n",
       "0  373554033.0    81.0           [{'iso_639_1': 'en', 'name': 'English'}]   \n",
       "1  262797249.0   104.0  [{'iso_639_1': 'en', 'name': 'English'}, {'iso...   \n",
       "2          0.0   101.0           [{'iso_639_1': 'en', 'name': 'English'}]   \n",
       "3   81452156.0   127.0           [{'iso_639_1': 'en', 'name': 'English'}]   \n",
       "4   76578911.0   106.0           [{'iso_639_1': 'en', 'name': 'English'}]   \n",
       "\n",
       "     status                                            tagline  \\\n",
       "0  Released                                                NaN   \n",
       "1  Released          Roll the dice and unleash the excitement!   \n",
       "2  Released  Still Yelling. Still Fighting. Still Ready for...   \n",
       "3  Released  Friends are the people who let you be yourself...   \n",
       "4  Released  Just When His World Is Back To Normal... He's ...   \n",
       "\n",
       "                         title  video vote_average vote_count  \n",
       "0                    Toy Story  False          7.7     5415.0  \n",
       "1                      Jumanji  False          6.9     2413.0  \n",
       "2             Grumpier Old Men  False          6.5       92.0  \n",
       "3            Waiting to Exhale  False          6.1       34.0  \n",
       "4  Father of the Bride Part II  False          5.7      173.0  \n",
       "\n",
       "[5 rows x 24 columns]"
      ]
     },
     "execution_count": 11,
     "metadata": {},
     "output_type": "execute_result"
    }
   ],
   "source": [
    "# import movies dataset\n",
    "movies = pd.read_csv(\"movies_metadata.csv\", low_memory=False)\n",
    "movies.head()"
   ]
  },
  {
   "cell_type": "code",
   "execution_count": 12,
   "metadata": {},
   "outputs": [
    {
     "data": {
      "text/plain": [
       "adult                     object\n",
       "belongs_to_collection     object\n",
       "budget                    object\n",
       "genres                    object\n",
       "homepage                  object\n",
       "id                        object\n",
       "imdb_id                   object\n",
       "original_language         object\n",
       "original_title            object\n",
       "overview                  object\n",
       "popularity                object\n",
       "poster_path               object\n",
       "production_companies      object\n",
       "production_countries      object\n",
       "release_date              object\n",
       "revenue                  float64\n",
       "runtime                  float64\n",
       "spoken_languages          object\n",
       "status                    object\n",
       "tagline                   object\n",
       "title                     object\n",
       "video                     object\n",
       "vote_average             float64\n",
       "vote_count               float64\n",
       "dtype: object"
      ]
     },
     "execution_count": 12,
     "metadata": {},
     "output_type": "execute_result"
    }
   ],
   "source": [
    "movies.dtypes"
   ]
  },
  {
   "cell_type": "markdown",
   "metadata": {},
   "source": [
    "The column adult in the movies_metatdata.csv indicates whether the film is adult rated or not. <br>\n",
    "As such, we are expecting only True or False value. <br>\n",
    "The following commands are executed to check consistency of data. "
   ]
  },
  {
   "cell_type": "code",
   "execution_count": 13,
   "metadata": {},
   "outputs": [
    {
     "data": {
      "text/plain": [
       "array(['False', 'True', ' - Written by Ørnås',\n",
       "       ' Rune Balot goes to a casino connected to the October corporation to try to wrap up her case once and for all.',\n",
       "       ' Avalanche Sharks tells the story of a bikini contest that turns into a horrifying affair when it is hit by a shark avalanche.'],\n",
       "      dtype=object)"
      ]
     },
     "execution_count": 13,
     "metadata": {},
     "output_type": "execute_result"
    }
   ],
   "source": [
    "# check for inconsistent data\n",
    "movies[\"adult\"].unique()"
   ]
  },
  {
   "cell_type": "markdown",
   "metadata": {},
   "source": [
    "There are rows in the adult column which have values other than True and False. <br>\n",
    "Those values will be filtered out "
   ]
  },
  {
   "cell_type": "code",
   "execution_count": 14,
   "metadata": {},
   "outputs": [],
   "source": [
    "movies = movies[(movies[\"adult\"]==\"True\") | (movies[\"adult\"]==\"False\")]"
   ]
  },
  {
   "cell_type": "code",
   "execution_count": 15,
   "metadata": {},
   "outputs": [],
   "source": [
    "movies.to_csv(\"movies_metadata_filtered.csv\", index=False)"
   ]
  },
  {
   "cell_type": "code",
   "execution_count": 16,
   "metadata": {},
   "outputs": [],
   "source": [
    "import ast\n",
    "movies = pd.read_csv(\"movies_metadata_filtered.csv\", converters={\"genres\": ast.literal_eval}, low_memory=False)"
   ]
  },
  {
   "cell_type": "code",
   "execution_count": 17,
   "metadata": {},
   "outputs": [
    {
     "data": {
      "text/plain": [
       "adult                       bool\n",
       "belongs_to_collection     object\n",
       "budget                     int64\n",
       "genres                    object\n",
       "homepage                  object\n",
       "id                         int64\n",
       "imdb_id                   object\n",
       "original_language         object\n",
       "original_title            object\n",
       "overview                  object\n",
       "popularity               float64\n",
       "poster_path               object\n",
       "production_companies      object\n",
       "production_countries      object\n",
       "release_date              object\n",
       "revenue                  float64\n",
       "runtime                  float64\n",
       "spoken_languages          object\n",
       "status                    object\n",
       "tagline                   object\n",
       "title                     object\n",
       "video                     object\n",
       "vote_average             float64\n",
       "vote_count               float64\n",
       "dtype: object"
      ]
     },
     "execution_count": 17,
     "metadata": {},
     "output_type": "execute_result"
    }
   ],
   "source": [
    "movies.dtypes"
   ]
  },
  {
   "cell_type": "code",
   "execution_count": 18,
   "metadata": {},
   "outputs": [
    {
     "data": {
      "text/html": [
       "<div>\n",
       "<style scoped>\n",
       "    .dataframe tbody tr th:only-of-type {\n",
       "        vertical-align: middle;\n",
       "    }\n",
       "\n",
       "    .dataframe tbody tr th {\n",
       "        vertical-align: top;\n",
       "    }\n",
       "\n",
       "    .dataframe thead th {\n",
       "        text-align: right;\n",
       "    }\n",
       "</style>\n",
       "<table border=\"1\" class=\"dataframe\">\n",
       "  <thead>\n",
       "    <tr style=\"text-align: right;\">\n",
       "      <th></th>\n",
       "      <th>adult</th>\n",
       "      <th>belongs_to_collection</th>\n",
       "      <th>budget</th>\n",
       "      <th>genres</th>\n",
       "      <th>homepage</th>\n",
       "      <th>id</th>\n",
       "      <th>imdb_id</th>\n",
       "      <th>original_language</th>\n",
       "      <th>original_title</th>\n",
       "      <th>overview</th>\n",
       "      <th>...</th>\n",
       "      <th>release_date</th>\n",
       "      <th>revenue</th>\n",
       "      <th>runtime</th>\n",
       "      <th>spoken_languages</th>\n",
       "      <th>status</th>\n",
       "      <th>tagline</th>\n",
       "      <th>title</th>\n",
       "      <th>video</th>\n",
       "      <th>vote_average</th>\n",
       "      <th>vote_count</th>\n",
       "    </tr>\n",
       "  </thead>\n",
       "  <tbody>\n",
       "    <tr>\n",
       "      <th>0</th>\n",
       "      <td>False</td>\n",
       "      <td>{'id': 10194, 'name': 'Toy Story Collection', ...</td>\n",
       "      <td>30000000</td>\n",
       "      <td>[{'id': 16, 'name': 'Animation'}, {'id': 35, '...</td>\n",
       "      <td>http://toystory.disney.com/toy-story</td>\n",
       "      <td>862</td>\n",
       "      <td>tt0114709</td>\n",
       "      <td>en</td>\n",
       "      <td>Toy Story</td>\n",
       "      <td>Led by Woody, Andy's toys live happily in his ...</td>\n",
       "      <td>...</td>\n",
       "      <td>1995-10-30</td>\n",
       "      <td>373554033.0</td>\n",
       "      <td>81.0</td>\n",
       "      <td>[{'iso_639_1': 'en', 'name': 'English'}]</td>\n",
       "      <td>Released</td>\n",
       "      <td>NaN</td>\n",
       "      <td>Toy Story</td>\n",
       "      <td>False</td>\n",
       "      <td>7.7</td>\n",
       "      <td>5415.0</td>\n",
       "    </tr>\n",
       "    <tr>\n",
       "      <th>1</th>\n",
       "      <td>False</td>\n",
       "      <td>NaN</td>\n",
       "      <td>65000000</td>\n",
       "      <td>[{'id': 12, 'name': 'Adventure'}, {'id': 14, '...</td>\n",
       "      <td>NaN</td>\n",
       "      <td>8844</td>\n",
       "      <td>tt0113497</td>\n",
       "      <td>en</td>\n",
       "      <td>Jumanji</td>\n",
       "      <td>When siblings Judy and Peter discover an encha...</td>\n",
       "      <td>...</td>\n",
       "      <td>1995-12-15</td>\n",
       "      <td>262797249.0</td>\n",
       "      <td>104.0</td>\n",
       "      <td>[{'iso_639_1': 'en', 'name': 'English'}, {'iso...</td>\n",
       "      <td>Released</td>\n",
       "      <td>Roll the dice and unleash the excitement!</td>\n",
       "      <td>Jumanji</td>\n",
       "      <td>False</td>\n",
       "      <td>6.9</td>\n",
       "      <td>2413.0</td>\n",
       "    </tr>\n",
       "    <tr>\n",
       "      <th>2</th>\n",
       "      <td>False</td>\n",
       "      <td>{'id': 119050, 'name': 'Grumpy Old Men Collect...</td>\n",
       "      <td>0</td>\n",
       "      <td>[{'id': 10749, 'name': 'Romance'}, {'id': 35, ...</td>\n",
       "      <td>NaN</td>\n",
       "      <td>15602</td>\n",
       "      <td>tt0113228</td>\n",
       "      <td>en</td>\n",
       "      <td>Grumpier Old Men</td>\n",
       "      <td>A family wedding reignites the ancient feud be...</td>\n",
       "      <td>...</td>\n",
       "      <td>1995-12-22</td>\n",
       "      <td>0.0</td>\n",
       "      <td>101.0</td>\n",
       "      <td>[{'iso_639_1': 'en', 'name': 'English'}]</td>\n",
       "      <td>Released</td>\n",
       "      <td>Still Yelling. Still Fighting. Still Ready for...</td>\n",
       "      <td>Grumpier Old Men</td>\n",
       "      <td>False</td>\n",
       "      <td>6.5</td>\n",
       "      <td>92.0</td>\n",
       "    </tr>\n",
       "    <tr>\n",
       "      <th>3</th>\n",
       "      <td>False</td>\n",
       "      <td>NaN</td>\n",
       "      <td>16000000</td>\n",
       "      <td>[{'id': 35, 'name': 'Comedy'}, {'id': 18, 'nam...</td>\n",
       "      <td>NaN</td>\n",
       "      <td>31357</td>\n",
       "      <td>tt0114885</td>\n",
       "      <td>en</td>\n",
       "      <td>Waiting to Exhale</td>\n",
       "      <td>Cheated on, mistreated and stepped on, the wom...</td>\n",
       "      <td>...</td>\n",
       "      <td>1995-12-22</td>\n",
       "      <td>81452156.0</td>\n",
       "      <td>127.0</td>\n",
       "      <td>[{'iso_639_1': 'en', 'name': 'English'}]</td>\n",
       "      <td>Released</td>\n",
       "      <td>Friends are the people who let you be yourself...</td>\n",
       "      <td>Waiting to Exhale</td>\n",
       "      <td>False</td>\n",
       "      <td>6.1</td>\n",
       "      <td>34.0</td>\n",
       "    </tr>\n",
       "    <tr>\n",
       "      <th>4</th>\n",
       "      <td>False</td>\n",
       "      <td>{'id': 96871, 'name': 'Father of the Bride Col...</td>\n",
       "      <td>0</td>\n",
       "      <td>[{'id': 35, 'name': 'Comedy'}]</td>\n",
       "      <td>NaN</td>\n",
       "      <td>11862</td>\n",
       "      <td>tt0113041</td>\n",
       "      <td>en</td>\n",
       "      <td>Father of the Bride Part II</td>\n",
       "      <td>Just when George Banks has recovered from his ...</td>\n",
       "      <td>...</td>\n",
       "      <td>1995-02-10</td>\n",
       "      <td>76578911.0</td>\n",
       "      <td>106.0</td>\n",
       "      <td>[{'iso_639_1': 'en', 'name': 'English'}]</td>\n",
       "      <td>Released</td>\n",
       "      <td>Just When His World Is Back To Normal... He's ...</td>\n",
       "      <td>Father of the Bride Part II</td>\n",
       "      <td>False</td>\n",
       "      <td>5.7</td>\n",
       "      <td>173.0</td>\n",
       "    </tr>\n",
       "  </tbody>\n",
       "</table>\n",
       "<p>5 rows × 24 columns</p>\n",
       "</div>"
      ],
      "text/plain": [
       "   adult                              belongs_to_collection    budget  \\\n",
       "0  False  {'id': 10194, 'name': 'Toy Story Collection', ...  30000000   \n",
       "1  False                                                NaN  65000000   \n",
       "2  False  {'id': 119050, 'name': 'Grumpy Old Men Collect...         0   \n",
       "3  False                                                NaN  16000000   \n",
       "4  False  {'id': 96871, 'name': 'Father of the Bride Col...         0   \n",
       "\n",
       "                                              genres  \\\n",
       "0  [{'id': 16, 'name': 'Animation'}, {'id': 35, '...   \n",
       "1  [{'id': 12, 'name': 'Adventure'}, {'id': 14, '...   \n",
       "2  [{'id': 10749, 'name': 'Romance'}, {'id': 35, ...   \n",
       "3  [{'id': 35, 'name': 'Comedy'}, {'id': 18, 'nam...   \n",
       "4                     [{'id': 35, 'name': 'Comedy'}]   \n",
       "\n",
       "                               homepage     id    imdb_id original_language  \\\n",
       "0  http://toystory.disney.com/toy-story    862  tt0114709                en   \n",
       "1                                   NaN   8844  tt0113497                en   \n",
       "2                                   NaN  15602  tt0113228                en   \n",
       "3                                   NaN  31357  tt0114885                en   \n",
       "4                                   NaN  11862  tt0113041                en   \n",
       "\n",
       "                original_title  \\\n",
       "0                    Toy Story   \n",
       "1                      Jumanji   \n",
       "2             Grumpier Old Men   \n",
       "3            Waiting to Exhale   \n",
       "4  Father of the Bride Part II   \n",
       "\n",
       "                                            overview  ...  release_date  \\\n",
       "0  Led by Woody, Andy's toys live happily in his ...  ...    1995-10-30   \n",
       "1  When siblings Judy and Peter discover an encha...  ...    1995-12-15   \n",
       "2  A family wedding reignites the ancient feud be...  ...    1995-12-22   \n",
       "3  Cheated on, mistreated and stepped on, the wom...  ...    1995-12-22   \n",
       "4  Just when George Banks has recovered from his ...  ...    1995-02-10   \n",
       "\n",
       "       revenue runtime                                   spoken_languages  \\\n",
       "0  373554033.0    81.0           [{'iso_639_1': 'en', 'name': 'English'}]   \n",
       "1  262797249.0   104.0  [{'iso_639_1': 'en', 'name': 'English'}, {'iso...   \n",
       "2          0.0   101.0           [{'iso_639_1': 'en', 'name': 'English'}]   \n",
       "3   81452156.0   127.0           [{'iso_639_1': 'en', 'name': 'English'}]   \n",
       "4   76578911.0   106.0           [{'iso_639_1': 'en', 'name': 'English'}]   \n",
       "\n",
       "     status                                            tagline  \\\n",
       "0  Released                                                NaN   \n",
       "1  Released          Roll the dice and unleash the excitement!   \n",
       "2  Released  Still Yelling. Still Fighting. Still Ready for...   \n",
       "3  Released  Friends are the people who let you be yourself...   \n",
       "4  Released  Just When His World Is Back To Normal... He's ...   \n",
       "\n",
       "                         title  video vote_average vote_count  \n",
       "0                    Toy Story  False          7.7     5415.0  \n",
       "1                      Jumanji  False          6.9     2413.0  \n",
       "2             Grumpier Old Men  False          6.5       92.0  \n",
       "3            Waiting to Exhale  False          6.1       34.0  \n",
       "4  Father of the Bride Part II  False          5.7      173.0  \n",
       "\n",
       "[5 rows x 24 columns]"
      ]
     },
     "execution_count": 18,
     "metadata": {},
     "output_type": "execute_result"
    }
   ],
   "source": [
    "movies.head()"
   ]
  },
  {
   "cell_type": "code",
   "execution_count": 19,
   "metadata": {},
   "outputs": [
    {
     "name": "stdout",
     "output_type": "stream",
     "text": [
      "[{'id': 12, 'name': 'Adventure'}, {'id': 14, 'name': 'Fantasy'}, {'id': 10751, 'name': 'Family'}]\n"
     ]
    }
   ],
   "source": [
    "print(movies.iloc[1,3])"
   ]
  },
  {
   "cell_type": "markdown",
   "metadata": {},
   "source": [
    "Some data are stored in list of dictionaries, for instance genre and spoken_language. A function is written to change the list into a simple string"
   ]
  },
  {
   "cell_type": "code",
   "execution_count": 20,
   "metadata": {},
   "outputs": [
    {
     "data": {
      "text/html": [
       "<div>\n",
       "<style scoped>\n",
       "    .dataframe tbody tr th:only-of-type {\n",
       "        vertical-align: middle;\n",
       "    }\n",
       "\n",
       "    .dataframe tbody tr th {\n",
       "        vertical-align: top;\n",
       "    }\n",
       "\n",
       "    .dataframe thead th {\n",
       "        text-align: right;\n",
       "    }\n",
       "</style>\n",
       "<table border=\"1\" class=\"dataframe\">\n",
       "  <thead>\n",
       "    <tr style=\"text-align: right;\">\n",
       "      <th></th>\n",
       "      <th>adult</th>\n",
       "      <th>belongs_to_collection</th>\n",
       "      <th>budget</th>\n",
       "      <th>genres</th>\n",
       "      <th>homepage</th>\n",
       "      <th>id</th>\n",
       "      <th>imdb_id</th>\n",
       "      <th>original_language</th>\n",
       "      <th>original_title</th>\n",
       "      <th>overview</th>\n",
       "      <th>...</th>\n",
       "      <th>revenue</th>\n",
       "      <th>runtime</th>\n",
       "      <th>spoken_languages</th>\n",
       "      <th>status</th>\n",
       "      <th>tagline</th>\n",
       "      <th>title</th>\n",
       "      <th>video</th>\n",
       "      <th>vote_average</th>\n",
       "      <th>vote_count</th>\n",
       "      <th>genre</th>\n",
       "    </tr>\n",
       "  </thead>\n",
       "  <tbody>\n",
       "    <tr>\n",
       "      <th>0</th>\n",
       "      <td>False</td>\n",
       "      <td>{'id': 10194, 'name': 'Toy Story Collection', ...</td>\n",
       "      <td>30000000</td>\n",
       "      <td>[{'id': 16, 'name': 'Animation'}, {'id': 35, '...</td>\n",
       "      <td>http://toystory.disney.com/toy-story</td>\n",
       "      <td>862</td>\n",
       "      <td>tt0114709</td>\n",
       "      <td>en</td>\n",
       "      <td>Toy Story</td>\n",
       "      <td>Led by Woody, Andy's toys live happily in his ...</td>\n",
       "      <td>...</td>\n",
       "      <td>373554033.0</td>\n",
       "      <td>81.0</td>\n",
       "      <td>[{'iso_639_1': 'en', 'name': 'English'}]</td>\n",
       "      <td>Released</td>\n",
       "      <td>NaN</td>\n",
       "      <td>Toy Story</td>\n",
       "      <td>False</td>\n",
       "      <td>7.7</td>\n",
       "      <td>5415.0</td>\n",
       "      <td>Animation, Comedy, Family</td>\n",
       "    </tr>\n",
       "    <tr>\n",
       "      <th>1</th>\n",
       "      <td>False</td>\n",
       "      <td>NaN</td>\n",
       "      <td>65000000</td>\n",
       "      <td>[{'id': 12, 'name': 'Adventure'}, {'id': 14, '...</td>\n",
       "      <td>NaN</td>\n",
       "      <td>8844</td>\n",
       "      <td>tt0113497</td>\n",
       "      <td>en</td>\n",
       "      <td>Jumanji</td>\n",
       "      <td>When siblings Judy and Peter discover an encha...</td>\n",
       "      <td>...</td>\n",
       "      <td>262797249.0</td>\n",
       "      <td>104.0</td>\n",
       "      <td>[{'iso_639_1': 'en', 'name': 'English'}, {'iso...</td>\n",
       "      <td>Released</td>\n",
       "      <td>Roll the dice and unleash the excitement!</td>\n",
       "      <td>Jumanji</td>\n",
       "      <td>False</td>\n",
       "      <td>6.9</td>\n",
       "      <td>2413.0</td>\n",
       "      <td>Adventure, Fantasy, Family</td>\n",
       "    </tr>\n",
       "    <tr>\n",
       "      <th>2</th>\n",
       "      <td>False</td>\n",
       "      <td>{'id': 119050, 'name': 'Grumpy Old Men Collect...</td>\n",
       "      <td>0</td>\n",
       "      <td>[{'id': 10749, 'name': 'Romance'}, {'id': 35, ...</td>\n",
       "      <td>NaN</td>\n",
       "      <td>15602</td>\n",
       "      <td>tt0113228</td>\n",
       "      <td>en</td>\n",
       "      <td>Grumpier Old Men</td>\n",
       "      <td>A family wedding reignites the ancient feud be...</td>\n",
       "      <td>...</td>\n",
       "      <td>0.0</td>\n",
       "      <td>101.0</td>\n",
       "      <td>[{'iso_639_1': 'en', 'name': 'English'}]</td>\n",
       "      <td>Released</td>\n",
       "      <td>Still Yelling. Still Fighting. Still Ready for...</td>\n",
       "      <td>Grumpier Old Men</td>\n",
       "      <td>False</td>\n",
       "      <td>6.5</td>\n",
       "      <td>92.0</td>\n",
       "      <td>Romance, Comedy</td>\n",
       "    </tr>\n",
       "    <tr>\n",
       "      <th>3</th>\n",
       "      <td>False</td>\n",
       "      <td>NaN</td>\n",
       "      <td>16000000</td>\n",
       "      <td>[{'id': 35, 'name': 'Comedy'}, {'id': 18, 'nam...</td>\n",
       "      <td>NaN</td>\n",
       "      <td>31357</td>\n",
       "      <td>tt0114885</td>\n",
       "      <td>en</td>\n",
       "      <td>Waiting to Exhale</td>\n",
       "      <td>Cheated on, mistreated and stepped on, the wom...</td>\n",
       "      <td>...</td>\n",
       "      <td>81452156.0</td>\n",
       "      <td>127.0</td>\n",
       "      <td>[{'iso_639_1': 'en', 'name': 'English'}]</td>\n",
       "      <td>Released</td>\n",
       "      <td>Friends are the people who let you be yourself...</td>\n",
       "      <td>Waiting to Exhale</td>\n",
       "      <td>False</td>\n",
       "      <td>6.1</td>\n",
       "      <td>34.0</td>\n",
       "      <td>Comedy, Drama, Romance</td>\n",
       "    </tr>\n",
       "    <tr>\n",
       "      <th>4</th>\n",
       "      <td>False</td>\n",
       "      <td>{'id': 96871, 'name': 'Father of the Bride Col...</td>\n",
       "      <td>0</td>\n",
       "      <td>[{'id': 35, 'name': 'Comedy'}]</td>\n",
       "      <td>NaN</td>\n",
       "      <td>11862</td>\n",
       "      <td>tt0113041</td>\n",
       "      <td>en</td>\n",
       "      <td>Father of the Bride Part II</td>\n",
       "      <td>Just when George Banks has recovered from his ...</td>\n",
       "      <td>...</td>\n",
       "      <td>76578911.0</td>\n",
       "      <td>106.0</td>\n",
       "      <td>[{'iso_639_1': 'en', 'name': 'English'}]</td>\n",
       "      <td>Released</td>\n",
       "      <td>Just When His World Is Back To Normal... He's ...</td>\n",
       "      <td>Father of the Bride Part II</td>\n",
       "      <td>False</td>\n",
       "      <td>5.7</td>\n",
       "      <td>173.0</td>\n",
       "      <td>Comedy</td>\n",
       "    </tr>\n",
       "  </tbody>\n",
       "</table>\n",
       "<p>5 rows × 25 columns</p>\n",
       "</div>"
      ],
      "text/plain": [
       "   adult                              belongs_to_collection    budget  \\\n",
       "0  False  {'id': 10194, 'name': 'Toy Story Collection', ...  30000000   \n",
       "1  False                                                NaN  65000000   \n",
       "2  False  {'id': 119050, 'name': 'Grumpy Old Men Collect...         0   \n",
       "3  False                                                NaN  16000000   \n",
       "4  False  {'id': 96871, 'name': 'Father of the Bride Col...         0   \n",
       "\n",
       "                                              genres  \\\n",
       "0  [{'id': 16, 'name': 'Animation'}, {'id': 35, '...   \n",
       "1  [{'id': 12, 'name': 'Adventure'}, {'id': 14, '...   \n",
       "2  [{'id': 10749, 'name': 'Romance'}, {'id': 35, ...   \n",
       "3  [{'id': 35, 'name': 'Comedy'}, {'id': 18, 'nam...   \n",
       "4                     [{'id': 35, 'name': 'Comedy'}]   \n",
       "\n",
       "                               homepage     id    imdb_id original_language  \\\n",
       "0  http://toystory.disney.com/toy-story    862  tt0114709                en   \n",
       "1                                   NaN   8844  tt0113497                en   \n",
       "2                                   NaN  15602  tt0113228                en   \n",
       "3                                   NaN  31357  tt0114885                en   \n",
       "4                                   NaN  11862  tt0113041                en   \n",
       "\n",
       "                original_title  \\\n",
       "0                    Toy Story   \n",
       "1                      Jumanji   \n",
       "2             Grumpier Old Men   \n",
       "3            Waiting to Exhale   \n",
       "4  Father of the Bride Part II   \n",
       "\n",
       "                                            overview  ...      revenue  \\\n",
       "0  Led by Woody, Andy's toys live happily in his ...  ...  373554033.0   \n",
       "1  When siblings Judy and Peter discover an encha...  ...  262797249.0   \n",
       "2  A family wedding reignites the ancient feud be...  ...          0.0   \n",
       "3  Cheated on, mistreated and stepped on, the wom...  ...   81452156.0   \n",
       "4  Just when George Banks has recovered from his ...  ...   76578911.0   \n",
       "\n",
       "  runtime                                   spoken_languages    status  \\\n",
       "0    81.0           [{'iso_639_1': 'en', 'name': 'English'}]  Released   \n",
       "1   104.0  [{'iso_639_1': 'en', 'name': 'English'}, {'iso...  Released   \n",
       "2   101.0           [{'iso_639_1': 'en', 'name': 'English'}]  Released   \n",
       "3   127.0           [{'iso_639_1': 'en', 'name': 'English'}]  Released   \n",
       "4   106.0           [{'iso_639_1': 'en', 'name': 'English'}]  Released   \n",
       "\n",
       "                                             tagline  \\\n",
       "0                                                NaN   \n",
       "1          Roll the dice and unleash the excitement!   \n",
       "2  Still Yelling. Still Fighting. Still Ready for...   \n",
       "3  Friends are the people who let you be yourself...   \n",
       "4  Just When His World Is Back To Normal... He's ...   \n",
       "\n",
       "                         title  video vote_average vote_count  \\\n",
       "0                    Toy Story  False          7.7     5415.0   \n",
       "1                      Jumanji  False          6.9     2413.0   \n",
       "2             Grumpier Old Men  False          6.5       92.0   \n",
       "3            Waiting to Exhale  False          6.1       34.0   \n",
       "4  Father of the Bride Part II  False          5.7      173.0   \n",
       "\n",
       "                        genre  \n",
       "0   Animation, Comedy, Family  \n",
       "1  Adventure, Fantasy, Family  \n",
       "2             Romance, Comedy  \n",
       "3      Comedy, Drama, Romance  \n",
       "4                      Comedy  \n",
       "\n",
       "[5 rows x 25 columns]"
      ]
     },
     "execution_count": 20,
     "metadata": {},
     "output_type": "execute_result"
    }
   ],
   "source": [
    "def get_genre(x): \n",
    "    genre = ''\n",
    "    for d in x: \n",
    "        genre += d['name']\n",
    "        genre += ', '\n",
    "    return genre[:-2]\n",
    "\n",
    "movies[\"genre\"] = movies[\"genres\"].apply(get_genre)\n",
    "movies.head()"
   ]
  },
  {
   "cell_type": "code",
   "execution_count": 21,
   "metadata": {},
   "outputs": [
    {
     "data": {
      "text/html": [
       "<div>\n",
       "<style scoped>\n",
       "    .dataframe tbody tr th:only-of-type {\n",
       "        vertical-align: middle;\n",
       "    }\n",
       "\n",
       "    .dataframe tbody tr th {\n",
       "        vertical-align: top;\n",
       "    }\n",
       "\n",
       "    .dataframe thead th {\n",
       "        text-align: right;\n",
       "    }\n",
       "</style>\n",
       "<table border=\"1\" class=\"dataframe\">\n",
       "  <thead>\n",
       "    <tr style=\"text-align: right;\">\n",
       "      <th></th>\n",
       "      <th>adult</th>\n",
       "      <th>belongs_to_collection</th>\n",
       "      <th>budget</th>\n",
       "      <th>genres</th>\n",
       "      <th>homepage</th>\n",
       "      <th>id</th>\n",
       "      <th>imdb_id</th>\n",
       "      <th>original_language</th>\n",
       "      <th>original_title</th>\n",
       "      <th>overview</th>\n",
       "      <th>...</th>\n",
       "      <th>runtime</th>\n",
       "      <th>spoken_languages</th>\n",
       "      <th>status</th>\n",
       "      <th>tagline</th>\n",
       "      <th>title</th>\n",
       "      <th>video</th>\n",
       "      <th>vote_average</th>\n",
       "      <th>vote_count</th>\n",
       "      <th>genre</th>\n",
       "      <th>genre_list</th>\n",
       "    </tr>\n",
       "  </thead>\n",
       "  <tbody>\n",
       "    <tr>\n",
       "      <th>0</th>\n",
       "      <td>False</td>\n",
       "      <td>{'id': 10194, 'name': 'Toy Story Collection', ...</td>\n",
       "      <td>30000000</td>\n",
       "      <td>[{'id': 16, 'name': 'Animation'}, {'id': 35, '...</td>\n",
       "      <td>http://toystory.disney.com/toy-story</td>\n",
       "      <td>862</td>\n",
       "      <td>tt0114709</td>\n",
       "      <td>en</td>\n",
       "      <td>Toy Story</td>\n",
       "      <td>Led by Woody, Andy's toys live happily in his ...</td>\n",
       "      <td>...</td>\n",
       "      <td>81.0</td>\n",
       "      <td>[{'iso_639_1': 'en', 'name': 'English'}]</td>\n",
       "      <td>Released</td>\n",
       "      <td>NaN</td>\n",
       "      <td>Toy Story</td>\n",
       "      <td>False</td>\n",
       "      <td>7.7</td>\n",
       "      <td>5415.0</td>\n",
       "      <td>Animation, Comedy, Family</td>\n",
       "      <td>[Animation, Comedy, Family]</td>\n",
       "    </tr>\n",
       "    <tr>\n",
       "      <th>1</th>\n",
       "      <td>False</td>\n",
       "      <td>NaN</td>\n",
       "      <td>65000000</td>\n",
       "      <td>[{'id': 12, 'name': 'Adventure'}, {'id': 14, '...</td>\n",
       "      <td>NaN</td>\n",
       "      <td>8844</td>\n",
       "      <td>tt0113497</td>\n",
       "      <td>en</td>\n",
       "      <td>Jumanji</td>\n",
       "      <td>When siblings Judy and Peter discover an encha...</td>\n",
       "      <td>...</td>\n",
       "      <td>104.0</td>\n",
       "      <td>[{'iso_639_1': 'en', 'name': 'English'}, {'iso...</td>\n",
       "      <td>Released</td>\n",
       "      <td>Roll the dice and unleash the excitement!</td>\n",
       "      <td>Jumanji</td>\n",
       "      <td>False</td>\n",
       "      <td>6.9</td>\n",
       "      <td>2413.0</td>\n",
       "      <td>Adventure, Fantasy, Family</td>\n",
       "      <td>[Adventure, Fantasy, Family]</td>\n",
       "    </tr>\n",
       "    <tr>\n",
       "      <th>2</th>\n",
       "      <td>False</td>\n",
       "      <td>{'id': 119050, 'name': 'Grumpy Old Men Collect...</td>\n",
       "      <td>0</td>\n",
       "      <td>[{'id': 10749, 'name': 'Romance'}, {'id': 35, ...</td>\n",
       "      <td>NaN</td>\n",
       "      <td>15602</td>\n",
       "      <td>tt0113228</td>\n",
       "      <td>en</td>\n",
       "      <td>Grumpier Old Men</td>\n",
       "      <td>A family wedding reignites the ancient feud be...</td>\n",
       "      <td>...</td>\n",
       "      <td>101.0</td>\n",
       "      <td>[{'iso_639_1': 'en', 'name': 'English'}]</td>\n",
       "      <td>Released</td>\n",
       "      <td>Still Yelling. Still Fighting. Still Ready for...</td>\n",
       "      <td>Grumpier Old Men</td>\n",
       "      <td>False</td>\n",
       "      <td>6.5</td>\n",
       "      <td>92.0</td>\n",
       "      <td>Romance, Comedy</td>\n",
       "      <td>[Romance, Comedy]</td>\n",
       "    </tr>\n",
       "    <tr>\n",
       "      <th>3</th>\n",
       "      <td>False</td>\n",
       "      <td>NaN</td>\n",
       "      <td>16000000</td>\n",
       "      <td>[{'id': 35, 'name': 'Comedy'}, {'id': 18, 'nam...</td>\n",
       "      <td>NaN</td>\n",
       "      <td>31357</td>\n",
       "      <td>tt0114885</td>\n",
       "      <td>en</td>\n",
       "      <td>Waiting to Exhale</td>\n",
       "      <td>Cheated on, mistreated and stepped on, the wom...</td>\n",
       "      <td>...</td>\n",
       "      <td>127.0</td>\n",
       "      <td>[{'iso_639_1': 'en', 'name': 'English'}]</td>\n",
       "      <td>Released</td>\n",
       "      <td>Friends are the people who let you be yourself...</td>\n",
       "      <td>Waiting to Exhale</td>\n",
       "      <td>False</td>\n",
       "      <td>6.1</td>\n",
       "      <td>34.0</td>\n",
       "      <td>Comedy, Drama, Romance</td>\n",
       "      <td>[Comedy, Drama, Romance]</td>\n",
       "    </tr>\n",
       "    <tr>\n",
       "      <th>4</th>\n",
       "      <td>False</td>\n",
       "      <td>{'id': 96871, 'name': 'Father of the Bride Col...</td>\n",
       "      <td>0</td>\n",
       "      <td>[{'id': 35, 'name': 'Comedy'}]</td>\n",
       "      <td>NaN</td>\n",
       "      <td>11862</td>\n",
       "      <td>tt0113041</td>\n",
       "      <td>en</td>\n",
       "      <td>Father of the Bride Part II</td>\n",
       "      <td>Just when George Banks has recovered from his ...</td>\n",
       "      <td>...</td>\n",
       "      <td>106.0</td>\n",
       "      <td>[{'iso_639_1': 'en', 'name': 'English'}]</td>\n",
       "      <td>Released</td>\n",
       "      <td>Just When His World Is Back To Normal... He's ...</td>\n",
       "      <td>Father of the Bride Part II</td>\n",
       "      <td>False</td>\n",
       "      <td>5.7</td>\n",
       "      <td>173.0</td>\n",
       "      <td>Comedy</td>\n",
       "      <td>[Comedy]</td>\n",
       "    </tr>\n",
       "  </tbody>\n",
       "</table>\n",
       "<p>5 rows × 26 columns</p>\n",
       "</div>"
      ],
      "text/plain": [
       "   adult                              belongs_to_collection    budget  \\\n",
       "0  False  {'id': 10194, 'name': 'Toy Story Collection', ...  30000000   \n",
       "1  False                                                NaN  65000000   \n",
       "2  False  {'id': 119050, 'name': 'Grumpy Old Men Collect...         0   \n",
       "3  False                                                NaN  16000000   \n",
       "4  False  {'id': 96871, 'name': 'Father of the Bride Col...         0   \n",
       "\n",
       "                                              genres  \\\n",
       "0  [{'id': 16, 'name': 'Animation'}, {'id': 35, '...   \n",
       "1  [{'id': 12, 'name': 'Adventure'}, {'id': 14, '...   \n",
       "2  [{'id': 10749, 'name': 'Romance'}, {'id': 35, ...   \n",
       "3  [{'id': 35, 'name': 'Comedy'}, {'id': 18, 'nam...   \n",
       "4                     [{'id': 35, 'name': 'Comedy'}]   \n",
       "\n",
       "                               homepage     id    imdb_id original_language  \\\n",
       "0  http://toystory.disney.com/toy-story    862  tt0114709                en   \n",
       "1                                   NaN   8844  tt0113497                en   \n",
       "2                                   NaN  15602  tt0113228                en   \n",
       "3                                   NaN  31357  tt0114885                en   \n",
       "4                                   NaN  11862  tt0113041                en   \n",
       "\n",
       "                original_title  \\\n",
       "0                    Toy Story   \n",
       "1                      Jumanji   \n",
       "2             Grumpier Old Men   \n",
       "3            Waiting to Exhale   \n",
       "4  Father of the Bride Part II   \n",
       "\n",
       "                                            overview  ...  runtime  \\\n",
       "0  Led by Woody, Andy's toys live happily in his ...  ...     81.0   \n",
       "1  When siblings Judy and Peter discover an encha...  ...    104.0   \n",
       "2  A family wedding reignites the ancient feud be...  ...    101.0   \n",
       "3  Cheated on, mistreated and stepped on, the wom...  ...    127.0   \n",
       "4  Just when George Banks has recovered from his ...  ...    106.0   \n",
       "\n",
       "                                    spoken_languages    status  \\\n",
       "0           [{'iso_639_1': 'en', 'name': 'English'}]  Released   \n",
       "1  [{'iso_639_1': 'en', 'name': 'English'}, {'iso...  Released   \n",
       "2           [{'iso_639_1': 'en', 'name': 'English'}]  Released   \n",
       "3           [{'iso_639_1': 'en', 'name': 'English'}]  Released   \n",
       "4           [{'iso_639_1': 'en', 'name': 'English'}]  Released   \n",
       "\n",
       "                                             tagline  \\\n",
       "0                                                NaN   \n",
       "1          Roll the dice and unleash the excitement!   \n",
       "2  Still Yelling. Still Fighting. Still Ready for...   \n",
       "3  Friends are the people who let you be yourself...   \n",
       "4  Just When His World Is Back To Normal... He's ...   \n",
       "\n",
       "                         title  video  vote_average vote_count  \\\n",
       "0                    Toy Story  False           7.7     5415.0   \n",
       "1                      Jumanji  False           6.9     2413.0   \n",
       "2             Grumpier Old Men  False           6.5       92.0   \n",
       "3            Waiting to Exhale  False           6.1       34.0   \n",
       "4  Father of the Bride Part II  False           5.7      173.0   \n",
       "\n",
       "                        genre                    genre_list  \n",
       "0   Animation, Comedy, Family   [Animation, Comedy, Family]  \n",
       "1  Adventure, Fantasy, Family  [Adventure, Fantasy, Family]  \n",
       "2             Romance, Comedy             [Romance, Comedy]  \n",
       "3      Comedy, Drama, Romance      [Comedy, Drama, Romance]  \n",
       "4                      Comedy                      [Comedy]  \n",
       "\n",
       "[5 rows x 26 columns]"
      ]
     },
     "execution_count": 21,
     "metadata": {},
     "output_type": "execute_result"
    }
   ],
   "source": [
    "# output genre as list for context aware collaborative filtering. \n",
    "def get_genre_list(x): \n",
    "    genre = []\n",
    "    for d in x: \n",
    "        genre.append(d['name'])\n",
    "    return genre\n",
    "\n",
    "movies[\"genre_list\"] = movies[\"genres\"].apply(get_genre_list)\n",
    "movies.head()"
   ]
  },
  {
   "cell_type": "code",
   "execution_count": 22,
   "metadata": {},
   "outputs": [
    {
     "name": "stdout",
     "output_type": "stream",
     "text": [
      "(99973, 7)\n"
     ]
    },
    {
     "data": {
      "text/html": [
       "<div>\n",
       "<style scoped>\n",
       "    .dataframe tbody tr th:only-of-type {\n",
       "        vertical-align: middle;\n",
       "    }\n",
       "\n",
       "    .dataframe tbody tr th {\n",
       "        vertical-align: top;\n",
       "    }\n",
       "\n",
       "    .dataframe thead th {\n",
       "        text-align: right;\n",
       "    }\n",
       "</style>\n",
       "<table border=\"1\" class=\"dataframe\">\n",
       "  <thead>\n",
       "    <tr style=\"text-align: right;\">\n",
       "      <th></th>\n",
       "      <th>userId</th>\n",
       "      <th>movieId</th>\n",
       "      <th>rating</th>\n",
       "      <th>timestamp</th>\n",
       "      <th>tmdbId</th>\n",
       "      <th>id</th>\n",
       "      <th>title</th>\n",
       "    </tr>\n",
       "  </thead>\n",
       "  <tbody>\n",
       "    <tr>\n",
       "      <th>0</th>\n",
       "      <td>1</td>\n",
       "      <td>31</td>\n",
       "      <td>2.5</td>\n",
       "      <td>2009-12-14 02:52:24</td>\n",
       "      <td>9909</td>\n",
       "      <td>9909.0</td>\n",
       "      <td>Dangerous Minds</td>\n",
       "    </tr>\n",
       "    <tr>\n",
       "      <th>1</th>\n",
       "      <td>7</td>\n",
       "      <td>31</td>\n",
       "      <td>3.0</td>\n",
       "      <td>1996-12-29 14:12:30</td>\n",
       "      <td>9909</td>\n",
       "      <td>9909.0</td>\n",
       "      <td>Dangerous Minds</td>\n",
       "    </tr>\n",
       "    <tr>\n",
       "      <th>2</th>\n",
       "      <td>31</td>\n",
       "      <td>31</td>\n",
       "      <td>4.0</td>\n",
       "      <td>2010-05-11 01:39:13</td>\n",
       "      <td>9909</td>\n",
       "      <td>9909.0</td>\n",
       "      <td>Dangerous Minds</td>\n",
       "    </tr>\n",
       "    <tr>\n",
       "      <th>3</th>\n",
       "      <td>32</td>\n",
       "      <td>31</td>\n",
       "      <td>4.0</td>\n",
       "      <td>1996-06-15 08:47:20</td>\n",
       "      <td>9909</td>\n",
       "      <td>9909.0</td>\n",
       "      <td>Dangerous Minds</td>\n",
       "    </tr>\n",
       "    <tr>\n",
       "      <th>4</th>\n",
       "      <td>36</td>\n",
       "      <td>31</td>\n",
       "      <td>3.0</td>\n",
       "      <td>1996-11-03 21:40:02</td>\n",
       "      <td>9909</td>\n",
       "      <td>9909.0</td>\n",
       "      <td>Dangerous Minds</td>\n",
       "    </tr>\n",
       "    <tr>\n",
       "      <th>5</th>\n",
       "      <td>39</td>\n",
       "      <td>31</td>\n",
       "      <td>3.0</td>\n",
       "      <td>1996-05-19 16:59:17</td>\n",
       "      <td>9909</td>\n",
       "      <td>9909.0</td>\n",
       "      <td>Dangerous Minds</td>\n",
       "    </tr>\n",
       "    <tr>\n",
       "      <th>6</th>\n",
       "      <td>73</td>\n",
       "      <td>31</td>\n",
       "      <td>3.5</td>\n",
       "      <td>2009-10-15 07:31:00</td>\n",
       "      <td>9909</td>\n",
       "      <td>9909.0</td>\n",
       "      <td>Dangerous Minds</td>\n",
       "    </tr>\n",
       "    <tr>\n",
       "      <th>7</th>\n",
       "      <td>88</td>\n",
       "      <td>31</td>\n",
       "      <td>3.0</td>\n",
       "      <td>2009-04-15 00:32:39</td>\n",
       "      <td>9909</td>\n",
       "      <td>9909.0</td>\n",
       "      <td>Dangerous Minds</td>\n",
       "    </tr>\n",
       "    <tr>\n",
       "      <th>8</th>\n",
       "      <td>96</td>\n",
       "      <td>31</td>\n",
       "      <td>2.5</td>\n",
       "      <td>2008-10-06 01:25:31</td>\n",
       "      <td>9909</td>\n",
       "      <td>9909.0</td>\n",
       "      <td>Dangerous Minds</td>\n",
       "    </tr>\n",
       "    <tr>\n",
       "      <th>9</th>\n",
       "      <td>110</td>\n",
       "      <td>31</td>\n",
       "      <td>4.0</td>\n",
       "      <td>1996-08-15 09:18:15</td>\n",
       "      <td>9909</td>\n",
       "      <td>9909.0</td>\n",
       "      <td>Dangerous Minds</td>\n",
       "    </tr>\n",
       "  </tbody>\n",
       "</table>\n",
       "</div>"
      ],
      "text/plain": [
       "   userId  movieId  rating           timestamp  tmdbId      id  \\\n",
       "0       1       31     2.5 2009-12-14 02:52:24    9909  9909.0   \n",
       "1       7       31     3.0 1996-12-29 14:12:30    9909  9909.0   \n",
       "2      31       31     4.0 2010-05-11 01:39:13    9909  9909.0   \n",
       "3      32       31     4.0 1996-06-15 08:47:20    9909  9909.0   \n",
       "4      36       31     3.0 1996-11-03 21:40:02    9909  9909.0   \n",
       "5      39       31     3.0 1996-05-19 16:59:17    9909  9909.0   \n",
       "6      73       31     3.5 2009-10-15 07:31:00    9909  9909.0   \n",
       "7      88       31     3.0 2009-04-15 00:32:39    9909  9909.0   \n",
       "8      96       31     2.5 2008-10-06 01:25:31    9909  9909.0   \n",
       "9     110       31     4.0 1996-08-15 09:18:15    9909  9909.0   \n",
       "\n",
       "             title  \n",
       "0  Dangerous Minds  \n",
       "1  Dangerous Minds  \n",
       "2  Dangerous Minds  \n",
       "3  Dangerous Minds  \n",
       "4  Dangerous Minds  \n",
       "5  Dangerous Minds  \n",
       "6  Dangerous Minds  \n",
       "7  Dangerous Minds  \n",
       "8  Dangerous Minds  \n",
       "9  Dangerous Minds  "
      ]
     },
     "execution_count": 22,
     "metadata": {},
     "output_type": "execute_result"
    }
   ],
   "source": [
    "# merge dataframe\n",
    "df = df.merge(movies[[\"id\", \"title\"]], how=\"left\", left_on=\"tmdbId\", right_on=\"id\")\n",
    "print(df.shape)\n",
    "df.head(10)"
   ]
  },
  {
   "cell_type": "code",
   "execution_count": 23,
   "metadata": {},
   "outputs": [
    {
     "name": "stdout",
     "output_type": "stream",
     "text": [
      "(99973, 7)\n"
     ]
    },
    {
     "data": {
      "text/plain": [
       "userId         0\n",
       "movieId        0\n",
       "rating         0\n",
       "timestamp      0\n",
       "tmdbId         0\n",
       "id           123\n",
       "title        123\n",
       "dtype: int64"
      ]
     },
     "execution_count": 23,
     "metadata": {},
     "output_type": "execute_result"
    }
   ],
   "source": [
    "# check for null values\n",
    "print(df.shape)\n",
    "df.isnull().sum()"
   ]
  },
  {
   "cell_type": "code",
   "execution_count": 24,
   "metadata": {},
   "outputs": [
    {
     "data": {
      "text/html": [
       "<div>\n",
       "<style scoped>\n",
       "    .dataframe tbody tr th:only-of-type {\n",
       "        vertical-align: middle;\n",
       "    }\n",
       "\n",
       "    .dataframe tbody tr th {\n",
       "        vertical-align: top;\n",
       "    }\n",
       "\n",
       "    .dataframe thead th {\n",
       "        text-align: right;\n",
       "    }\n",
       "</style>\n",
       "<table border=\"1\" class=\"dataframe\">\n",
       "  <thead>\n",
       "    <tr style=\"text-align: right;\">\n",
       "      <th></th>\n",
       "      <th>userId</th>\n",
       "      <th>tmdbId</th>\n",
       "      <th>rating</th>\n",
       "      <th>timestamp</th>\n",
       "      <th>title</th>\n",
       "    </tr>\n",
       "  </thead>\n",
       "  <tbody>\n",
       "    <tr>\n",
       "      <th>0</th>\n",
       "      <td>1</td>\n",
       "      <td>9909</td>\n",
       "      <td>2.5</td>\n",
       "      <td>2009-12-14 02:52:24</td>\n",
       "      <td>Dangerous Minds</td>\n",
       "    </tr>\n",
       "    <tr>\n",
       "      <th>1</th>\n",
       "      <td>7</td>\n",
       "      <td>9909</td>\n",
       "      <td>3.0</td>\n",
       "      <td>1996-12-29 14:12:30</td>\n",
       "      <td>Dangerous Minds</td>\n",
       "    </tr>\n",
       "    <tr>\n",
       "      <th>2</th>\n",
       "      <td>31</td>\n",
       "      <td>9909</td>\n",
       "      <td>4.0</td>\n",
       "      <td>2010-05-11 01:39:13</td>\n",
       "      <td>Dangerous Minds</td>\n",
       "    </tr>\n",
       "    <tr>\n",
       "      <th>3</th>\n",
       "      <td>32</td>\n",
       "      <td>9909</td>\n",
       "      <td>4.0</td>\n",
       "      <td>1996-06-15 08:47:20</td>\n",
       "      <td>Dangerous Minds</td>\n",
       "    </tr>\n",
       "    <tr>\n",
       "      <th>4</th>\n",
       "      <td>36</td>\n",
       "      <td>9909</td>\n",
       "      <td>3.0</td>\n",
       "      <td>1996-11-03 21:40:02</td>\n",
       "      <td>Dangerous Minds</td>\n",
       "    </tr>\n",
       "    <tr>\n",
       "      <th>5</th>\n",
       "      <td>39</td>\n",
       "      <td>9909</td>\n",
       "      <td>3.0</td>\n",
       "      <td>1996-05-19 16:59:17</td>\n",
       "      <td>Dangerous Minds</td>\n",
       "    </tr>\n",
       "    <tr>\n",
       "      <th>6</th>\n",
       "      <td>73</td>\n",
       "      <td>9909</td>\n",
       "      <td>3.5</td>\n",
       "      <td>2009-10-15 07:31:00</td>\n",
       "      <td>Dangerous Minds</td>\n",
       "    </tr>\n",
       "    <tr>\n",
       "      <th>7</th>\n",
       "      <td>88</td>\n",
       "      <td>9909</td>\n",
       "      <td>3.0</td>\n",
       "      <td>2009-04-15 00:32:39</td>\n",
       "      <td>Dangerous Minds</td>\n",
       "    </tr>\n",
       "    <tr>\n",
       "      <th>8</th>\n",
       "      <td>96</td>\n",
       "      <td>9909</td>\n",
       "      <td>2.5</td>\n",
       "      <td>2008-10-06 01:25:31</td>\n",
       "      <td>Dangerous Minds</td>\n",
       "    </tr>\n",
       "    <tr>\n",
       "      <th>9</th>\n",
       "      <td>110</td>\n",
       "      <td>9909</td>\n",
       "      <td>4.0</td>\n",
       "      <td>1996-08-15 09:18:15</td>\n",
       "      <td>Dangerous Minds</td>\n",
       "    </tr>\n",
       "  </tbody>\n",
       "</table>\n",
       "</div>"
      ],
      "text/plain": [
       "   userId  tmdbId  rating           timestamp            title\n",
       "0       1    9909     2.5 2009-12-14 02:52:24  Dangerous Minds\n",
       "1       7    9909     3.0 1996-12-29 14:12:30  Dangerous Minds\n",
       "2      31    9909     4.0 2010-05-11 01:39:13  Dangerous Minds\n",
       "3      32    9909     4.0 1996-06-15 08:47:20  Dangerous Minds\n",
       "4      36    9909     3.0 1996-11-03 21:40:02  Dangerous Minds\n",
       "5      39    9909     3.0 1996-05-19 16:59:17  Dangerous Minds\n",
       "6      73    9909     3.5 2009-10-15 07:31:00  Dangerous Minds\n",
       "7      88    9909     3.0 2009-04-15 00:32:39  Dangerous Minds\n",
       "8      96    9909     2.5 2008-10-06 01:25:31  Dangerous Minds\n",
       "9     110    9909     4.0 1996-08-15 09:18:15  Dangerous Minds"
      ]
     },
     "execution_count": 24,
     "metadata": {},
     "output_type": "execute_result"
    }
   ],
   "source": [
    "# filter out NA values on merged columns\n",
    "df.dropna(subset=[\"title\"], inplace=True)\n",
    "\n",
    "# drop duplicated id column\n",
    "df = df[[\"userId\", \"tmdbId\", \"rating\", \"timestamp\", \"title\"]]\n",
    "df.head(10)"
   ]
  },
  {
   "cell_type": "code",
   "execution_count": 25,
   "metadata": {},
   "outputs": [
    {
     "name": "stdout",
     "output_type": "stream",
     "text": [
      "(99850, 5)\n"
     ]
    },
    {
     "data": {
      "text/plain": [
       "userId       0\n",
       "tmdbId       0\n",
       "rating       0\n",
       "timestamp    0\n",
       "title        0\n",
       "dtype: int64"
      ]
     },
     "execution_count": 25,
     "metadata": {},
     "output_type": "execute_result"
    }
   ],
   "source": [
    "print(df.shape)\n",
    "df.isnull().sum()"
   ]
  },
  {
   "cell_type": "markdown",
   "metadata": {},
   "source": [
    "Prevent user cold start by keeping dataset of users with at least 5 reviews. "
   ]
  },
  {
   "cell_type": "code",
   "execution_count": 26,
   "metadata": {},
   "outputs": [
    {
     "name": "stdout",
     "output_type": "stream",
     "text": [
      "# users: 671\n",
      "# users with at least 5 interactions: 671\n"
     ]
    }
   ],
   "source": [
    "users_interactions_count_df = df.groupby([\"userId\", 'tmdbId']).size().groupby('userId').size()\n",
    "print('# users: %d' % len(users_interactions_count_df))\n",
    "users_with_enough_interactions_df = users_interactions_count_df[users_interactions_count_df >= 5].reset_index()[['userId']]\n",
    "print('# users with at least 5 interactions: %d' % len(users_with_enough_interactions_df))"
   ]
  },
  {
   "cell_type": "code",
   "execution_count": 27,
   "metadata": {},
   "outputs": [
    {
     "name": "stdout",
     "output_type": "stream",
     "text": [
      "# of interactions: 99850\n",
      "# of interactions from users with at least 5 interactions: 99850\n"
     ]
    }
   ],
   "source": [
    "print('# of interactions: %d' % len(df))\n",
    "interactions_from_selected_users_df = df.merge(users_with_enough_interactions_df, \n",
    "               how = 'right',\n",
    "               left_on = 'userId',\n",
    "               right_on = 'userId')\n",
    "print('# of interactions from users with at least 5 interactions: %d' % len(interactions_from_selected_users_df))"
   ]
  },
  {
   "cell_type": "markdown",
   "metadata": {},
   "source": [
    "Check whether there are duplicated reviews on the same movie by the same review. "
   ]
  },
  {
   "cell_type": "code",
   "execution_count": 28,
   "metadata": {},
   "outputs": [
    {
     "name": "stdout",
     "output_type": "stream",
     "text": [
      "Number of duplicated reviews done on a movie by user: 40\n"
     ]
    }
   ],
   "source": [
    "# count number of reviews done by a user on a movie for multiple times\n",
    "reviews_by_users_movie = interactions_from_selected_users_df.groupby([\"userId\", \"tmdbId\"])[\"rating\"].count().reset_index()\n",
    "print(f'Number of duplicated reviews done on a movie by user: {reviews_by_users_movie[reviews_by_users_movie[\"rating\"]>1][\"rating\"].count()}')"
   ]
  },
  {
   "cell_type": "markdown",
   "metadata": {},
   "source": [
    "Average out the reviews"
   ]
  },
  {
   "cell_type": "code",
   "execution_count": 29,
   "metadata": {},
   "outputs": [
    {
     "name": "stdout",
     "output_type": "stream",
     "text": [
      "Number of unique user/movie reviews: 99810\n"
     ]
    },
    {
     "data": {
      "text/html": [
       "<div>\n",
       "<style scoped>\n",
       "    .dataframe tbody tr th:only-of-type {\n",
       "        vertical-align: middle;\n",
       "    }\n",
       "\n",
       "    .dataframe tbody tr th {\n",
       "        vertical-align: top;\n",
       "    }\n",
       "\n",
       "    .dataframe thead th {\n",
       "        text-align: right;\n",
       "    }\n",
       "</style>\n",
       "<table border=\"1\" class=\"dataframe\">\n",
       "  <thead>\n",
       "    <tr style=\"text-align: right;\">\n",
       "      <th></th>\n",
       "      <th>userId</th>\n",
       "      <th>tmdbId</th>\n",
       "      <th>rating</th>\n",
       "    </tr>\n",
       "  </thead>\n",
       "  <tbody>\n",
       "    <tr>\n",
       "      <th>0</th>\n",
       "      <td>1</td>\n",
       "      <td>97</td>\n",
       "      <td>4.0</td>\n",
       "    </tr>\n",
       "    <tr>\n",
       "      <th>1</th>\n",
       "      <td>1</td>\n",
       "      <td>152</td>\n",
       "      <td>2.5</td>\n",
       "    </tr>\n",
       "    <tr>\n",
       "      <th>2</th>\n",
       "      <td>1</td>\n",
       "      <td>665</td>\n",
       "      <td>2.0</td>\n",
       "    </tr>\n",
       "    <tr>\n",
       "      <th>3</th>\n",
       "      <td>1</td>\n",
       "      <td>783</td>\n",
       "      <td>2.0</td>\n",
       "    </tr>\n",
       "    <tr>\n",
       "      <th>4</th>\n",
       "      <td>1</td>\n",
       "      <td>819</td>\n",
       "      <td>3.0</td>\n",
       "    </tr>\n",
       "    <tr>\n",
       "      <th>5</th>\n",
       "      <td>1</td>\n",
       "      <td>847</td>\n",
       "      <td>2.0</td>\n",
       "    </tr>\n",
       "    <tr>\n",
       "      <th>6</th>\n",
       "      <td>1</td>\n",
       "      <td>1051</td>\n",
       "      <td>4.0</td>\n",
       "    </tr>\n",
       "    <tr>\n",
       "      <th>7</th>\n",
       "      <td>1</td>\n",
       "      <td>1103</td>\n",
       "      <td>2.0</td>\n",
       "    </tr>\n",
       "    <tr>\n",
       "      <th>8</th>\n",
       "      <td>1</td>\n",
       "      <td>1598</td>\n",
       "      <td>2.0</td>\n",
       "    </tr>\n",
       "    <tr>\n",
       "      <th>9</th>\n",
       "      <td>1</td>\n",
       "      <td>3179</td>\n",
       "      <td>1.0</td>\n",
       "    </tr>\n",
       "  </tbody>\n",
       "</table>\n",
       "</div>"
      ],
      "text/plain": [
       "   userId  tmdbId  rating\n",
       "0       1      97     4.0\n",
       "1       1     152     2.5\n",
       "2       1     665     2.0\n",
       "3       1     783     2.0\n",
       "4       1     819     3.0\n",
       "5       1     847     2.0\n",
       "6       1    1051     4.0\n",
       "7       1    1103     2.0\n",
       "8       1    1598     2.0\n",
       "9       1    3179     1.0"
      ]
     },
     "execution_count": 29,
     "metadata": {},
     "output_type": "execute_result"
    }
   ],
   "source": [
    "reviews_full_df = interactions_from_selected_users_df.groupby([\"userId\", \"tmdbId\"])[\"rating\"].mean().reset_index()\n",
    "print(f\"Number of unique user/movie reviews: {len(reviews_full_df)}\")\n",
    "reviews_full_df.head(10)"
   ]
  },
  {
   "cell_type": "markdown",
   "metadata": {},
   "source": [
    "## Evaluation"
   ]
  },
  {
   "cell_type": "markdown",
   "metadata": {},
   "source": [
    "Using holdout method for train-test split. "
   ]
  },
  {
   "cell_type": "code",
   "execution_count": 30,
   "metadata": {},
   "outputs": [
    {
     "name": "stdout",
     "output_type": "stream",
     "text": [
      "Number of interactions on train set: 79848\n",
      "Number of interactions on test set: 19962\n"
     ]
    }
   ],
   "source": [
    "reviews_train_df, reviews_test_df = train_test_split(reviews_full_df, \n",
    "                                                     stratify = reviews_full_df[\"userId\"], \n",
    "                                                     test_size = 0.2, \n",
    "                                                     random_state = 999)\n",
    "\n",
    "print(f\"Number of interactions on train set: {len(reviews_train_df)}\")\n",
    "print(f\"Number of interactions on test set: {len(reviews_test_df)}\")"
   ]
  },
  {
   "cell_type": "code",
   "execution_count": 31,
   "metadata": {},
   "outputs": [],
   "source": [
    "#Indexing by userId to speed up the searches during evaluation\n",
    "interactions_full_indexed_df =  reviews_full_df.set_index('userId')\n",
    "interactions_train_indexed_df = reviews_train_df.set_index('userId')\n",
    "interactions_test_indexed_df =  reviews_test_df.set_index('userId')"
   ]
  },
  {
   "cell_type": "code",
   "execution_count": 32,
   "metadata": {},
   "outputs": [],
   "source": [
    "def get_items_interacted(person_id, interactions_df):\n",
    "    # Get the user's data and merge in the movie information.\n",
    "    interacted_items = interactions_df.loc[person_id]['tmdbId']\n",
    "    return set(interacted_items if type(interacted_items) == pd.Series else [interacted_items])"
   ]
  },
  {
   "cell_type": "code",
   "execution_count": 33,
   "metadata": {},
   "outputs": [],
   "source": [
    "#Top-N accuracy metrics consts\n",
    "EVAL_RANDOM_SAMPLE_NON_INTERACTED_ITEMS = 100\n",
    "\n",
    "class ModelEvaluator:\n",
    "\n",
    "\n",
    "    def get_not_interacted_items_sample(self, person_id, sample_size, seed=42):\n",
    "        interacted_items = get_items_interacted(person_id, interactions_full_indexed_df)\n",
    "        all_items = set(movies['id'])\n",
    "        non_interacted_items = all_items - interacted_items\n",
    "\n",
    "        random.seed(seed)\n",
    "        non_interacted_items_sample = random.sample(non_interacted_items, sample_size)\n",
    "        return set(non_interacted_items_sample)\n",
    "\n",
    "    def _verify_hit_top_n(self, item_id, recommended_items, topn):        \n",
    "            try:\n",
    "                index = next(i for i, c in enumerate(recommended_items) if c == item_id)\n",
    "            except:\n",
    "                index = -1\n",
    "            hit = int(index in range(0, topn))\n",
    "            return hit, index\n",
    "\n",
    "    \n",
    "    def _count_hit_at_top_n(self, interacted_items, recommended_items, topn):        \n",
    "        topn_movies = set(recommended_items[:topn])\n",
    "        count = len(topn_movies & interacted_items)\n",
    "\n",
    "        return count\n",
    "\n",
    "    def _average_precision_top_n(self, interacted_items, recommended_items, topn):        \n",
    "        precision = 0\n",
    "        for n in range(1, topn+1): \n",
    "            topn_movies = set(list(recommended_items)[:n])\n",
    "            p = len(topn_movies & interacted_items)\n",
    "            precision += p/n\n",
    "            # print(f\"n: {n}, p: {p}, pre: {precision}\")\n",
    "        \n",
    "        average_precision = precision/topn\n",
    "        # print(average_precision)\n",
    "        return average_precision\n",
    "\n",
    "    def get_prob(self, interacted_items, recommended_items_df): \n",
    "        prob = []\n",
    "        for key, item in recommended_items_df.iterrows(): \n",
    "            if item[\"tmdbId\"] in interacted_items:\n",
    "                prob.append({\"true\": 1, \"prob\": item[\"recStrength\"]}) \n",
    "            else: \n",
    "                prob.append({\"true\": 0, \"prob\": item[\"recStrength\"]}) \n",
    "        return prob\n",
    "\n",
    "    def evaluate_model_for_user(self, model, person_id):\n",
    "        #Getting the items in test set\n",
    "        interacted_values_testset = interactions_test_indexed_df.loc[person_id]\n",
    "        if type(interacted_values_testset['tmdbId']) == pd.Series:\n",
    "            person_interacted_items_testset = set(interacted_values_testset['tmdbId'])\n",
    "        else:\n",
    "            person_interacted_items_testset = set([int(interacted_values_testset['tmdbId'])])  \n",
    "            # person_interacted_items_testset = set(interacted_values_testset['title'])  \n",
    "        interacted_items_count_testset = len(person_interacted_items_testset) \n",
    "\n",
    "        #Getting a ranked recommendation list from a model for a given user\n",
    "        person_recs_df = model.recommend_items(person_id, \n",
    "                                               items_to_ignore=get_items_interacted(person_id, \n",
    "                                                                                    interactions_train_indexed_df), \n",
    "                                               topn=10000000000)\n",
    "\n",
    "        # print(person_recs_df.head())\n",
    "        # person_recs_id = set(person_recs_df[\"movieId\"])\n",
    "        person_recs_id = person_recs_df.drop_duplicates(subset=\"tmdbId\")[\"tmdbId\"].to_list()\n",
    "        # print(person_recs_id)\n",
    "\n",
    "        p_hits_at_5_count = self._count_hit_at_top_n(person_interacted_items_testset, person_recs_id, 5)\n",
    "        p_hits_at_10_count = self._count_hit_at_top_n(person_interacted_items_testset, person_recs_id, 10)        \n",
    "        p_hits_at_20_count = self._count_hit_at_top_n(person_interacted_items_testset, person_recs_id, 20)  \n",
    "\n",
    "        #Precision is the ratio of correct recommendations to the number of recommendations made\n",
    "        precision_at_5 = p_hits_at_5_count / float(5)\n",
    "        precision_at_10 = p_hits_at_10_count / float(10)\n",
    "        precision_at_20 = p_hits_at_20_count / float(20)\n",
    "\n",
    "        average_precision_at_5 = self._average_precision_top_n(person_interacted_items_testset, person_recs_id, 5)\n",
    "        average_precision_at_10 = self._average_precision_top_n(person_interacted_items_testset, person_recs_id, 10)\n",
    "        average_precision_at_20 = self._average_precision_top_n(person_interacted_items_testset, person_recs_id, 20)\n",
    "\n",
    "        ## For recall \n",
    "        hits_at_5_count = 0\n",
    "        hits_at_10_count = 0\n",
    "        hits_at_20_count = 0\n",
    "\n",
    "        #For each item the user has interacted in test set\n",
    "        for item_id in person_interacted_items_testset:\n",
    "            #Getting a random sample (100) items the user has not interacted \n",
    "            #(to represent items that are assumed to be no relevant to the user)\n",
    "            non_interacted_items_sample = self.get_not_interacted_items_sample(person_id, \n",
    "                                                                          sample_size=EVAL_RANDOM_SAMPLE_NON_INTERACTED_ITEMS, \n",
    "                                                                          seed=item_id%(2**32))\n",
    "                                                                        #   seed=999)\n",
    "\n",
    "            #Combining the current interacted item with the 100 random items\n",
    "            items_to_filter_recs = non_interacted_items_sample.union(set([item_id]))\n",
    "\n",
    "            #Filtering only recommendations that are either the interacted item or from a random sample of 100 non-interacted items\n",
    "            valid_recs_df = person_recs_df[person_recs_df['tmdbId'].isin(items_to_filter_recs)]                    \n",
    "            valid_recs = valid_recs_df['tmdbId'].values\n",
    "            #Verifying if the current interacted item is among the Top-N recommended items\n",
    "            hit_at_5, index_at_5 = self._verify_hit_top_n(item_id, valid_recs, 5)\n",
    "            hits_at_5_count += hit_at_5\n",
    "            hit_at_10, index_at_10 = self._verify_hit_top_n(item_id, valid_recs, 10)\n",
    "            hits_at_10_count += hit_at_10\n",
    "            hit_at_20, index_at_20 = self._verify_hit_top_n(item_id, valid_recs, 20)\n",
    "            hits_at_20_count += hit_at_20\n",
    "\n",
    "        #Recall is the rate of the interacted items that are ranked among the Top-N recommended items, \n",
    "        #when mixed with a set of non-relevant items\n",
    "        recall_at_5 = hits_at_5_count / float(interacted_items_count_testset)\n",
    "        recall_at_10 = hits_at_10_count / float(interacted_items_count_testset)\n",
    "        recall_at_20 = hits_at_20_count / float(interacted_items_count_testset)\n",
    "\n",
    "        person_metrics = {'hits@5_count':hits_at_5_count, \n",
    "                          'hits@10_count':hits_at_10_count, \n",
    "                          'hits@20_count':hits_at_20_count,  \n",
    "                          'recall@5': recall_at_5,\n",
    "                          'recall@10': recall_at_10,        \n",
    "                          'recall@20': recall_at_20,    \n",
    "                          'interacted_count': interacted_items_count_testset,\n",
    "                          'p_hits@5_count':p_hits_at_5_count, \n",
    "                          'p_hits@10_count':p_hits_at_10_count, \n",
    "                          'p_hits@20_count':p_hits_at_20_count, \n",
    "                          'precision@5': precision_at_5,\n",
    "                          'precision@10': precision_at_10,\n",
    "                          'precision@20': precision_at_20,\n",
    "                          'average_p@5': average_precision_at_5,\n",
    "                          'average_p@10': average_precision_at_10,\n",
    "                          'average_p@20': average_precision_at_20}\n",
    "\n",
    "        prob = self.get_prob(person_interacted_items_testset, person_recs_df)\n",
    "\n",
    "        return person_metrics, prob\n",
    "\n",
    "    def evaluate_model(self, model):\n",
    "        #print('Running evaluation for users')\n",
    "        people_metrics = []\n",
    "        probs = []\n",
    "        i = 0\n",
    "        for idx, person_id in enumerate(list(interactions_test_indexed_df.index.unique().values)):\n",
    "            #if idx % 100 == 0 and idx > 0:\n",
    "            #    print('%d users processed' % idx)\n",
    "            person_metrics, prob = self.evaluate_model_for_user(model, person_id)  \n",
    "            person_metrics['_person_id'] = person_id\n",
    "            people_metrics.append(person_metrics)\n",
    "            probs += (prob)\n",
    "            i += 1\n",
    "        print('%d users processed' % idx)\n",
    "        print(i)\n",
    "\n",
    "        detailed_results_df = pd.DataFrame(people_metrics) \\\n",
    "                            .sort_values('interacted_count', ascending=False)\n",
    "        \n",
    "        global_precision_at_5 = detailed_results_df['p_hits@5_count'].sum() / float(5*i)\n",
    "        global_precision_at_10 = detailed_results_df['p_hits@10_count'].sum() / float(10*i)\n",
    "        global_precision_at_20 = detailed_results_df['p_hits@20_count'].sum() / float(20*i)\n",
    "        mean_average_precision_at_5 = detailed_results_df['average_p@5'].mean()\n",
    "        mean_average_precision_at_10 = detailed_results_df['average_p@10'].mean()\n",
    "        mean_average_precision_at_20 = detailed_results_df['average_p@20'].mean()\n",
    "        global_recall_at_5 = detailed_results_df['hits@5_count'].sum() / float(detailed_results_df['interacted_count'].sum())\n",
    "        global_recall_at_10 = detailed_results_df['hits@10_count'].sum() / float(detailed_results_df['interacted_count'].sum())\n",
    "        global_recall_at_20 = detailed_results_df['hits@20_count'].sum() / float(detailed_results_df['interacted_count'].sum())\n",
    "        \n",
    "        global_metrics = {'modelName': model.get_model_name(),\n",
    "                          'precision@5': global_precision_at_5,\n",
    "                          'precision@10': global_precision_at_10,\n",
    "                          'precision@20': global_precision_at_20,\n",
    "                          'map@5': mean_average_precision_at_5,\n",
    "                          'map@10': mean_average_precision_at_10,\n",
    "                          'map@20': mean_average_precision_at_20,\n",
    "                          'recall@5': global_recall_at_5,\n",
    "                          'recall@10': global_recall_at_10,\n",
    "                          'recall@20': global_recall_at_20}\n",
    "\n",
    "        probs_df = pd.DataFrame(probs)\n",
    "        \n",
    "        return global_metrics, detailed_results_df, probs_df\n",
    "    \n",
    "model_evaluator = ModelEvaluator()    "
   ]
  },
  {
   "cell_type": "markdown",
   "metadata": {},
   "source": [
    "## Collaborative filtering"
   ]
  },
  {
   "cell_type": "code",
   "execution_count": 34,
   "metadata": {},
   "outputs": [
    {
     "data": {
      "text/html": [
       "<div>\n",
       "<style scoped>\n",
       "    .dataframe tbody tr th:only-of-type {\n",
       "        vertical-align: middle;\n",
       "    }\n",
       "\n",
       "    .dataframe tbody tr th {\n",
       "        vertical-align: top;\n",
       "    }\n",
       "\n",
       "    .dataframe thead th {\n",
       "        text-align: right;\n",
       "    }\n",
       "</style>\n",
       "<table border=\"1\" class=\"dataframe\">\n",
       "  <thead>\n",
       "    <tr style=\"text-align: right;\">\n",
       "      <th>tmdbId</th>\n",
       "      <th>5</th>\n",
       "      <th>6</th>\n",
       "      <th>11</th>\n",
       "      <th>12</th>\n",
       "      <th>13</th>\n",
       "      <th>14</th>\n",
       "      <th>15</th>\n",
       "      <th>16</th>\n",
       "      <th>18</th>\n",
       "      <th>19</th>\n",
       "      <th>...</th>\n",
       "      <th>376570</th>\n",
       "      <th>384798</th>\n",
       "      <th>387893</th>\n",
       "      <th>390734</th>\n",
       "      <th>390989</th>\n",
       "      <th>391698</th>\n",
       "      <th>392572</th>\n",
       "      <th>401387</th>\n",
       "      <th>402672</th>\n",
       "      <th>410921</th>\n",
       "    </tr>\n",
       "    <tr>\n",
       "      <th>userId</th>\n",
       "      <th></th>\n",
       "      <th></th>\n",
       "      <th></th>\n",
       "      <th></th>\n",
       "      <th></th>\n",
       "      <th></th>\n",
       "      <th></th>\n",
       "      <th></th>\n",
       "      <th></th>\n",
       "      <th></th>\n",
       "      <th></th>\n",
       "      <th></th>\n",
       "      <th></th>\n",
       "      <th></th>\n",
       "      <th></th>\n",
       "      <th></th>\n",
       "      <th></th>\n",
       "      <th></th>\n",
       "      <th></th>\n",
       "      <th></th>\n",
       "      <th></th>\n",
       "    </tr>\n",
       "  </thead>\n",
       "  <tbody>\n",
       "    <tr>\n",
       "      <th>1</th>\n",
       "      <td>0.0</td>\n",
       "      <td>0.0</td>\n",
       "      <td>0.0</td>\n",
       "      <td>0.0</td>\n",
       "      <td>0.0</td>\n",
       "      <td>0.0</td>\n",
       "      <td>0.0</td>\n",
       "      <td>0.0</td>\n",
       "      <td>0.0</td>\n",
       "      <td>0.0</td>\n",
       "      <td>...</td>\n",
       "      <td>0.0</td>\n",
       "      <td>0.0</td>\n",
       "      <td>0.0</td>\n",
       "      <td>0.0</td>\n",
       "      <td>0.0</td>\n",
       "      <td>0.0</td>\n",
       "      <td>0.0</td>\n",
       "      <td>0.0</td>\n",
       "      <td>0.0</td>\n",
       "      <td>0.0</td>\n",
       "    </tr>\n",
       "    <tr>\n",
       "      <th>2</th>\n",
       "      <td>0.0</td>\n",
       "      <td>0.0</td>\n",
       "      <td>0.0</td>\n",
       "      <td>0.0</td>\n",
       "      <td>3.0</td>\n",
       "      <td>0.0</td>\n",
       "      <td>0.0</td>\n",
       "      <td>0.0</td>\n",
       "      <td>0.0</td>\n",
       "      <td>0.0</td>\n",
       "      <td>...</td>\n",
       "      <td>0.0</td>\n",
       "      <td>0.0</td>\n",
       "      <td>0.0</td>\n",
       "      <td>0.0</td>\n",
       "      <td>0.0</td>\n",
       "      <td>0.0</td>\n",
       "      <td>0.0</td>\n",
       "      <td>0.0</td>\n",
       "      <td>0.0</td>\n",
       "      <td>0.0</td>\n",
       "    </tr>\n",
       "    <tr>\n",
       "      <th>3</th>\n",
       "      <td>0.0</td>\n",
       "      <td>0.0</td>\n",
       "      <td>0.0</td>\n",
       "      <td>3.0</td>\n",
       "      <td>5.0</td>\n",
       "      <td>0.0</td>\n",
       "      <td>0.0</td>\n",
       "      <td>0.0</td>\n",
       "      <td>0.0</td>\n",
       "      <td>0.0</td>\n",
       "      <td>...</td>\n",
       "      <td>0.0</td>\n",
       "      <td>0.0</td>\n",
       "      <td>0.0</td>\n",
       "      <td>0.0</td>\n",
       "      <td>0.0</td>\n",
       "      <td>0.0</td>\n",
       "      <td>0.0</td>\n",
       "      <td>0.0</td>\n",
       "      <td>0.0</td>\n",
       "      <td>0.0</td>\n",
       "    </tr>\n",
       "    <tr>\n",
       "      <th>4</th>\n",
       "      <td>0.0</td>\n",
       "      <td>0.0</td>\n",
       "      <td>5.0</td>\n",
       "      <td>0.0</td>\n",
       "      <td>5.0</td>\n",
       "      <td>0.0</td>\n",
       "      <td>0.0</td>\n",
       "      <td>0.0</td>\n",
       "      <td>0.0</td>\n",
       "      <td>0.0</td>\n",
       "      <td>...</td>\n",
       "      <td>0.0</td>\n",
       "      <td>0.0</td>\n",
       "      <td>0.0</td>\n",
       "      <td>0.0</td>\n",
       "      <td>0.0</td>\n",
       "      <td>0.0</td>\n",
       "      <td>0.0</td>\n",
       "      <td>0.0</td>\n",
       "      <td>0.0</td>\n",
       "      <td>0.0</td>\n",
       "    </tr>\n",
       "    <tr>\n",
       "      <th>5</th>\n",
       "      <td>0.0</td>\n",
       "      <td>0.0</td>\n",
       "      <td>0.0</td>\n",
       "      <td>0.0</td>\n",
       "      <td>4.0</td>\n",
       "      <td>0.0</td>\n",
       "      <td>0.0</td>\n",
       "      <td>0.0</td>\n",
       "      <td>0.0</td>\n",
       "      <td>0.0</td>\n",
       "      <td>...</td>\n",
       "      <td>0.0</td>\n",
       "      <td>0.0</td>\n",
       "      <td>0.0</td>\n",
       "      <td>0.0</td>\n",
       "      <td>0.0</td>\n",
       "      <td>0.0</td>\n",
       "      <td>0.0</td>\n",
       "      <td>0.0</td>\n",
       "      <td>0.0</td>\n",
       "      <td>0.0</td>\n",
       "    </tr>\n",
       "    <tr>\n",
       "      <th>6</th>\n",
       "      <td>0.0</td>\n",
       "      <td>0.0</td>\n",
       "      <td>0.0</td>\n",
       "      <td>0.0</td>\n",
       "      <td>0.0</td>\n",
       "      <td>0.0</td>\n",
       "      <td>0.0</td>\n",
       "      <td>0.0</td>\n",
       "      <td>0.0</td>\n",
       "      <td>0.0</td>\n",
       "      <td>...</td>\n",
       "      <td>0.0</td>\n",
       "      <td>0.0</td>\n",
       "      <td>0.0</td>\n",
       "      <td>0.0</td>\n",
       "      <td>0.0</td>\n",
       "      <td>0.0</td>\n",
       "      <td>0.0</td>\n",
       "      <td>0.0</td>\n",
       "      <td>0.0</td>\n",
       "      <td>0.0</td>\n",
       "    </tr>\n",
       "    <tr>\n",
       "      <th>7</th>\n",
       "      <td>0.0</td>\n",
       "      <td>0.0</td>\n",
       "      <td>5.0</td>\n",
       "      <td>0.0</td>\n",
       "      <td>3.0</td>\n",
       "      <td>0.0</td>\n",
       "      <td>0.0</td>\n",
       "      <td>0.0</td>\n",
       "      <td>0.0</td>\n",
       "      <td>0.0</td>\n",
       "      <td>...</td>\n",
       "      <td>0.0</td>\n",
       "      <td>0.0</td>\n",
       "      <td>0.0</td>\n",
       "      <td>0.0</td>\n",
       "      <td>0.0</td>\n",
       "      <td>0.0</td>\n",
       "      <td>0.0</td>\n",
       "      <td>0.0</td>\n",
       "      <td>0.0</td>\n",
       "      <td>0.0</td>\n",
       "    </tr>\n",
       "    <tr>\n",
       "      <th>8</th>\n",
       "      <td>0.0</td>\n",
       "      <td>0.0</td>\n",
       "      <td>3.5</td>\n",
       "      <td>4.0</td>\n",
       "      <td>4.0</td>\n",
       "      <td>4.5</td>\n",
       "      <td>0.0</td>\n",
       "      <td>0.0</td>\n",
       "      <td>0.0</td>\n",
       "      <td>0.0</td>\n",
       "      <td>...</td>\n",
       "      <td>0.0</td>\n",
       "      <td>0.0</td>\n",
       "      <td>0.0</td>\n",
       "      <td>0.0</td>\n",
       "      <td>0.0</td>\n",
       "      <td>0.0</td>\n",
       "      <td>0.0</td>\n",
       "      <td>0.0</td>\n",
       "      <td>0.0</td>\n",
       "      <td>0.0</td>\n",
       "    </tr>\n",
       "    <tr>\n",
       "      <th>9</th>\n",
       "      <td>0.0</td>\n",
       "      <td>0.0</td>\n",
       "      <td>0.0</td>\n",
       "      <td>0.0</td>\n",
       "      <td>0.0</td>\n",
       "      <td>0.0</td>\n",
       "      <td>0.0</td>\n",
       "      <td>0.0</td>\n",
       "      <td>0.0</td>\n",
       "      <td>0.0</td>\n",
       "      <td>...</td>\n",
       "      <td>0.0</td>\n",
       "      <td>0.0</td>\n",
       "      <td>0.0</td>\n",
       "      <td>0.0</td>\n",
       "      <td>0.0</td>\n",
       "      <td>0.0</td>\n",
       "      <td>0.0</td>\n",
       "      <td>0.0</td>\n",
       "      <td>0.0</td>\n",
       "      <td>0.0</td>\n",
       "    </tr>\n",
       "    <tr>\n",
       "      <th>10</th>\n",
       "      <td>0.0</td>\n",
       "      <td>0.0</td>\n",
       "      <td>0.0</td>\n",
       "      <td>0.0</td>\n",
       "      <td>0.0</td>\n",
       "      <td>0.0</td>\n",
       "      <td>0.0</td>\n",
       "      <td>0.0</td>\n",
       "      <td>0.0</td>\n",
       "      <td>0.0</td>\n",
       "      <td>...</td>\n",
       "      <td>0.0</td>\n",
       "      <td>0.0</td>\n",
       "      <td>0.0</td>\n",
       "      <td>0.0</td>\n",
       "      <td>0.0</td>\n",
       "      <td>0.0</td>\n",
       "      <td>0.0</td>\n",
       "      <td>0.0</td>\n",
       "      <td>0.0</td>\n",
       "      <td>0.0</td>\n",
       "    </tr>\n",
       "  </tbody>\n",
       "</table>\n",
       "<p>10 rows × 8370 columns</p>\n",
       "</div>"
      ],
      "text/plain": [
       "tmdbId  5       6       11      12      13      14      15      16      \\\n",
       "userId                                                                   \n",
       "1          0.0     0.0     0.0     0.0     0.0     0.0     0.0     0.0   \n",
       "2          0.0     0.0     0.0     0.0     3.0     0.0     0.0     0.0   \n",
       "3          0.0     0.0     0.0     3.0     5.0     0.0     0.0     0.0   \n",
       "4          0.0     0.0     5.0     0.0     5.0     0.0     0.0     0.0   \n",
       "5          0.0     0.0     0.0     0.0     4.0     0.0     0.0     0.0   \n",
       "6          0.0     0.0     0.0     0.0     0.0     0.0     0.0     0.0   \n",
       "7          0.0     0.0     5.0     0.0     3.0     0.0     0.0     0.0   \n",
       "8          0.0     0.0     3.5     4.0     4.0     4.5     0.0     0.0   \n",
       "9          0.0     0.0     0.0     0.0     0.0     0.0     0.0     0.0   \n",
       "10         0.0     0.0     0.0     0.0     0.0     0.0     0.0     0.0   \n",
       "\n",
       "tmdbId  18      19      ...  376570  384798  387893  390734  390989  391698  \\\n",
       "userId                  ...                                                   \n",
       "1          0.0     0.0  ...     0.0     0.0     0.0     0.0     0.0     0.0   \n",
       "2          0.0     0.0  ...     0.0     0.0     0.0     0.0     0.0     0.0   \n",
       "3          0.0     0.0  ...     0.0     0.0     0.0     0.0     0.0     0.0   \n",
       "4          0.0     0.0  ...     0.0     0.0     0.0     0.0     0.0     0.0   \n",
       "5          0.0     0.0  ...     0.0     0.0     0.0     0.0     0.0     0.0   \n",
       "6          0.0     0.0  ...     0.0     0.0     0.0     0.0     0.0     0.0   \n",
       "7          0.0     0.0  ...     0.0     0.0     0.0     0.0     0.0     0.0   \n",
       "8          0.0     0.0  ...     0.0     0.0     0.0     0.0     0.0     0.0   \n",
       "9          0.0     0.0  ...     0.0     0.0     0.0     0.0     0.0     0.0   \n",
       "10         0.0     0.0  ...     0.0     0.0     0.0     0.0     0.0     0.0   \n",
       "\n",
       "tmdbId  392572  401387  402672  410921  \n",
       "userId                                  \n",
       "1          0.0     0.0     0.0     0.0  \n",
       "2          0.0     0.0     0.0     0.0  \n",
       "3          0.0     0.0     0.0     0.0  \n",
       "4          0.0     0.0     0.0     0.0  \n",
       "5          0.0     0.0     0.0     0.0  \n",
       "6          0.0     0.0     0.0     0.0  \n",
       "7          0.0     0.0     0.0     0.0  \n",
       "8          0.0     0.0     0.0     0.0  \n",
       "9          0.0     0.0     0.0     0.0  \n",
       "10         0.0     0.0     0.0     0.0  \n",
       "\n",
       "[10 rows x 8370 columns]"
      ]
     },
     "execution_count": 34,
     "metadata": {},
     "output_type": "execute_result"
    }
   ],
   "source": [
    "#Creating a sparse pivot table with users in rows and items in columns\n",
    "users_items_pivot_matrix_df = reviews_train_df.pivot(index='userId', \n",
    "                                                     columns='tmdbId', \n",
    "                                                     values='rating').fillna(0)\n",
    "\n",
    "users_items_pivot_matrix_df.head(10)"
   ]
  },
  {
   "cell_type": "code",
   "execution_count": 35,
   "metadata": {},
   "outputs": [
    {
     "data": {
      "text/plain": [
       "array([[0. , 0. , 0. , ..., 0. , 0. , 0. ],\n",
       "       [0. , 0. , 0. , ..., 0. , 0. , 0. ],\n",
       "       [0. , 0. , 0. , ..., 0. , 0. , 0. ],\n",
       "       ...,\n",
       "       [0. , 0. , 3.5, ..., 0. , 0. , 0. ],\n",
       "       [0. , 0. , 0. , ..., 0. , 0. , 0. ],\n",
       "       [0. , 0. , 0. , ..., 0. , 0. , 0. ]])"
      ]
     },
     "execution_count": 35,
     "metadata": {},
     "output_type": "execute_result"
    }
   ],
   "source": [
    "users_items_pivot_matrix = users_items_pivot_matrix_df.values\n",
    "users_items_pivot_matrix[:10]"
   ]
  },
  {
   "cell_type": "code",
   "execution_count": 36,
   "metadata": {},
   "outputs": [
    {
     "data": {
      "text/plain": [
       "[1, 2, 3, 4, 5, 6, 7, 8, 9, 10]"
      ]
     },
     "execution_count": 36,
     "metadata": {},
     "output_type": "execute_result"
    }
   ],
   "source": [
    "users_ids = list(users_items_pivot_matrix_df.index)\n",
    "users_ids[:10]"
   ]
  },
  {
   "cell_type": "code",
   "execution_count": 37,
   "metadata": {},
   "outputs": [
    {
     "data": {
      "text/plain": [
       "<671x8370 sparse matrix of type '<class 'numpy.float64'>'\n",
       "\twith 79848 stored elements in Compressed Sparse Row format>"
      ]
     },
     "execution_count": 37,
     "metadata": {},
     "output_type": "execute_result"
    }
   ],
   "source": [
    "users_items_pivot_sparse_matrix = csr_matrix(users_items_pivot_matrix)\n",
    "users_items_pivot_sparse_matrix"
   ]
  },
  {
   "cell_type": "code",
   "execution_count": 38,
   "metadata": {},
   "outputs": [],
   "source": [
    "#The number of factors to factor the user-item matrix.\n",
    "NUMBER_OF_FACTORS_MF = 15\n",
    "#Performs matrix factorization of the original user item matrix\n",
    "#U, sigma, Vt = svds(users_items_pivot_matrix, k = NUMBER_OF_FACTORS_MF)\n",
    "U, sigma, Vt = svds(users_items_pivot_sparse_matrix, k = NUMBER_OF_FACTORS_MF)"
   ]
  },
  {
   "cell_type": "code",
   "execution_count": 39,
   "metadata": {},
   "outputs": [
    {
     "data": {
      "text/plain": [
       "(671, 15)"
      ]
     },
     "execution_count": 39,
     "metadata": {},
     "output_type": "execute_result"
    }
   ],
   "source": [
    "U.shape"
   ]
  },
  {
   "cell_type": "code",
   "execution_count": 40,
   "metadata": {},
   "outputs": [
    {
     "data": {
      "text/plain": [
       "(15, 8370)"
      ]
     },
     "execution_count": 40,
     "metadata": {},
     "output_type": "execute_result"
    }
   ],
   "source": [
    "Vt.shape"
   ]
  },
  {
   "cell_type": "code",
   "execution_count": 41,
   "metadata": {},
   "outputs": [
    {
     "data": {
      "text/plain": [
       "(15, 15)"
      ]
     },
     "execution_count": 41,
     "metadata": {},
     "output_type": "execute_result"
    }
   ],
   "source": [
    "sigma = np.diag(sigma)\n",
    "sigma.shape"
   ]
  },
  {
   "cell_type": "markdown",
   "metadata": {},
   "source": [
    "Reconstruct the original matrix by multiplying the factors after factorization, resulting in a non-sparse matrix. "
   ]
  },
  {
   "cell_type": "code",
   "execution_count": 42,
   "metadata": {},
   "outputs": [
    {
     "data": {
      "text/plain": [
       "array([[ 4.33720009e-03,  5.06784336e-03,  2.27523713e-02, ...,\n",
       "         4.52836349e-05, -3.16873912e-04,  2.03530598e-03],\n",
       "       [ 8.03810132e-03,  3.38199047e-02, -1.80818647e-01, ...,\n",
       "         5.82922094e-03,  8.90503736e-04,  4.56102245e-03],\n",
       "       [ 9.79648504e-03, -2.24766436e-02,  1.08918843e+00, ...,\n",
       "        -4.31510301e-03,  3.14929595e-03,  1.67465204e-02],\n",
       "       ...,\n",
       "       [ 3.28726113e-02,  1.10506173e-02,  5.88481514e-01, ...,\n",
       "         2.52276423e-03, -2.62995358e-04,  1.63500743e-02],\n",
       "       [ 9.35882709e-02,  3.26527363e-02,  1.19378106e+00, ...,\n",
       "        -2.49418937e-04,  6.44592787e-04, -1.17569333e-02],\n",
       "       [-6.06369901e-03, -4.75597771e-02,  2.83389628e+00, ...,\n",
       "        -3.62731478e-03,  3.34735534e-03, -4.68790936e-02]])"
      ]
     },
     "execution_count": 42,
     "metadata": {},
     "output_type": "execute_result"
    }
   ],
   "source": [
    "all_user_predicted_ratings = np.dot(np.dot(U, sigma), Vt) \n",
    "all_user_predicted_ratings"
   ]
  },
  {
   "cell_type": "code",
   "execution_count": 43,
   "metadata": {},
   "outputs": [],
   "source": [
    "all_user_predicted_ratings_norm = (all_user_predicted_ratings - all_user_predicted_ratings.min()) / (all_user_predicted_ratings.max() - all_user_predicted_ratings.min())"
   ]
  },
  {
   "cell_type": "code",
   "execution_count": 44,
   "metadata": {},
   "outputs": [
    {
     "data": {
      "text/html": [
       "<div>\n",
       "<style scoped>\n",
       "    .dataframe tbody tr th:only-of-type {\n",
       "        vertical-align: middle;\n",
       "    }\n",
       "\n",
       "    .dataframe tbody tr th {\n",
       "        vertical-align: top;\n",
       "    }\n",
       "\n",
       "    .dataframe thead th {\n",
       "        text-align: right;\n",
       "    }\n",
       "</style>\n",
       "<table border=\"1\" class=\"dataframe\">\n",
       "  <thead>\n",
       "    <tr style=\"text-align: right;\">\n",
       "      <th></th>\n",
       "      <th>1</th>\n",
       "      <th>2</th>\n",
       "      <th>3</th>\n",
       "      <th>4</th>\n",
       "      <th>5</th>\n",
       "      <th>6</th>\n",
       "      <th>7</th>\n",
       "      <th>8</th>\n",
       "      <th>9</th>\n",
       "      <th>10</th>\n",
       "      <th>...</th>\n",
       "      <th>662</th>\n",
       "      <th>663</th>\n",
       "      <th>664</th>\n",
       "      <th>665</th>\n",
       "      <th>666</th>\n",
       "      <th>667</th>\n",
       "      <th>668</th>\n",
       "      <th>669</th>\n",
       "      <th>670</th>\n",
       "      <th>671</th>\n",
       "    </tr>\n",
       "    <tr>\n",
       "      <th>tmdbId</th>\n",
       "      <th></th>\n",
       "      <th></th>\n",
       "      <th></th>\n",
       "      <th></th>\n",
       "      <th></th>\n",
       "      <th></th>\n",
       "      <th></th>\n",
       "      <th></th>\n",
       "      <th></th>\n",
       "      <th></th>\n",
       "      <th></th>\n",
       "      <th></th>\n",
       "      <th></th>\n",
       "      <th></th>\n",
       "      <th></th>\n",
       "      <th></th>\n",
       "      <th></th>\n",
       "      <th></th>\n",
       "      <th></th>\n",
       "      <th></th>\n",
       "      <th></th>\n",
       "    </tr>\n",
       "  </thead>\n",
       "  <tbody>\n",
       "    <tr>\n",
       "      <th>5</th>\n",
       "      <td>0.295144</td>\n",
       "      <td>0.295420</td>\n",
       "      <td>0.295551</td>\n",
       "      <td>0.290946</td>\n",
       "      <td>0.296571</td>\n",
       "      <td>0.295326</td>\n",
       "      <td>0.293617</td>\n",
       "      <td>0.307014</td>\n",
       "      <td>0.304457</td>\n",
       "      <td>0.298513</td>\n",
       "      <td>...</td>\n",
       "      <td>0.293020</td>\n",
       "      <td>0.294400</td>\n",
       "      <td>0.316360</td>\n",
       "      <td>0.317853</td>\n",
       "      <td>0.293716</td>\n",
       "      <td>0.302202</td>\n",
       "      <td>0.298208</td>\n",
       "      <td>0.297274</td>\n",
       "      <td>0.301808</td>\n",
       "      <td>0.294367</td>\n",
       "    </tr>\n",
       "    <tr>\n",
       "      <th>6</th>\n",
       "      <td>0.295198</td>\n",
       "      <td>0.297345</td>\n",
       "      <td>0.293141</td>\n",
       "      <td>0.300058</td>\n",
       "      <td>0.292921</td>\n",
       "      <td>0.295643</td>\n",
       "      <td>0.296580</td>\n",
       "      <td>0.295747</td>\n",
       "      <td>0.296593</td>\n",
       "      <td>0.296522</td>\n",
       "      <td>...</td>\n",
       "      <td>0.294594</td>\n",
       "      <td>0.293565</td>\n",
       "      <td>0.304696</td>\n",
       "      <td>0.295744</td>\n",
       "      <td>0.295509</td>\n",
       "      <td>0.299176</td>\n",
       "      <td>0.295598</td>\n",
       "      <td>0.295645</td>\n",
       "      <td>0.297258</td>\n",
       "      <td>0.291268</td>\n",
       "    </tr>\n",
       "    <tr>\n",
       "      <th>11</th>\n",
       "      <td>0.296519</td>\n",
       "      <td>0.281317</td>\n",
       "      <td>0.376153</td>\n",
       "      <td>0.609333</td>\n",
       "      <td>0.265805</td>\n",
       "      <td>0.313889</td>\n",
       "      <td>0.533426</td>\n",
       "      <td>0.502872</td>\n",
       "      <td>0.395081</td>\n",
       "      <td>0.375032</td>\n",
       "      <td>...</td>\n",
       "      <td>0.262474</td>\n",
       "      <td>0.346299</td>\n",
       "      <td>0.627698</td>\n",
       "      <td>0.413745</td>\n",
       "      <td>0.299344</td>\n",
       "      <td>0.332786</td>\n",
       "      <td>0.336199</td>\n",
       "      <td>0.338764</td>\n",
       "      <td>0.383963</td>\n",
       "      <td>0.506436</td>\n",
       "    </tr>\n",
       "    <tr>\n",
       "      <th>12</th>\n",
       "      <td>0.293603</td>\n",
       "      <td>0.301280</td>\n",
       "      <td>0.335362</td>\n",
       "      <td>0.330389</td>\n",
       "      <td>0.398660</td>\n",
       "      <td>0.320283</td>\n",
       "      <td>0.305703</td>\n",
       "      <td>0.402794</td>\n",
       "      <td>0.306055</td>\n",
       "      <td>0.301889</td>\n",
       "      <td>...</td>\n",
       "      <td>0.316965</td>\n",
       "      <td>0.302674</td>\n",
       "      <td>0.450333</td>\n",
       "      <td>0.453257</td>\n",
       "      <td>0.302865</td>\n",
       "      <td>0.282644</td>\n",
       "      <td>0.303415</td>\n",
       "      <td>0.299989</td>\n",
       "      <td>0.302650</td>\n",
       "      <td>0.395964</td>\n",
       "    </tr>\n",
       "    <tr>\n",
       "      <th>13</th>\n",
       "      <td>0.291458</td>\n",
       "      <td>0.516679</td>\n",
       "      <td>0.429395</td>\n",
       "      <td>0.475729</td>\n",
       "      <td>0.400644</td>\n",
       "      <td>0.311987</td>\n",
       "      <td>0.471604</td>\n",
       "      <td>0.478459</td>\n",
       "      <td>0.350764</td>\n",
       "      <td>0.349940</td>\n",
       "      <td>...</td>\n",
       "      <td>0.525411</td>\n",
       "      <td>0.333755</td>\n",
       "      <td>0.603226</td>\n",
       "      <td>0.508193</td>\n",
       "      <td>0.462309</td>\n",
       "      <td>0.455781</td>\n",
       "      <td>0.350561</td>\n",
       "      <td>0.307072</td>\n",
       "      <td>0.396407</td>\n",
       "      <td>0.484432</td>\n",
       "    </tr>\n",
       "    <tr>\n",
       "      <th>14</th>\n",
       "      <td>0.292994</td>\n",
       "      <td>0.289299</td>\n",
       "      <td>0.367310</td>\n",
       "      <td>0.356855</td>\n",
       "      <td>0.342279</td>\n",
       "      <td>0.326974</td>\n",
       "      <td>0.333537</td>\n",
       "      <td>0.521168</td>\n",
       "      <td>0.369035</td>\n",
       "      <td>0.350799</td>\n",
       "      <td>...</td>\n",
       "      <td>0.283750</td>\n",
       "      <td>0.312362</td>\n",
       "      <td>0.466326</td>\n",
       "      <td>0.438310</td>\n",
       "      <td>0.299506</td>\n",
       "      <td>0.307475</td>\n",
       "      <td>0.355889</td>\n",
       "      <td>0.323980</td>\n",
       "      <td>0.377310</td>\n",
       "      <td>0.491023</td>\n",
       "    </tr>\n",
       "    <tr>\n",
       "      <th>15</th>\n",
       "      <td>0.299235</td>\n",
       "      <td>0.304181</td>\n",
       "      <td>0.303256</td>\n",
       "      <td>0.361743</td>\n",
       "      <td>0.300442</td>\n",
       "      <td>0.310196</td>\n",
       "      <td>0.330266</td>\n",
       "      <td>0.327271</td>\n",
       "      <td>0.317890</td>\n",
       "      <td>0.305978</td>\n",
       "      <td>...</td>\n",
       "      <td>0.287285</td>\n",
       "      <td>0.295337</td>\n",
       "      <td>0.316829</td>\n",
       "      <td>0.293480</td>\n",
       "      <td>0.294866</td>\n",
       "      <td>0.314063</td>\n",
       "      <td>0.314059</td>\n",
       "      <td>0.301957</td>\n",
       "      <td>0.312520</td>\n",
       "      <td>0.346152</td>\n",
       "    </tr>\n",
       "    <tr>\n",
       "      <th>16</th>\n",
       "      <td>0.295382</td>\n",
       "      <td>0.293983</td>\n",
       "      <td>0.298768</td>\n",
       "      <td>0.272008</td>\n",
       "      <td>0.304604</td>\n",
       "      <td>0.304704</td>\n",
       "      <td>0.289398</td>\n",
       "      <td>0.319632</td>\n",
       "      <td>0.300644</td>\n",
       "      <td>0.293860</td>\n",
       "      <td>...</td>\n",
       "      <td>0.290198</td>\n",
       "      <td>0.292486</td>\n",
       "      <td>0.323329</td>\n",
       "      <td>0.289921</td>\n",
       "      <td>0.291935</td>\n",
       "      <td>0.298278</td>\n",
       "      <td>0.301171</td>\n",
       "      <td>0.293306</td>\n",
       "      <td>0.300952</td>\n",
       "      <td>0.304501</td>\n",
       "    </tr>\n",
       "    <tr>\n",
       "      <th>18</th>\n",
       "      <td>0.295881</td>\n",
       "      <td>0.275657</td>\n",
       "      <td>0.314873</td>\n",
       "      <td>0.434946</td>\n",
       "      <td>0.301348</td>\n",
       "      <td>0.318101</td>\n",
       "      <td>0.365916</td>\n",
       "      <td>0.375521</td>\n",
       "      <td>0.308597</td>\n",
       "      <td>0.319644</td>\n",
       "      <td>...</td>\n",
       "      <td>0.269973</td>\n",
       "      <td>0.304827</td>\n",
       "      <td>0.532172</td>\n",
       "      <td>0.375654</td>\n",
       "      <td>0.283661</td>\n",
       "      <td>0.293616</td>\n",
       "      <td>0.293728</td>\n",
       "      <td>0.307821</td>\n",
       "      <td>0.303135</td>\n",
       "      <td>0.341051</td>\n",
       "    </tr>\n",
       "    <tr>\n",
       "      <th>19</th>\n",
       "      <td>0.297311</td>\n",
       "      <td>0.296440</td>\n",
       "      <td>0.293979</td>\n",
       "      <td>0.306342</td>\n",
       "      <td>0.290043</td>\n",
       "      <td>0.309017</td>\n",
       "      <td>0.301606</td>\n",
       "      <td>0.302643</td>\n",
       "      <td>0.288415</td>\n",
       "      <td>0.294247</td>\n",
       "      <td>...</td>\n",
       "      <td>0.287792</td>\n",
       "      <td>0.291227</td>\n",
       "      <td>0.355644</td>\n",
       "      <td>0.260698</td>\n",
       "      <td>0.292673</td>\n",
       "      <td>0.297427</td>\n",
       "      <td>0.295129</td>\n",
       "      <td>0.292988</td>\n",
       "      <td>0.292156</td>\n",
       "      <td>0.292420</td>\n",
       "    </tr>\n",
       "  </tbody>\n",
       "</table>\n",
       "<p>10 rows × 671 columns</p>\n",
       "</div>"
      ],
      "text/plain": [
       "             1         2         3         4         5         6         7    \\\n",
       "tmdbId                                                                         \n",
       "5       0.295144  0.295420  0.295551  0.290946  0.296571  0.295326  0.293617   \n",
       "6       0.295198  0.297345  0.293141  0.300058  0.292921  0.295643  0.296580   \n",
       "11      0.296519  0.281317  0.376153  0.609333  0.265805  0.313889  0.533426   \n",
       "12      0.293603  0.301280  0.335362  0.330389  0.398660  0.320283  0.305703   \n",
       "13      0.291458  0.516679  0.429395  0.475729  0.400644  0.311987  0.471604   \n",
       "14      0.292994  0.289299  0.367310  0.356855  0.342279  0.326974  0.333537   \n",
       "15      0.299235  0.304181  0.303256  0.361743  0.300442  0.310196  0.330266   \n",
       "16      0.295382  0.293983  0.298768  0.272008  0.304604  0.304704  0.289398   \n",
       "18      0.295881  0.275657  0.314873  0.434946  0.301348  0.318101  0.365916   \n",
       "19      0.297311  0.296440  0.293979  0.306342  0.290043  0.309017  0.301606   \n",
       "\n",
       "             8         9         10   ...       662       663       664  \\\n",
       "tmdbId                                ...                                 \n",
       "5       0.307014  0.304457  0.298513  ...  0.293020  0.294400  0.316360   \n",
       "6       0.295747  0.296593  0.296522  ...  0.294594  0.293565  0.304696   \n",
       "11      0.502872  0.395081  0.375032  ...  0.262474  0.346299  0.627698   \n",
       "12      0.402794  0.306055  0.301889  ...  0.316965  0.302674  0.450333   \n",
       "13      0.478459  0.350764  0.349940  ...  0.525411  0.333755  0.603226   \n",
       "14      0.521168  0.369035  0.350799  ...  0.283750  0.312362  0.466326   \n",
       "15      0.327271  0.317890  0.305978  ...  0.287285  0.295337  0.316829   \n",
       "16      0.319632  0.300644  0.293860  ...  0.290198  0.292486  0.323329   \n",
       "18      0.375521  0.308597  0.319644  ...  0.269973  0.304827  0.532172   \n",
       "19      0.302643  0.288415  0.294247  ...  0.287792  0.291227  0.355644   \n",
       "\n",
       "             665       666       667       668       669       670       671  \n",
       "tmdbId                                                                        \n",
       "5       0.317853  0.293716  0.302202  0.298208  0.297274  0.301808  0.294367  \n",
       "6       0.295744  0.295509  0.299176  0.295598  0.295645  0.297258  0.291268  \n",
       "11      0.413745  0.299344  0.332786  0.336199  0.338764  0.383963  0.506436  \n",
       "12      0.453257  0.302865  0.282644  0.303415  0.299989  0.302650  0.395964  \n",
       "13      0.508193  0.462309  0.455781  0.350561  0.307072  0.396407  0.484432  \n",
       "14      0.438310  0.299506  0.307475  0.355889  0.323980  0.377310  0.491023  \n",
       "15      0.293480  0.294866  0.314063  0.314059  0.301957  0.312520  0.346152  \n",
       "16      0.289921  0.291935  0.298278  0.301171  0.293306  0.300952  0.304501  \n",
       "18      0.375654  0.283661  0.293616  0.293728  0.307821  0.303135  0.341051  \n",
       "19      0.260698  0.292673  0.297427  0.295129  0.292988  0.292156  0.292420  \n",
       "\n",
       "[10 rows x 671 columns]"
      ]
     },
     "execution_count": 44,
     "metadata": {},
     "output_type": "execute_result"
    }
   ],
   "source": [
    "#Converting the reconstructed matrix back to a Pandas dataframe\n",
    "cf_preds_df = pd.DataFrame(all_user_predicted_ratings_norm, columns = users_items_pivot_matrix_df.columns, index=users_ids).transpose()\n",
    "cf_preds_df.head(10)"
   ]
  },
  {
   "cell_type": "code",
   "execution_count": 45,
   "metadata": {},
   "outputs": [
    {
     "data": {
      "text/plain": [
       "671"
      ]
     },
     "execution_count": 45,
     "metadata": {},
     "output_type": "execute_result"
    }
   ],
   "source": [
    "len(cf_preds_df.columns)"
   ]
  },
  {
   "cell_type": "code",
   "execution_count": 46,
   "metadata": {},
   "outputs": [],
   "source": [
    "class CFRecommender:\n",
    "    \n",
    "    MODEL_NAME = 'Collaborative Filtering'\n",
    "    \n",
    "    def __init__(self, cf_predictions_df, items_df=None):\n",
    "        self.cf_predictions_df = cf_predictions_df\n",
    "        self.items_df = items_df\n",
    "        \n",
    "    def get_model_name(self):\n",
    "        return self.MODEL_NAME\n",
    "        \n",
    "    def recommend_items(self, user_id, items_to_ignore=[], topn=10, verbose=False):\n",
    "        # Get and sort the user's predictions\n",
    "        sorted_user_predictions = self.cf_predictions_df[user_id].sort_values(ascending=False) \\\n",
    "                                    .reset_index().rename(columns={user_id: 'recStrength'})\n",
    "\n",
    "        # Recommend the highest predicted rating movies that the user hasn't seen yet.\n",
    "        recommendations_df = sorted_user_predictions[~sorted_user_predictions['tmdbId'].isin(items_to_ignore)] \\\n",
    "                               .sort_values('recStrength', ascending = False) \\\n",
    "                               .head(topn)\n",
    "\n",
    "        if verbose:\n",
    "            if self.items_df is None:\n",
    "                raise Exception('\"items_df\" is required in verbose mode')\n",
    "\n",
    "            recommendations_df = recommendations_df.merge(self.items_df, how = 'left', \n",
    "                                                          left_on = 'tmdbId', \n",
    "                                                          right_on = 'id')[['recStrength', 'tmdbId', 'title', 'original_language', 'genre']]\n",
    "\n",
    "\n",
    "        return recommendations_df\n",
    "    \n",
    "cf_recommender_model = CFRecommender(cf_preds_df, items_df=movies)"
   ]
  },
  {
   "cell_type": "code",
   "execution_count": 47,
   "metadata": {},
   "outputs": [
    {
     "name": "stdout",
     "output_type": "stream",
     "text": [
      "Evaluating Collaborative Filtering (SVD Matrix Factorization) model...\n",
      "670 users processed\n",
      "671\n",
      "\n",
      "Global metrics:\n",
      "{'modelName': 'Collaborative Filtering', 'precision@5': 0.31535022354694486, 'precision@10': 0.26512667660208644, 'precision@20': 0.21184798807749627, 'map@5': 0.35437655240933974, 'map@10': 0.31855883187850437, 'map@20': 0.27605931525372496, 'recall@5': 0.8321310489930869, 'recall@10': 0.9017633503656948, 'recall@20': 0.9574190962829375}\n"
     ]
    },
    {
     "data": {
      "text/html": [
       "<div>\n",
       "<style scoped>\n",
       "    .dataframe tbody tr th:only-of-type {\n",
       "        vertical-align: middle;\n",
       "    }\n",
       "\n",
       "    .dataframe tbody tr th {\n",
       "        vertical-align: top;\n",
       "    }\n",
       "\n",
       "    .dataframe thead th {\n",
       "        text-align: right;\n",
       "    }\n",
       "</style>\n",
       "<table border=\"1\" class=\"dataframe\">\n",
       "  <thead>\n",
       "    <tr style=\"text-align: right;\">\n",
       "      <th></th>\n",
       "      <th>hits@5_count</th>\n",
       "      <th>hits@10_count</th>\n",
       "      <th>hits@20_count</th>\n",
       "      <th>recall@5</th>\n",
       "      <th>recall@10</th>\n",
       "      <th>recall@20</th>\n",
       "      <th>interacted_count</th>\n",
       "      <th>p_hits@5_count</th>\n",
       "      <th>p_hits@10_count</th>\n",
       "      <th>p_hits@20_count</th>\n",
       "      <th>precision@5</th>\n",
       "      <th>precision@10</th>\n",
       "      <th>precision@20</th>\n",
       "      <th>average_p@5</th>\n",
       "      <th>average_p@10</th>\n",
       "      <th>average_p@20</th>\n",
       "      <th>_person_id</th>\n",
       "    </tr>\n",
       "  </thead>\n",
       "  <tbody>\n",
       "    <tr>\n",
       "      <th>98</th>\n",
       "      <td>200</td>\n",
       "      <td>263</td>\n",
       "      <td>370</td>\n",
       "      <td>0.419287</td>\n",
       "      <td>0.551363</td>\n",
       "      <td>0.775681</td>\n",
       "      <td>477</td>\n",
       "      <td>3</td>\n",
       "      <td>6</td>\n",
       "      <td>9</td>\n",
       "      <td>0.6</td>\n",
       "      <td>0.6</td>\n",
       "      <td>0.45</td>\n",
       "      <td>0.453333</td>\n",
       "      <td>0.553929</td>\n",
       "      <td>0.545890</td>\n",
       "      <td>547</td>\n",
       "    </tr>\n",
       "    <tr>\n",
       "      <th>18</th>\n",
       "      <td>253</td>\n",
       "      <td>299</td>\n",
       "      <td>347</td>\n",
       "      <td>0.678284</td>\n",
       "      <td>0.801609</td>\n",
       "      <td>0.930295</td>\n",
       "      <td>373</td>\n",
       "      <td>5</td>\n",
       "      <td>8</td>\n",
       "      <td>14</td>\n",
       "      <td>1.0</td>\n",
       "      <td>0.8</td>\n",
       "      <td>0.70</td>\n",
       "      <td>1.000000</td>\n",
       "      <td>0.956389</td>\n",
       "      <td>0.833004</td>\n",
       "      <td>564</td>\n",
       "    </tr>\n",
       "    <tr>\n",
       "      <th>10</th>\n",
       "      <td>179</td>\n",
       "      <td>238</td>\n",
       "      <td>284</td>\n",
       "      <td>0.515850</td>\n",
       "      <td>0.685879</td>\n",
       "      <td>0.818444</td>\n",
       "      <td>347</td>\n",
       "      <td>3</td>\n",
       "      <td>5</td>\n",
       "      <td>8</td>\n",
       "      <td>0.6</td>\n",
       "      <td>0.5</td>\n",
       "      <td>0.40</td>\n",
       "      <td>0.453333</td>\n",
       "      <td>0.478254</td>\n",
       "      <td>0.463139</td>\n",
       "      <td>624</td>\n",
       "    </tr>\n",
       "    <tr>\n",
       "      <th>40</th>\n",
       "      <td>228</td>\n",
       "      <td>269</td>\n",
       "      <td>320</td>\n",
       "      <td>0.672566</td>\n",
       "      <td>0.793510</td>\n",
       "      <td>0.943953</td>\n",
       "      <td>339</td>\n",
       "      <td>5</td>\n",
       "      <td>9</td>\n",
       "      <td>16</td>\n",
       "      <td>1.0</td>\n",
       "      <td>0.9</td>\n",
       "      <td>0.80</td>\n",
       "      <td>1.000000</td>\n",
       "      <td>0.990000</td>\n",
       "      <td>0.892546</td>\n",
       "      <td>15</td>\n",
       "    </tr>\n",
       "    <tr>\n",
       "      <th>44</th>\n",
       "      <td>187</td>\n",
       "      <td>224</td>\n",
       "      <td>290</td>\n",
       "      <td>0.584375</td>\n",
       "      <td>0.700000</td>\n",
       "      <td>0.906250</td>\n",
       "      <td>320</td>\n",
       "      <td>3</td>\n",
       "      <td>5</td>\n",
       "      <td>9</td>\n",
       "      <td>0.6</td>\n",
       "      <td>0.5</td>\n",
       "      <td>0.45</td>\n",
       "      <td>0.870000</td>\n",
       "      <td>0.659802</td>\n",
       "      <td>0.553003</td>\n",
       "      <td>73</td>\n",
       "    </tr>\n",
       "    <tr>\n",
       "      <th>48</th>\n",
       "      <td>194</td>\n",
       "      <td>227</td>\n",
       "      <td>253</td>\n",
       "      <td>0.723881</td>\n",
       "      <td>0.847015</td>\n",
       "      <td>0.944030</td>\n",
       "      <td>268</td>\n",
       "      <td>4</td>\n",
       "      <td>9</td>\n",
       "      <td>15</td>\n",
       "      <td>0.8</td>\n",
       "      <td>0.9</td>\n",
       "      <td>0.75</td>\n",
       "      <td>0.843333</td>\n",
       "      <td>0.857103</td>\n",
       "      <td>0.846002</td>\n",
       "      <td>452</td>\n",
       "    </tr>\n",
       "    <tr>\n",
       "      <th>47</th>\n",
       "      <td>181</td>\n",
       "      <td>208</td>\n",
       "      <td>230</td>\n",
       "      <td>0.701550</td>\n",
       "      <td>0.806202</td>\n",
       "      <td>0.891473</td>\n",
       "      <td>258</td>\n",
       "      <td>5</td>\n",
       "      <td>9</td>\n",
       "      <td>15</td>\n",
       "      <td>1.0</td>\n",
       "      <td>0.9</td>\n",
       "      <td>0.75</td>\n",
       "      <td>1.000000</td>\n",
       "      <td>0.978889</td>\n",
       "      <td>0.876861</td>\n",
       "      <td>468</td>\n",
       "    </tr>\n",
       "    <tr>\n",
       "      <th>9</th>\n",
       "      <td>156</td>\n",
       "      <td>183</td>\n",
       "      <td>201</td>\n",
       "      <td>0.739336</td>\n",
       "      <td>0.867299</td>\n",
       "      <td>0.952607</td>\n",
       "      <td>211</td>\n",
       "      <td>4</td>\n",
       "      <td>7</td>\n",
       "      <td>11</td>\n",
       "      <td>0.8</td>\n",
       "      <td>0.7</td>\n",
       "      <td>0.55</td>\n",
       "      <td>0.843333</td>\n",
       "      <td>0.744643</td>\n",
       "      <td>0.665039</td>\n",
       "      <td>380</td>\n",
       "    </tr>\n",
       "    <tr>\n",
       "      <th>182</th>\n",
       "      <td>152</td>\n",
       "      <td>169</td>\n",
       "      <td>187</td>\n",
       "      <td>0.745098</td>\n",
       "      <td>0.828431</td>\n",
       "      <td>0.916667</td>\n",
       "      <td>204</td>\n",
       "      <td>5</td>\n",
       "      <td>9</td>\n",
       "      <td>15</td>\n",
       "      <td>1.0</td>\n",
       "      <td>0.9</td>\n",
       "      <td>0.75</td>\n",
       "      <td>1.000000</td>\n",
       "      <td>0.978889</td>\n",
       "      <td>0.868456</td>\n",
       "      <td>311</td>\n",
       "    </tr>\n",
       "    <tr>\n",
       "      <th>83</th>\n",
       "      <td>154</td>\n",
       "      <td>164</td>\n",
       "      <td>188</td>\n",
       "      <td>0.762376</td>\n",
       "      <td>0.811881</td>\n",
       "      <td>0.930693</td>\n",
       "      <td>202</td>\n",
       "      <td>5</td>\n",
       "      <td>6</td>\n",
       "      <td>14</td>\n",
       "      <td>1.0</td>\n",
       "      <td>0.6</td>\n",
       "      <td>0.70</td>\n",
       "      <td>1.000000</td>\n",
       "      <td>0.856429</td>\n",
       "      <td>0.769634</td>\n",
       "      <td>30</td>\n",
       "    </tr>\n",
       "  </tbody>\n",
       "</table>\n",
       "</div>"
      ],
      "text/plain": [
       "     hits@5_count  hits@10_count  hits@20_count  recall@5  recall@10  \\\n",
       "98            200            263            370  0.419287   0.551363   \n",
       "18            253            299            347  0.678284   0.801609   \n",
       "10            179            238            284  0.515850   0.685879   \n",
       "40            228            269            320  0.672566   0.793510   \n",
       "44            187            224            290  0.584375   0.700000   \n",
       "48            194            227            253  0.723881   0.847015   \n",
       "47            181            208            230  0.701550   0.806202   \n",
       "9             156            183            201  0.739336   0.867299   \n",
       "182           152            169            187  0.745098   0.828431   \n",
       "83            154            164            188  0.762376   0.811881   \n",
       "\n",
       "     recall@20  interacted_count  p_hits@5_count  p_hits@10_count  \\\n",
       "98    0.775681               477               3                6   \n",
       "18    0.930295               373               5                8   \n",
       "10    0.818444               347               3                5   \n",
       "40    0.943953               339               5                9   \n",
       "44    0.906250               320               3                5   \n",
       "48    0.944030               268               4                9   \n",
       "47    0.891473               258               5                9   \n",
       "9     0.952607               211               4                7   \n",
       "182   0.916667               204               5                9   \n",
       "83    0.930693               202               5                6   \n",
       "\n",
       "     p_hits@20_count  precision@5  precision@10  precision@20  average_p@5  \\\n",
       "98                 9          0.6           0.6          0.45     0.453333   \n",
       "18                14          1.0           0.8          0.70     1.000000   \n",
       "10                 8          0.6           0.5          0.40     0.453333   \n",
       "40                16          1.0           0.9          0.80     1.000000   \n",
       "44                 9          0.6           0.5          0.45     0.870000   \n",
       "48                15          0.8           0.9          0.75     0.843333   \n",
       "47                15          1.0           0.9          0.75     1.000000   \n",
       "9                 11          0.8           0.7          0.55     0.843333   \n",
       "182               15          1.0           0.9          0.75     1.000000   \n",
       "83                14          1.0           0.6          0.70     1.000000   \n",
       "\n",
       "     average_p@10  average_p@20  _person_id  \n",
       "98       0.553929      0.545890         547  \n",
       "18       0.956389      0.833004         564  \n",
       "10       0.478254      0.463139         624  \n",
       "40       0.990000      0.892546          15  \n",
       "44       0.659802      0.553003          73  \n",
       "48       0.857103      0.846002         452  \n",
       "47       0.978889      0.876861         468  \n",
       "9        0.744643      0.665039         380  \n",
       "182      0.978889      0.868456         311  \n",
       "83       0.856429      0.769634          30  "
      ]
     },
     "execution_count": 47,
     "metadata": {},
     "output_type": "execute_result"
    }
   ],
   "source": [
    "print('Evaluating Collaborative Filtering (SVD Matrix Factorization) model...')\n",
    "cf_global_metrics, cf_detailed_results_df, cf_probs_df = model_evaluator.evaluate_model(cf_recommender_model)\n",
    "print('\\nGlobal metrics:\\n%s' % cf_global_metrics)\n",
    "cf_detailed_results_df.head(10)"
   ]
  },
  {
   "cell_type": "code",
   "execution_count": 48,
   "metadata": {},
   "outputs": [
    {
     "name": "stdout",
     "output_type": "stream",
     "text": [
      "AUC: 0.9059076375284882\n"
     ]
    },
    {
     "data": {
      "image/png": "[encoded data removed]",
      "text/plain": [
       "<Figure size 432x288 with 1 Axes>"
      ]
     },
     "metadata": {
      "needs_background": "light"
     },
     "output_type": "display_data"
    }
   ],
   "source": [
    "from sklearn.metrics import roc_auc_score\n",
    "import recmetrics\n",
    "\n",
    "auc = roc_auc_score(cf_probs_df[\"true\"], cf_probs_df[\"prob\"])\n",
    "print(f\"AUC: {auc}\")\n",
    "\n",
    "recmetrics.roc_plot(cf_probs_df[\"true\"], cf_probs_df[\"prob\"], model_names=\"Collaborative-filtering recommender\", figsize=(10,8))"
   ]
  },
  {
   "cell_type": "markdown",
   "metadata": {},
   "source": [
    "### Analysing sample outputs"
   ]
  },
  {
   "cell_type": "code",
   "execution_count": 49,
   "metadata": {},
   "outputs": [
    {
     "data": {
      "text/html": [
       "<div>\n",
       "<style scoped>\n",
       "    .dataframe tbody tr th:only-of-type {\n",
       "        vertical-align: middle;\n",
       "    }\n",
       "\n",
       "    .dataframe tbody tr th {\n",
       "        vertical-align: top;\n",
       "    }\n",
       "\n",
       "    .dataframe thead th {\n",
       "        text-align: right;\n",
       "    }\n",
       "</style>\n",
       "<table border=\"1\" class=\"dataframe\">\n",
       "  <thead>\n",
       "    <tr style=\"text-align: right;\">\n",
       "      <th></th>\n",
       "      <th>rating</th>\n",
       "      <th>id</th>\n",
       "      <th>title</th>\n",
       "      <th>original_title</th>\n",
       "      <th>original_language</th>\n",
       "      <th>genre</th>\n",
       "    </tr>\n",
       "  </thead>\n",
       "  <tbody>\n",
       "    <tr>\n",
       "      <th>0</th>\n",
       "      <td>5.0</td>\n",
       "      <td>2039</td>\n",
       "      <td>Moonstruck</td>\n",
       "      <td>Moonstruck</td>\n",
       "      <td>en</td>\n",
       "      <td>Comedy, Drama, Romance</td>\n",
       "    </tr>\n",
       "    <tr>\n",
       "      <th>2</th>\n",
       "      <td>5.0</td>\n",
       "      <td>510</td>\n",
       "      <td>One Flew Over the Cuckoo's Nest</td>\n",
       "      <td>One Flew Over the Cuckoo's Nest</td>\n",
       "      <td>en</td>\n",
       "      <td>Drama</td>\n",
       "    </tr>\n",
       "    <tr>\n",
       "      <th>3</th>\n",
       "      <td>5.0</td>\n",
       "      <td>28</td>\n",
       "      <td>Apocalypse Now</td>\n",
       "      <td>Apocalypse Now</td>\n",
       "      <td>en</td>\n",
       "      <td>Drama, War</td>\n",
       "    </tr>\n",
       "    <tr>\n",
       "      <th>4</th>\n",
       "      <td>5.0</td>\n",
       "      <td>5925</td>\n",
       "      <td>The Great Escape</td>\n",
       "      <td>The Great Escape</td>\n",
       "      <td>en</td>\n",
       "      <td>Adventure, Drama, History, Thriller, War</td>\n",
       "    </tr>\n",
       "    <tr>\n",
       "      <th>5</th>\n",
       "      <td>5.0</td>\n",
       "      <td>185</td>\n",
       "      <td>A Clockwork Orange</td>\n",
       "      <td>A Clockwork Orange</td>\n",
       "      <td>en</td>\n",
       "      <td>Science Fiction, Drama</td>\n",
       "    </tr>\n",
       "    <tr>\n",
       "      <th>16</th>\n",
       "      <td>5.0</td>\n",
       "      <td>348</td>\n",
       "      <td>Alien</td>\n",
       "      <td>Alien</td>\n",
       "      <td>en</td>\n",
       "      <td>Horror, Action, Thriller, Science Fiction</td>\n",
       "    </tr>\n",
       "    <tr>\n",
       "      <th>9</th>\n",
       "      <td>5.0</td>\n",
       "      <td>192</td>\n",
       "      <td>The Name of the Rose</td>\n",
       "      <td>The Name of the Rose</td>\n",
       "      <td>en</td>\n",
       "      <td>Drama, Thriller, Mystery</td>\n",
       "    </tr>\n",
       "    <tr>\n",
       "      <th>15</th>\n",
       "      <td>5.0</td>\n",
       "      <td>387</td>\n",
       "      <td>Das Boot</td>\n",
       "      <td>Das Boot</td>\n",
       "      <td>de</td>\n",
       "      <td>Action, Drama, History, War, Adventure</td>\n",
       "    </tr>\n",
       "    <tr>\n",
       "      <th>14</th>\n",
       "      <td>5.0</td>\n",
       "      <td>120</td>\n",
       "      <td>The Lord of the Rings: The Fellowship of the Ring</td>\n",
       "      <td>The Lord of the Rings: The Fellowship of the Ring</td>\n",
       "      <td>en</td>\n",
       "      <td>Adventure, Fantasy, Action</td>\n",
       "    </tr>\n",
       "    <tr>\n",
       "      <th>13</th>\n",
       "      <td>4.0</td>\n",
       "      <td>2164</td>\n",
       "      <td>Stargate</td>\n",
       "      <td>Stargate</td>\n",
       "      <td>en</td>\n",
       "      <td>Action, Adventure, Science Fiction</td>\n",
       "    </tr>\n",
       "    <tr>\n",
       "      <th>18</th>\n",
       "      <td>4.0</td>\n",
       "      <td>10684</td>\n",
       "      <td>Courage Under Fire</td>\n",
       "      <td>Courage Under Fire</td>\n",
       "      <td>en</td>\n",
       "      <td>Drama, Thriller, Mystery, War</td>\n",
       "    </tr>\n",
       "    <tr>\n",
       "      <th>17</th>\n",
       "      <td>4.0</td>\n",
       "      <td>28368</td>\n",
       "      <td>Gardens of Stone</td>\n",
       "      <td>Gardens of Stone</td>\n",
       "      <td>en</td>\n",
       "      <td>Drama, History</td>\n",
       "    </tr>\n",
       "    <tr>\n",
       "      <th>10</th>\n",
       "      <td>4.0</td>\n",
       "      <td>426</td>\n",
       "      <td>Vertigo</td>\n",
       "      <td>Vertigo</td>\n",
       "      <td>en</td>\n",
       "      <td>Mystery, Romance, Thriller</td>\n",
       "    </tr>\n",
       "    <tr>\n",
       "      <th>12</th>\n",
       "      <td>4.0</td>\n",
       "      <td>19457</td>\n",
       "      <td>The Yards</td>\n",
       "      <td>The Yards</td>\n",
       "      <td>en</td>\n",
       "      <td>Drama, Action, Thriller, Crime</td>\n",
       "    </tr>\n",
       "    <tr>\n",
       "      <th>1</th>\n",
       "      <td>4.0</td>\n",
       "      <td>2067</td>\n",
       "      <td>Mission to Mars</td>\n",
       "      <td>Mission to Mars</td>\n",
       "      <td>en</td>\n",
       "      <td>Science Fiction</td>\n",
       "    </tr>\n",
       "    <tr>\n",
       "      <th>8</th>\n",
       "      <td>4.0</td>\n",
       "      <td>5551</td>\n",
       "      <td>Space Cowboys</td>\n",
       "      <td>Space Cowboys</td>\n",
       "      <td>en</td>\n",
       "      <td>Action, Adventure, Thriller</td>\n",
       "    </tr>\n",
       "    <tr>\n",
       "      <th>7</th>\n",
       "      <td>4.0</td>\n",
       "      <td>567</td>\n",
       "      <td>Rear Window</td>\n",
       "      <td>Rear Window</td>\n",
       "      <td>en</td>\n",
       "      <td>Drama, Mystery, Thriller</td>\n",
       "    </tr>\n",
       "    <tr>\n",
       "      <th>6</th>\n",
       "      <td>4.0</td>\n",
       "      <td>792</td>\n",
       "      <td>Platoon</td>\n",
       "      <td>Platoon</td>\n",
       "      <td>en</td>\n",
       "      <td>Drama, War, Action</td>\n",
       "    </tr>\n",
       "    <tr>\n",
       "      <th>11</th>\n",
       "      <td>3.0</td>\n",
       "      <td>801</td>\n",
       "      <td>Good Morning, Vietnam</td>\n",
       "      <td>Good Morning, Vietnam</td>\n",
       "      <td>en</td>\n",
       "      <td>Comedy, Drama, War</td>\n",
       "    </tr>\n",
       "    <tr>\n",
       "      <th>19</th>\n",
       "      <td>3.0</td>\n",
       "      <td>9354</td>\n",
       "      <td>Honey, I Shrunk the Kids</td>\n",
       "      <td>Honey, I Shrunk the Kids</td>\n",
       "      <td>en</td>\n",
       "      <td>Adventure, Comedy, Family, Science Fiction</td>\n",
       "    </tr>\n",
       "  </tbody>\n",
       "</table>\n",
       "</div>"
      ],
      "text/plain": [
       "    rating     id                                              title  \\\n",
       "0      5.0   2039                                         Moonstruck   \n",
       "2      5.0    510                    One Flew Over the Cuckoo's Nest   \n",
       "3      5.0     28                                     Apocalypse Now   \n",
       "4      5.0   5925                                   The Great Escape   \n",
       "5      5.0    185                                 A Clockwork Orange   \n",
       "16     5.0    348                                              Alien   \n",
       "9      5.0    192                               The Name of the Rose   \n",
       "15     5.0    387                                           Das Boot   \n",
       "14     5.0    120  The Lord of the Rings: The Fellowship of the Ring   \n",
       "13     4.0   2164                                           Stargate   \n",
       "18     4.0  10684                                 Courage Under Fire   \n",
       "17     4.0  28368                                   Gardens of Stone   \n",
       "10     4.0    426                                            Vertigo   \n",
       "12     4.0  19457                                          The Yards   \n",
       "1      4.0   2067                                    Mission to Mars   \n",
       "8      4.0   5551                                      Space Cowboys   \n",
       "7      4.0    567                                        Rear Window   \n",
       "6      4.0    792                                            Platoon   \n",
       "11     3.0    801                              Good Morning, Vietnam   \n",
       "19     3.0   9354                           Honey, I Shrunk the Kids   \n",
       "\n",
       "                                       original_title original_language  \\\n",
       "0                                          Moonstruck                en   \n",
       "2                     One Flew Over the Cuckoo's Nest                en   \n",
       "3                                      Apocalypse Now                en   \n",
       "4                                    The Great Escape                en   \n",
       "5                                  A Clockwork Orange                en   \n",
       "16                                              Alien                en   \n",
       "9                                The Name of the Rose                en   \n",
       "15                                           Das Boot                de   \n",
       "14  The Lord of the Rings: The Fellowship of the Ring                en   \n",
       "13                                           Stargate                en   \n",
       "18                                 Courage Under Fire                en   \n",
       "17                                   Gardens of Stone                en   \n",
       "10                                            Vertigo                en   \n",
       "12                                          The Yards                en   \n",
       "1                                     Mission to Mars                en   \n",
       "8                                       Space Cowboys                en   \n",
       "7                                         Rear Window                en   \n",
       "6                                             Platoon                en   \n",
       "11                              Good Morning, Vietnam                en   \n",
       "19                           Honey, I Shrunk the Kids                en   \n",
       "\n",
       "                                         genre  \n",
       "0                       Comedy, Drama, Romance  \n",
       "2                                        Drama  \n",
       "3                                   Drama, War  \n",
       "4     Adventure, Drama, History, Thriller, War  \n",
       "5                       Science Fiction, Drama  \n",
       "16   Horror, Action, Thriller, Science Fiction  \n",
       "9                     Drama, Thriller, Mystery  \n",
       "15      Action, Drama, History, War, Adventure  \n",
       "14                  Adventure, Fantasy, Action  \n",
       "13          Action, Adventure, Science Fiction  \n",
       "18               Drama, Thriller, Mystery, War  \n",
       "17                              Drama, History  \n",
       "10                  Mystery, Romance, Thriller  \n",
       "12              Drama, Action, Thriller, Crime  \n",
       "1                              Science Fiction  \n",
       "8                  Action, Adventure, Thriller  \n",
       "7                     Drama, Mystery, Thriller  \n",
       "6                           Drama, War, Action  \n",
       "11                          Comedy, Drama, War  \n",
       "19  Adventure, Comedy, Family, Science Fiction  "
      ]
     },
     "execution_count": 49,
     "metadata": {},
     "output_type": "execute_result"
    }
   ],
   "source": [
    "def inspect_interactions(person_id, test_set=True):\n",
    "    if test_set:\n",
    "        interactions_df = interactions_test_indexed_df\n",
    "    else:\n",
    "        interactions_df = interactions_train_indexed_df\n",
    "    return interactions_df.loc[person_id].merge(movies, how = 'left', \n",
    "                                                      left_on = 'tmdbId', \n",
    "                                                      right_on = 'id') \\\n",
    "                          .sort_values('rating', ascending = False)[['rating', \n",
    "                                                                          'id',\n",
    "                                                                          'title', 'original_title', 'original_language', 'genre']]\n",
    "\n",
    "inspect_interactions(person_id=248, test_set=True)"
   ]
  },
  {
   "cell_type": "code",
   "execution_count": 50,
   "metadata": {},
   "outputs": [
    {
     "data": {
      "text/html": [
       "<div>\n",
       "<style scoped>\n",
       "    .dataframe tbody tr th:only-of-type {\n",
       "        vertical-align: middle;\n",
       "    }\n",
       "\n",
       "    .dataframe tbody tr th {\n",
       "        vertical-align: top;\n",
       "    }\n",
       "\n",
       "    .dataframe thead th {\n",
       "        text-align: right;\n",
       "    }\n",
       "</style>\n",
       "<table border=\"1\" class=\"dataframe\">\n",
       "  <thead>\n",
       "    <tr style=\"text-align: right;\">\n",
       "      <th></th>\n",
       "      <th>recStrength</th>\n",
       "      <th>tmdbId</th>\n",
       "      <th>title</th>\n",
       "      <th>original_language</th>\n",
       "      <th>genre</th>\n",
       "    </tr>\n",
       "  </thead>\n",
       "  <tbody>\n",
       "    <tr>\n",
       "      <th>0</th>\n",
       "      <td>0.498452</td>\n",
       "      <td>1891</td>\n",
       "      <td>The Empire Strikes Back</td>\n",
       "      <td>en</td>\n",
       "      <td>Adventure, Action, Science Fiction</td>\n",
       "    </tr>\n",
       "    <tr>\n",
       "      <th>1</th>\n",
       "      <td>0.489528</td>\n",
       "      <td>85</td>\n",
       "      <td>Raiders of the Lost Ark</td>\n",
       "      <td>en</td>\n",
       "      <td>Adventure, Action</td>\n",
       "    </tr>\n",
       "    <tr>\n",
       "      <th>2</th>\n",
       "      <td>0.483028</td>\n",
       "      <td>1892</td>\n",
       "      <td>Return of the Jedi</td>\n",
       "      <td>en</td>\n",
       "      <td>Adventure, Action, Science Fiction</td>\n",
       "    </tr>\n",
       "    <tr>\n",
       "      <th>3</th>\n",
       "      <td>0.475098</td>\n",
       "      <td>11</td>\n",
       "      <td>Star Wars</td>\n",
       "      <td>en</td>\n",
       "      <td>Adventure, Action, Science Fiction</td>\n",
       "    </tr>\n",
       "    <tr>\n",
       "      <th>4</th>\n",
       "      <td>0.461170</td>\n",
       "      <td>280</td>\n",
       "      <td>Terminator 2: Judgment Day</td>\n",
       "      <td>en</td>\n",
       "      <td>Action, Thriller, Science Fiction</td>\n",
       "    </tr>\n",
       "    <tr>\n",
       "      <th>5</th>\n",
       "      <td>0.458969</td>\n",
       "      <td>603</td>\n",
       "      <td>The Matrix</td>\n",
       "      <td>en</td>\n",
       "      <td>Action, Science Fiction</td>\n",
       "    </tr>\n",
       "    <tr>\n",
       "      <th>6</th>\n",
       "      <td>0.451377</td>\n",
       "      <td>218</td>\n",
       "      <td>The Terminator</td>\n",
       "      <td>en</td>\n",
       "      <td>Action, Thriller, Science Fiction</td>\n",
       "    </tr>\n",
       "    <tr>\n",
       "      <th>7</th>\n",
       "      <td>0.451202</td>\n",
       "      <td>78</td>\n",
       "      <td>Blade Runner</td>\n",
       "      <td>en</td>\n",
       "      <td>Science Fiction, Drama, Thriller</td>\n",
       "    </tr>\n",
       "    <tr>\n",
       "      <th>8</th>\n",
       "      <td>0.443122</td>\n",
       "      <td>348</td>\n",
       "      <td>Alien</td>\n",
       "      <td>en</td>\n",
       "      <td>Horror, Action, Thriller, Science Fiction</td>\n",
       "    </tr>\n",
       "    <tr>\n",
       "      <th>9</th>\n",
       "      <td>0.435735</td>\n",
       "      <td>197</td>\n",
       "      <td>Braveheart</td>\n",
       "      <td>en</td>\n",
       "      <td>Action, Drama, History, War</td>\n",
       "    </tr>\n",
       "    <tr>\n",
       "      <th>10</th>\n",
       "      <td>0.419908</td>\n",
       "      <td>89</td>\n",
       "      <td>Indiana Jones and the Last Crusade</td>\n",
       "      <td>en</td>\n",
       "      <td>Adventure, Action</td>\n",
       "    </tr>\n",
       "    <tr>\n",
       "      <th>11</th>\n",
       "      <td>0.414229</td>\n",
       "      <td>562</td>\n",
       "      <td>Die Hard</td>\n",
       "      <td>en</td>\n",
       "      <td>Action, Thriller</td>\n",
       "    </tr>\n",
       "    <tr>\n",
       "      <th>12</th>\n",
       "      <td>0.411015</td>\n",
       "      <td>679</td>\n",
       "      <td>Aliens</td>\n",
       "      <td>en</td>\n",
       "      <td>Horror, Action, Thriller, Science Fiction</td>\n",
       "    </tr>\n",
       "    <tr>\n",
       "      <th>13</th>\n",
       "      <td>0.405496</td>\n",
       "      <td>105</td>\n",
       "      <td>Back to the Future</td>\n",
       "      <td>en</td>\n",
       "      <td>Adventure, Comedy, Science Fiction, Family</td>\n",
       "    </tr>\n",
       "    <tr>\n",
       "      <th>14</th>\n",
       "      <td>0.404790</td>\n",
       "      <td>602</td>\n",
       "      <td>Independence Day</td>\n",
       "      <td>en</td>\n",
       "      <td>Action, Adventure, Science Fiction</td>\n",
       "    </tr>\n",
       "    <tr>\n",
       "      <th>15</th>\n",
       "      <td>0.396389</td>\n",
       "      <td>607</td>\n",
       "      <td>Men in Black</td>\n",
       "      <td>en</td>\n",
       "      <td>Action, Adventure, Comedy, Science Fiction</td>\n",
       "    </tr>\n",
       "    <tr>\n",
       "      <th>16</th>\n",
       "      <td>0.391214</td>\n",
       "      <td>274</td>\n",
       "      <td>The Silence of the Lambs</td>\n",
       "      <td>en</td>\n",
       "      <td>Crime, Drama, Thriller</td>\n",
       "    </tr>\n",
       "    <tr>\n",
       "      <th>17</th>\n",
       "      <td>0.390820</td>\n",
       "      <td>2756</td>\n",
       "      <td>The Abyss</td>\n",
       "      <td>en</td>\n",
       "      <td>Adventure, Action, Thriller, Science Fiction</td>\n",
       "    </tr>\n",
       "    <tr>\n",
       "      <th>18</th>\n",
       "      <td>0.387721</td>\n",
       "      <td>857</td>\n",
       "      <td>Saving Private Ryan</td>\n",
       "      <td>en</td>\n",
       "      <td>Drama, History, War</td>\n",
       "    </tr>\n",
       "    <tr>\n",
       "      <th>19</th>\n",
       "      <td>0.387029</td>\n",
       "      <td>601</td>\n",
       "      <td>E.T. the Extra-Terrestrial</td>\n",
       "      <td>en</td>\n",
       "      <td>Science Fiction, Adventure, Family, Fantasy</td>\n",
       "    </tr>\n",
       "  </tbody>\n",
       "</table>\n",
       "</div>"
      ],
      "text/plain": [
       "    recStrength  tmdbId                               title original_language  \\\n",
       "0      0.498452    1891             The Empire Strikes Back                en   \n",
       "1      0.489528      85             Raiders of the Lost Ark                en   \n",
       "2      0.483028    1892                  Return of the Jedi                en   \n",
       "3      0.475098      11                           Star Wars                en   \n",
       "4      0.461170     280          Terminator 2: Judgment Day                en   \n",
       "5      0.458969     603                          The Matrix                en   \n",
       "6      0.451377     218                      The Terminator                en   \n",
       "7      0.451202      78                        Blade Runner                en   \n",
       "8      0.443122     348                               Alien                en   \n",
       "9      0.435735     197                          Braveheart                en   \n",
       "10     0.419908      89  Indiana Jones and the Last Crusade                en   \n",
       "11     0.414229     562                            Die Hard                en   \n",
       "12     0.411015     679                              Aliens                en   \n",
       "13     0.405496     105                  Back to the Future                en   \n",
       "14     0.404790     602                    Independence Day                en   \n",
       "15     0.396389     607                        Men in Black                en   \n",
       "16     0.391214     274            The Silence of the Lambs                en   \n",
       "17     0.390820    2756                           The Abyss                en   \n",
       "18     0.387721     857                 Saving Private Ryan                en   \n",
       "19     0.387029     601          E.T. the Extra-Terrestrial                en   \n",
       "\n",
       "                                           genre  \n",
       "0             Adventure, Action, Science Fiction  \n",
       "1                              Adventure, Action  \n",
       "2             Adventure, Action, Science Fiction  \n",
       "3             Adventure, Action, Science Fiction  \n",
       "4              Action, Thriller, Science Fiction  \n",
       "5                        Action, Science Fiction  \n",
       "6              Action, Thriller, Science Fiction  \n",
       "7               Science Fiction, Drama, Thriller  \n",
       "8      Horror, Action, Thriller, Science Fiction  \n",
       "9                    Action, Drama, History, War  \n",
       "10                             Adventure, Action  \n",
       "11                              Action, Thriller  \n",
       "12     Horror, Action, Thriller, Science Fiction  \n",
       "13    Adventure, Comedy, Science Fiction, Family  \n",
       "14            Action, Adventure, Science Fiction  \n",
       "15    Action, Adventure, Comedy, Science Fiction  \n",
       "16                        Crime, Drama, Thriller  \n",
       "17  Adventure, Action, Thriller, Science Fiction  \n",
       "18                           Drama, History, War  \n",
       "19   Science Fiction, Adventure, Family, Fantasy  "
      ]
     },
     "execution_count": 50,
     "metadata": {},
     "output_type": "execute_result"
    }
   ],
   "source": [
    "cf_recommender_model.recommend_items(248, topn=20, verbose=True)"
   ]
  },
  {
   "cell_type": "markdown",
   "metadata": {},
   "source": [
    "### Visualise the recommendations to the user's interaction"
   ]
  },
  {
   "cell_type": "code",
   "execution_count": 51,
   "metadata": {},
   "outputs": [],
   "source": [
    "USER_ID = 248\n",
    "TOP_REC = 20\n",
    "\n",
    "def rec_interaction_check(rec_model, user_id, topn): \n",
    "    recs = rec_model.recommend_items(user_id, topn=topn, verbose=True)\n",
    "    interactions = inspect_interactions(user_id, test_set=False)\n",
    "\n",
    "    interactions[\"interacted\"] = \"yes\"\n",
    "\n",
    "    recs = recs.merge(interactions[[\"rating\", \"id\", \"interacted\"]], how=\"left\", left_on=\"tmdbId\", right_on=\"id\")\n",
    "    recs[\"interacted\"] = recs[\"interacted\"].fillna(\"no\")\n",
    "    recs[\"color\"] = recs[\"interacted\"].apply(lambda x: \"green\" if x==\"yes\" else \"red\")\n",
    "\n",
    "    return recs\n",
    "\n",
    "recs = rec_interaction_check(cf_recommender_model, USER_ID, TOP_REC)"
   ]
  },
  {
   "cell_type": "code",
   "execution_count": 52,
   "metadata": {},
   "outputs": [
    {
     "data": {
      "text/html": [
       "<div>\n",
       "<style scoped>\n",
       "    .dataframe tbody tr th:only-of-type {\n",
       "        vertical-align: middle;\n",
       "    }\n",
       "\n",
       "    .dataframe tbody tr th {\n",
       "        vertical-align: top;\n",
       "    }\n",
       "\n",
       "    .dataframe thead th {\n",
       "        text-align: right;\n",
       "    }\n",
       "</style>\n",
       "<table border=\"1\" class=\"dataframe\">\n",
       "  <thead>\n",
       "    <tr style=\"text-align: right;\">\n",
       "      <th></th>\n",
       "      <th>recStrength</th>\n",
       "      <th>tmdbId</th>\n",
       "      <th>title</th>\n",
       "      <th>original_language</th>\n",
       "      <th>genre</th>\n",
       "      <th>rating</th>\n",
       "      <th>id</th>\n",
       "      <th>interacted</th>\n",
       "      <th>color</th>\n",
       "    </tr>\n",
       "  </thead>\n",
       "  <tbody>\n",
       "    <tr>\n",
       "      <th>0</th>\n",
       "      <td>0.498452</td>\n",
       "      <td>1891</td>\n",
       "      <td>The Empire Strikes Back</td>\n",
       "      <td>en</td>\n",
       "      <td>Adventure, Action, Science Fiction</td>\n",
       "      <td>NaN</td>\n",
       "      <td>NaN</td>\n",
       "      <td>no</td>\n",
       "      <td>red</td>\n",
       "    </tr>\n",
       "    <tr>\n",
       "      <th>1</th>\n",
       "      <td>0.489528</td>\n",
       "      <td>85</td>\n",
       "      <td>Raiders of the Lost Ark</td>\n",
       "      <td>en</td>\n",
       "      <td>Adventure, Action</td>\n",
       "      <td>5.0</td>\n",
       "      <td>85.0</td>\n",
       "      <td>yes</td>\n",
       "      <td>green</td>\n",
       "    </tr>\n",
       "    <tr>\n",
       "      <th>2</th>\n",
       "      <td>0.483028</td>\n",
       "      <td>1892</td>\n",
       "      <td>Return of the Jedi</td>\n",
       "      <td>en</td>\n",
       "      <td>Adventure, Action, Science Fiction</td>\n",
       "      <td>4.0</td>\n",
       "      <td>1892.0</td>\n",
       "      <td>yes</td>\n",
       "      <td>green</td>\n",
       "    </tr>\n",
       "    <tr>\n",
       "      <th>3</th>\n",
       "      <td>0.475098</td>\n",
       "      <td>11</td>\n",
       "      <td>Star Wars</td>\n",
       "      <td>en</td>\n",
       "      <td>Adventure, Action, Science Fiction</td>\n",
       "      <td>NaN</td>\n",
       "      <td>NaN</td>\n",
       "      <td>no</td>\n",
       "      <td>red</td>\n",
       "    </tr>\n",
       "    <tr>\n",
       "      <th>4</th>\n",
       "      <td>0.461170</td>\n",
       "      <td>280</td>\n",
       "      <td>Terminator 2: Judgment Day</td>\n",
       "      <td>en</td>\n",
       "      <td>Action, Thriller, Science Fiction</td>\n",
       "      <td>NaN</td>\n",
       "      <td>NaN</td>\n",
       "      <td>no</td>\n",
       "      <td>red</td>\n",
       "    </tr>\n",
       "    <tr>\n",
       "      <th>5</th>\n",
       "      <td>0.458969</td>\n",
       "      <td>603</td>\n",
       "      <td>The Matrix</td>\n",
       "      <td>en</td>\n",
       "      <td>Action, Science Fiction</td>\n",
       "      <td>5.0</td>\n",
       "      <td>603.0</td>\n",
       "      <td>yes</td>\n",
       "      <td>green</td>\n",
       "    </tr>\n",
       "    <tr>\n",
       "      <th>6</th>\n",
       "      <td>0.451377</td>\n",
       "      <td>218</td>\n",
       "      <td>The Terminator</td>\n",
       "      <td>en</td>\n",
       "      <td>Action, Thriller, Science Fiction</td>\n",
       "      <td>5.0</td>\n",
       "      <td>218.0</td>\n",
       "      <td>yes</td>\n",
       "      <td>green</td>\n",
       "    </tr>\n",
       "    <tr>\n",
       "      <th>7</th>\n",
       "      <td>0.451202</td>\n",
       "      <td>78</td>\n",
       "      <td>Blade Runner</td>\n",
       "      <td>en</td>\n",
       "      <td>Science Fiction, Drama, Thriller</td>\n",
       "      <td>5.0</td>\n",
       "      <td>78.0</td>\n",
       "      <td>yes</td>\n",
       "      <td>green</td>\n",
       "    </tr>\n",
       "    <tr>\n",
       "      <th>8</th>\n",
       "      <td>0.443122</td>\n",
       "      <td>348</td>\n",
       "      <td>Alien</td>\n",
       "      <td>en</td>\n",
       "      <td>Horror, Action, Thriller, Science Fiction</td>\n",
       "      <td>NaN</td>\n",
       "      <td>NaN</td>\n",
       "      <td>no</td>\n",
       "      <td>red</td>\n",
       "    </tr>\n",
       "    <tr>\n",
       "      <th>9</th>\n",
       "      <td>0.435735</td>\n",
       "      <td>197</td>\n",
       "      <td>Braveheart</td>\n",
       "      <td>en</td>\n",
       "      <td>Action, Drama, History, War</td>\n",
       "      <td>5.0</td>\n",
       "      <td>197.0</td>\n",
       "      <td>yes</td>\n",
       "      <td>green</td>\n",
       "    </tr>\n",
       "    <tr>\n",
       "      <th>10</th>\n",
       "      <td>0.419908</td>\n",
       "      <td>89</td>\n",
       "      <td>Indiana Jones and the Last Crusade</td>\n",
       "      <td>en</td>\n",
       "      <td>Adventure, Action</td>\n",
       "      <td>NaN</td>\n",
       "      <td>NaN</td>\n",
       "      <td>no</td>\n",
       "      <td>red</td>\n",
       "    </tr>\n",
       "    <tr>\n",
       "      <th>11</th>\n",
       "      <td>0.414229</td>\n",
       "      <td>562</td>\n",
       "      <td>Die Hard</td>\n",
       "      <td>en</td>\n",
       "      <td>Action, Thriller</td>\n",
       "      <td>NaN</td>\n",
       "      <td>NaN</td>\n",
       "      <td>no</td>\n",
       "      <td>red</td>\n",
       "    </tr>\n",
       "    <tr>\n",
       "      <th>12</th>\n",
       "      <td>0.411015</td>\n",
       "      <td>679</td>\n",
       "      <td>Aliens</td>\n",
       "      <td>en</td>\n",
       "      <td>Horror, Action, Thriller, Science Fiction</td>\n",
       "      <td>5.0</td>\n",
       "      <td>679.0</td>\n",
       "      <td>yes</td>\n",
       "      <td>green</td>\n",
       "    </tr>\n",
       "    <tr>\n",
       "      <th>13</th>\n",
       "      <td>0.405496</td>\n",
       "      <td>105</td>\n",
       "      <td>Back to the Future</td>\n",
       "      <td>en</td>\n",
       "      <td>Adventure, Comedy, Science Fiction, Family</td>\n",
       "      <td>5.0</td>\n",
       "      <td>105.0</td>\n",
       "      <td>yes</td>\n",
       "      <td>green</td>\n",
       "    </tr>\n",
       "    <tr>\n",
       "      <th>14</th>\n",
       "      <td>0.404790</td>\n",
       "      <td>602</td>\n",
       "      <td>Independence Day</td>\n",
       "      <td>en</td>\n",
       "      <td>Action, Adventure, Science Fiction</td>\n",
       "      <td>4.0</td>\n",
       "      <td>602.0</td>\n",
       "      <td>yes</td>\n",
       "      <td>green</td>\n",
       "    </tr>\n",
       "    <tr>\n",
       "      <th>15</th>\n",
       "      <td>0.396389</td>\n",
       "      <td>607</td>\n",
       "      <td>Men in Black</td>\n",
       "      <td>en</td>\n",
       "      <td>Action, Adventure, Comedy, Science Fiction</td>\n",
       "      <td>3.0</td>\n",
       "      <td>607.0</td>\n",
       "      <td>yes</td>\n",
       "      <td>green</td>\n",
       "    </tr>\n",
       "    <tr>\n",
       "      <th>16</th>\n",
       "      <td>0.391214</td>\n",
       "      <td>274</td>\n",
       "      <td>The Silence of the Lambs</td>\n",
       "      <td>en</td>\n",
       "      <td>Crime, Drama, Thriller</td>\n",
       "      <td>NaN</td>\n",
       "      <td>NaN</td>\n",
       "      <td>no</td>\n",
       "      <td>red</td>\n",
       "    </tr>\n",
       "    <tr>\n",
       "      <th>17</th>\n",
       "      <td>0.390820</td>\n",
       "      <td>2756</td>\n",
       "      <td>The Abyss</td>\n",
       "      <td>en</td>\n",
       "      <td>Adventure, Action, Thriller, Science Fiction</td>\n",
       "      <td>4.0</td>\n",
       "      <td>2756.0</td>\n",
       "      <td>yes</td>\n",
       "      <td>green</td>\n",
       "    </tr>\n",
       "    <tr>\n",
       "      <th>18</th>\n",
       "      <td>0.387721</td>\n",
       "      <td>857</td>\n",
       "      <td>Saving Private Ryan</td>\n",
       "      <td>en</td>\n",
       "      <td>Drama, History, War</td>\n",
       "      <td>NaN</td>\n",
       "      <td>NaN</td>\n",
       "      <td>no</td>\n",
       "      <td>red</td>\n",
       "    </tr>\n",
       "    <tr>\n",
       "      <th>19</th>\n",
       "      <td>0.387029</td>\n",
       "      <td>601</td>\n",
       "      <td>E.T. the Extra-Terrestrial</td>\n",
       "      <td>en</td>\n",
       "      <td>Science Fiction, Adventure, Family, Fantasy</td>\n",
       "      <td>NaN</td>\n",
       "      <td>NaN</td>\n",
       "      <td>no</td>\n",
       "      <td>red</td>\n",
       "    </tr>\n",
       "  </tbody>\n",
       "</table>\n",
       "</div>"
      ],
      "text/plain": [
       "    recStrength  tmdbId                               title original_language  \\\n",
       "0      0.498452    1891             The Empire Strikes Back                en   \n",
       "1      0.489528      85             Raiders of the Lost Ark                en   \n",
       "2      0.483028    1892                  Return of the Jedi                en   \n",
       "3      0.475098      11                           Star Wars                en   \n",
       "4      0.461170     280          Terminator 2: Judgment Day                en   \n",
       "5      0.458969     603                          The Matrix                en   \n",
       "6      0.451377     218                      The Terminator                en   \n",
       "7      0.451202      78                        Blade Runner                en   \n",
       "8      0.443122     348                               Alien                en   \n",
       "9      0.435735     197                          Braveheart                en   \n",
       "10     0.419908      89  Indiana Jones and the Last Crusade                en   \n",
       "11     0.414229     562                            Die Hard                en   \n",
       "12     0.411015     679                              Aliens                en   \n",
       "13     0.405496     105                  Back to the Future                en   \n",
       "14     0.404790     602                    Independence Day                en   \n",
       "15     0.396389     607                        Men in Black                en   \n",
       "16     0.391214     274            The Silence of the Lambs                en   \n",
       "17     0.390820    2756                           The Abyss                en   \n",
       "18     0.387721     857                 Saving Private Ryan                en   \n",
       "19     0.387029     601          E.T. the Extra-Terrestrial                en   \n",
       "\n",
       "                                           genre  rating      id interacted  \\\n",
       "0             Adventure, Action, Science Fiction     NaN     NaN         no   \n",
       "1                              Adventure, Action     5.0    85.0        yes   \n",
       "2             Adventure, Action, Science Fiction     4.0  1892.0        yes   \n",
       "3             Adventure, Action, Science Fiction     NaN     NaN         no   \n",
       "4              Action, Thriller, Science Fiction     NaN     NaN         no   \n",
       "5                        Action, Science Fiction     5.0   603.0        yes   \n",
       "6              Action, Thriller, Science Fiction     5.0   218.0        yes   \n",
       "7               Science Fiction, Drama, Thriller     5.0    78.0        yes   \n",
       "8      Horror, Action, Thriller, Science Fiction     NaN     NaN         no   \n",
       "9                    Action, Drama, History, War     5.0   197.0        yes   \n",
       "10                             Adventure, Action     NaN     NaN         no   \n",
       "11                              Action, Thriller     NaN     NaN         no   \n",
       "12     Horror, Action, Thriller, Science Fiction     5.0   679.0        yes   \n",
       "13    Adventure, Comedy, Science Fiction, Family     5.0   105.0        yes   \n",
       "14            Action, Adventure, Science Fiction     4.0   602.0        yes   \n",
       "15    Action, Adventure, Comedy, Science Fiction     3.0   607.0        yes   \n",
       "16                        Crime, Drama, Thriller     NaN     NaN         no   \n",
       "17  Adventure, Action, Thriller, Science Fiction     4.0  2756.0        yes   \n",
       "18                           Drama, History, War     NaN     NaN         no   \n",
       "19   Science Fiction, Adventure, Family, Fantasy     NaN     NaN         no   \n",
       "\n",
       "    color  \n",
       "0     red  \n",
       "1   green  \n",
       "2   green  \n",
       "3     red  \n",
       "4     red  \n",
       "5   green  \n",
       "6   green  \n",
       "7   green  \n",
       "8     red  \n",
       "9   green  \n",
       "10    red  \n",
       "11    red  \n",
       "12  green  \n",
       "13  green  \n",
       "14  green  \n",
       "15  green  \n",
       "16    red  \n",
       "17  green  \n",
       "18    red  \n",
       "19    red  "
      ]
     },
     "execution_count": 52,
     "metadata": {},
     "output_type": "execute_result"
    }
   ],
   "source": [
    "recs"
   ]
  },
  {
   "cell_type": "code",
   "execution_count": 53,
   "metadata": {},
   "outputs": [
    {
     "data": {
      "application/vnd.plotly.v1+json": {
       "config": {
        "plotlyServerURL": "https://plot.ly"
       },
       "data": [
        {
         "branchvalues": "total",
         "domain": {
          "x": [
           0,
           1
          ],
          "y": [
           0,
           1
          ]
         },
         "hovertemplate": "labels=%{label}<br>value=%{value}<br>parent=%{parent}<br>id=%{id}<extra></extra>",
         "ids": [
          "Alien",
          "Aliens",
          "Back to the Future",
          "Blade Runner",
          "Braveheart",
          "Die Hard",
          "E.T. the Extra-Terrestrial",
          "Independence Day",
          "Indiana Jones and the Last Crusade",
          "Men in Black",
          "Raiders of the Lost Ark",
          "Return of the Jedi",
          "Saving Private Ryan",
          "Star Wars",
          "Terminator 2: Judgment Day",
          "The Abyss",
          "The Empire Strikes Back",
          "The Matrix",
          "The Silence of the Lambs",
          "The Terminator"
         ],
         "labels": [
          "Alien",
          "Aliens",
          "Back to the Future",
          "Blade Runner",
          "Braveheart",
          "Die Hard",
          "E.T. the Extra-Terrestrial",
          "Independence Day",
          "Indiana Jones and the Last Crusade",
          "Men in Black",
          "Raiders of the Lost Ark",
          "Return of the Jedi",
          "Saving Private Ryan",
          "Star Wars",
          "Terminator 2: Judgment Day",
          "The Abyss",
          "The Empire Strikes Back",
          "The Matrix",
          "The Silence of the Lambs",
          "The Terminator"
         ],
         "name": "",
         "parents": [
          "",
          "",
          "",
          "",
          "",
          "",
          "",
          "",
          "",
          "",
          "",
          "",
          "",
          "",
          "",
          "",
          "",
          "",
          "",
          ""
         ],
         "type": "treemap",
         "values": [
          0.08701032246357326,
          0.06943398302065415,
          0.06667457024442004,
          0.0918570277304344,
          0.08273080472334386,
          0.07107590461374151,
          0.05797362839771442,
          0.06632675968115803,
          0.07403956507672854,
          0.062282316179190805,
          0.11730946118075934,
          0.11269820510073664,
          0.0582849532733457,
          0.10723839473859942,
          0.09808084357916803,
          0.059693825811027175,
          0.12384235982623845,
          0.09668329959974382,
          0.05987447130472395,
          0.09196424137636124
         ]
        }
       ],
       "layout": {
        "height": 600,
        "legend": {
         "tracegroupgap": 0
        },
        "margin": {
         "b": 25,
         "l": 25,
         "r": 25,
         "t": 50
        },
        "template": {
         "data": {
          "bar": [
           {
            "error_x": {
             "color": "#2a3f5f"
            },
            "error_y": {
             "color": "#2a3f5f"
            },
            "marker": {
             "line": {
              "color": "#E5ECF6",
              "width": 0.5
             }
            },
            "type": "bar"
           }
          ],
          "barpolar": [
           {
            "marker": {
             "line": {
              "color": "#E5ECF6",
              "width": 0.5
             }
            },
            "type": "barpolar"
           }
          ],
          "carpet": [
           {
            "aaxis": {
             "endlinecolor": "#2a3f5f",
             "gridcolor": "white",
             "linecolor": "white",
             "minorgridcolor": "white",
             "startlinecolor": "#2a3f5f"
            },
            "baxis": {
             "endlinecolor": "#2a3f5f",
             "gridcolor": "white",
             "linecolor": "white",
             "minorgridcolor": "white",
             "startlinecolor": "#2a3f5f"
            },
            "type": "carpet"
           }
          ],
          "choropleth": [
           {
            "colorbar": {
             "outlinewidth": 0,
             "ticks": ""
            },
            "type": "choropleth"
           }
          ],
          "contour": [
           {
            "colorbar": {
             "outlinewidth": 0,
             "ticks": ""
            },
            "colorscale": [
             [
              0,
              "#0d0887"
             ],
             [
              0.1111111111111111,
              "#46039f"
             ],
             [
              0.2222222222222222,
              "#7201a8"
             ],
             [
              0.3333333333333333,
              "#9c179e"
             ],
             [
              0.4444444444444444,
              "#bd3786"
             ],
             [
              0.5555555555555556,
              "#d8576b"
             ],
             [
              0.6666666666666666,
              "#ed7953"
             ],
             [
              0.7777777777777778,
              "#fb9f3a"
             ],
             [
              0.8888888888888888,
              "#fdca26"
             ],
             [
              1,
              "#f0f921"
             ]
            ],
            "type": "contour"
           }
          ],
          "contourcarpet": [
           {
            "colorbar": {
             "outlinewidth": 0,
             "ticks": ""
            },
            "type": "contourcarpet"
           }
          ],
          "heatmap": [
           {
            "colorbar": {
             "outlinewidth": 0,
             "ticks": ""
            },
            "colorscale": [
             [
              0,
              "#0d0887"
             ],
             [
              0.1111111111111111,
              "#46039f"
             ],
             [
              0.2222222222222222,
              "#7201a8"
             ],
             [
              0.3333333333333333,
              "#9c179e"
             ],
             [
              0.4444444444444444,
              "#bd3786"
             ],
             [
              0.5555555555555556,
              "#d8576b"
             ],
             [
              0.6666666666666666,
              "#ed7953"
             ],
             [
              0.7777777777777778,
              "#fb9f3a"
             ],
             [
              0.8888888888888888,
              "#fdca26"
             ],
             [
              1,
              "#f0f921"
             ]
            ],
            "type": "heatmap"
           }
          ],
          "heatmapgl": [
           {
            "colorbar": {
             "outlinewidth": 0,
             "ticks": ""
            },
            "colorscale": [
             [
              0,
              "#0d0887"
             ],
             [
              0.1111111111111111,
              "#46039f"
             ],
             [
              0.2222222222222222,
              "#7201a8"
             ],
             [
              0.3333333333333333,
              "#9c179e"
             ],
             [
              0.4444444444444444,
              "#bd3786"
             ],
             [
              0.5555555555555556,
              "#d8576b"
             ],
             [
              0.6666666666666666,
              "#ed7953"
             ],
             [
              0.7777777777777778,
              "#fb9f3a"
             ],
             [
              0.8888888888888888,
              "#fdca26"
             ],
             [
              1,
              "#f0f921"
             ]
            ],
            "type": "heatmapgl"
           }
          ],
          "histogram": [
           {
            "marker": {
             "colorbar": {
              "outlinewidth": 0,
              "ticks": ""
             }
            },
            "type": "histogram"
           }
          ],
          "histogram2d": [
           {
            "colorbar": {
             "outlinewidth": 0,
             "ticks": ""
            },
            "colorscale": [
             [
              0,
              "#0d0887"
             ],
             [
              0.1111111111111111,
              "#46039f"
             ],
             [
              0.2222222222222222,
              "#7201a8"
             ],
             [
              0.3333333333333333,
              "#9c179e"
             ],
             [
              0.4444444444444444,
              "#bd3786"
             ],
             [
              0.5555555555555556,
              "#d8576b"
             ],
             [
              0.6666666666666666,
              "#ed7953"
             ],
             [
              0.7777777777777778,
              "#fb9f3a"
             ],
             [
              0.8888888888888888,
              "#fdca26"
             ],
             [
              1,
              "#f0f921"
             ]
            ],
            "type": "histogram2d"
           }
          ],
          "histogram2dcontour": [
           {
            "colorbar": {
             "outlinewidth": 0,
             "ticks": ""
            },
            "colorscale": [
             [
              0,
              "#0d0887"
             ],
             [
              0.1111111111111111,
              "#46039f"
             ],
             [
              0.2222222222222222,
              "#7201a8"
             ],
             [
              0.3333333333333333,
              "#9c179e"
             ],
             [
              0.4444444444444444,
              "#bd3786"
             ],
             [
              0.5555555555555556,
              "#d8576b"
             ],
             [
              0.6666666666666666,
              "#ed7953"
             ],
             [
              0.7777777777777778,
              "#fb9f3a"
             ],
             [
              0.8888888888888888,
              "#fdca26"
             ],
             [
              1,
              "#f0f921"
             ]
            ],
            "type": "histogram2dcontour"
           }
          ],
          "mesh3d": [
           {
            "colorbar": {
             "outlinewidth": 0,
             "ticks": ""
            },
            "type": "mesh3d"
           }
          ],
          "parcoords": [
           {
            "line": {
             "colorbar": {
              "outlinewidth": 0,
              "ticks": ""
             }
            },
            "type": "parcoords"
           }
          ],
          "pie": [
           {
            "automargin": true,
            "type": "pie"
           }
          ],
          "scatter": [
           {
            "marker": {
             "colorbar": {
              "outlinewidth": 0,
              "ticks": ""
             }
            },
            "type": "scatter"
           }
          ],
          "scatter3d": [
           {
            "line": {
             "colorbar": {
              "outlinewidth": 0,
              "ticks": ""
             }
            },
            "marker": {
             "colorbar": {
              "outlinewidth": 0,
              "ticks": ""
             }
            },
            "type": "scatter3d"
           }
          ],
          "scattercarpet": [
           {
            "marker": {
             "colorbar": {
              "outlinewidth": 0,
              "ticks": ""
             }
            },
            "type": "scattercarpet"
           }
          ],
          "scattergeo": [
           {
            "marker": {
             "colorbar": {
              "outlinewidth": 0,
              "ticks": ""
             }
            },
            "type": "scattergeo"
           }
          ],
          "scattergl": [
           {
            "marker": {
             "colorbar": {
              "outlinewidth": 0,
              "ticks": ""
             }
            },
            "type": "scattergl"
           }
          ],
          "scattermapbox": [
           {
            "marker": {
             "colorbar": {
              "outlinewidth": 0,
              "ticks": ""
             }
            },
            "type": "scattermapbox"
           }
          ],
          "scatterpolar": [
           {
            "marker": {
             "colorbar": {
              "outlinewidth": 0,
              "ticks": ""
             }
            },
            "type": "scatterpolar"
           }
          ],
          "scatterpolargl": [
           {
            "marker": {
             "colorbar": {
              "outlinewidth": 0,
              "ticks": ""
             }
            },
            "type": "scatterpolargl"
           }
          ],
          "scatterternary": [
           {
            "marker": {
             "colorbar": {
              "outlinewidth": 0,
              "ticks": ""
             }
            },
            "type": "scatterternary"
           }
          ],
          "surface": [
           {
            "colorbar": {
             "outlinewidth": 0,
             "ticks": ""
            },
            "colorscale": [
             [
              0,
              "#0d0887"
             ],
             [
              0.1111111111111111,
              "#46039f"
             ],
             [
              0.2222222222222222,
              "#7201a8"
             ],
             [
              0.3333333333333333,
              "#9c179e"
             ],
             [
              0.4444444444444444,
              "#bd3786"
             ],
             [
              0.5555555555555556,
              "#d8576b"
             ],
             [
              0.6666666666666666,
              "#ed7953"
             ],
             [
              0.7777777777777778,
              "#fb9f3a"
             ],
             [
              0.8888888888888888,
              "#fdca26"
             ],
             [
              1,
              "#f0f921"
             ]
            ],
            "type": "surface"
           }
          ],
          "table": [
           {
            "cells": {
             "fill": {
              "color": "#EBF0F8"
             },
             "line": {
              "color": "white"
             }
            },
            "header": {
             "fill": {
              "color": "#C8D4E3"
             },
             "line": {
              "color": "white"
             }
            },
            "type": "table"
           }
          ]
         },
         "layout": {
          "annotationdefaults": {
           "arrowcolor": "#2a3f5f",
           "arrowhead": 0,
           "arrowwidth": 1
          },
          "autotypenumbers": "strict",
          "coloraxis": {
           "colorbar": {
            "outlinewidth": 0,
            "ticks": ""
           }
          },
          "colorscale": {
           "diverging": [
            [
             0,
             "#8e0152"
            ],
            [
             0.1,
             "#c51b7d"
            ],
            [
             0.2,
             "#de77ae"
            ],
            [
             0.3,
             "#f1b6da"
            ],
            [
             0.4,
             "#fde0ef"
            ],
            [
             0.5,
             "#f7f7f7"
            ],
            [
             0.6,
             "#e6f5d0"
            ],
            [
             0.7,
             "#b8e186"
            ],
            [
             0.8,
             "#7fbc41"
            ],
            [
             0.9,
             "#4d9221"
            ],
            [
             1,
             "#276419"
            ]
           ],
           "sequential": [
            [
             0,
             "#0d0887"
            ],
            [
             0.1111111111111111,
             "#46039f"
            ],
            [
             0.2222222222222222,
             "#7201a8"
            ],
            [
             0.3333333333333333,
             "#9c179e"
            ],
            [
             0.4444444444444444,
             "#bd3786"
            ],
            [
             0.5555555555555556,
             "#d8576b"
            ],
            [
             0.6666666666666666,
             "#ed7953"
            ],
            [
             0.7777777777777778,
             "#fb9f3a"
            ],
            [
             0.8888888888888888,
             "#fdca26"
            ],
            [
             1,
             "#f0f921"
            ]
           ],
           "sequentialminus": [
            [
             0,
             "#0d0887"
            ],
            [
             0.1111111111111111,
             "#46039f"
            ],
            [
             0.2222222222222222,
             "#7201a8"
            ],
            [
             0.3333333333333333,
             "#9c179e"
            ],
            [
             0.4444444444444444,
             "#bd3786"
            ],
            [
             0.5555555555555556,
             "#d8576b"
            ],
            [
             0.6666666666666666,
             "#ed7953"
            ],
            [
             0.7777777777777778,
             "#fb9f3a"
            ],
            [
             0.8888888888888888,
             "#fdca26"
            ],
            [
             1,
             "#f0f921"
            ]
           ]
          },
          "colorway": [
           "#636efa",
           "#EF553B",
           "#00cc96",
           "#ab63fa",
           "#FFA15A",
           "#19d3f3",
           "#FF6692",
           "#B6E880",
           "#FF97FF",
           "#FECB52"
          ],
          "font": {
           "color": "#2a3f5f"
          },
          "geo": {
           "bgcolor": "white",
           "lakecolor": "white",
           "landcolor": "#E5ECF6",
           "showlakes": true,
           "showland": true,
           "subunitcolor": "white"
          },
          "hoverlabel": {
           "align": "left"
          },
          "hovermode": "closest",
          "mapbox": {
           "style": "light"
          },
          "paper_bgcolor": "white",
          "plot_bgcolor": "#E5ECF6",
          "polar": {
           "angularaxis": {
            "gridcolor": "white",
            "linecolor": "white",
            "ticks": ""
           },
           "bgcolor": "#E5ECF6",
           "radialaxis": {
            "gridcolor": "white",
            "linecolor": "white",
            "ticks": ""
           }
          },
          "scene": {
           "xaxis": {
            "backgroundcolor": "#E5ECF6",
            "gridcolor": "white",
            "gridwidth": 2,
            "linecolor": "white",
            "showbackground": true,
            "ticks": "",
            "zerolinecolor": "white"
           },
           "yaxis": {
            "backgroundcolor": "#E5ECF6",
            "gridcolor": "white",
            "gridwidth": 2,
            "linecolor": "white",
            "showbackground": true,
            "ticks": "",
            "zerolinecolor": "white"
           },
           "zaxis": {
            "backgroundcolor": "#E5ECF6",
            "gridcolor": "white",
            "gridwidth": 2,
            "linecolor": "white",
            "showbackground": true,
            "ticks": "",
            "zerolinecolor": "white"
           }
          },
          "shapedefaults": {
           "line": {
            "color": "#2a3f5f"
           }
          },
          "ternary": {
           "aaxis": {
            "gridcolor": "white",
            "linecolor": "white",
            "ticks": ""
           },
           "baxis": {
            "gridcolor": "white",
            "linecolor": "white",
            "ticks": ""
           },
           "bgcolor": "#E5ECF6",
           "caxis": {
            "gridcolor": "white",
            "linecolor": "white",
            "ticks": ""
           }
          },
          "title": {
           "x": 0.05
          },
          "xaxis": {
           "automargin": true,
           "gridcolor": "white",
           "linecolor": "white",
           "ticks": "",
           "title": {
            "standoff": 15
           },
           "zerolinecolor": "white",
           "zerolinewidth": 2
          },
          "yaxis": {
           "automargin": true,
           "gridcolor": "white",
           "linecolor": "white",
           "ticks": "",
           "title": {
            "standoff": 15
           },
           "zerolinecolor": "white",
           "zerolinewidth": 2
          }
         }
        },
        "title": {
         "text": "Top 20 Recommendations for User 248 Using Collaborative Filtering Recommender System"
        },
        "treemapcolorway": [
         "red",
         "green",
         "green",
         "red",
         "red",
         "green",
         "green",
         "green",
         "red",
         "green",
         "red",
         "red",
         "green",
         "green",
         "green",
         "green",
         "red",
         "green",
         "red",
         "red"
        ],
        "width": 800
       }
      }
     },
     "metadata": {},
     "output_type": "display_data"
    }
   ],
   "source": [
    "import plotly.express as px\n",
    "fig = px.treemap(recs, path=['title'],values=(recs[\"recStrength\"]**3), width=800, height=600)\n",
    "fig.update_layout(\n",
    "    treemapcolorway = recs[\"color\"], #defines the colors in the treemap\n",
    "    margin = dict(t=50, l=25, r=25, b=25), \n",
    "    title = f\"Top {TOP_REC} Recommendations for User {USER_ID} Using {cf_recommender_model.MODEL_NAME} Recommender System\")\n",
    "fig.show()"
   ]
  },
  {
   "cell_type": "code",
   "execution_count": 54,
   "metadata": {},
   "outputs": [
    {
     "data": {
      "text/plain": [
       "[Text(0.5, 1.0, 'Top 20 Recommendations for User 248 Using Collaborative Filtering Recommender System')]"
      ]
     },
     "execution_count": 54,
     "metadata": {},
     "output_type": "execute_result"
    },
    {
     "data": {
      "image/png": "[encoded data removed]",
      "text/plain": [
       "<Figure size 720x576 with 1 Axes>"
      ]
     },
     "metadata": {
      "needs_background": "light"
     },
     "output_type": "display_data"
    }
   ],
   "source": [
    "import seaborn as sns\n",
    "\n",
    "palette ={\"yes\": \"green\", \"no\": \"red\"}\n",
    "\n",
    "plt.figure(figsize=(10, 8))\n",
    "ax = sns.barplot(data=recs, y=\"title\", x=\"recStrength\", hue='interacted', dodge=False, palette=palette).set(title=f\"Top {TOP_REC} Recommendations for User {USER_ID} Using {cf_recommender_model.MODEL_NAME} Recommender System\")"
   ]
  },
  {
   "cell_type": "markdown",
   "metadata": {},
   "source": [
    "## Context Aware Collaborative Filtering"
   ]
  },
  {
   "cell_type": "code",
   "execution_count": 60,
   "metadata": {},
   "outputs": [],
   "source": [
    "class ContextAwareCF: \n",
    "\n",
    "    MODEL_NAME = 'Context-Aware Collaborative Filtering'\n",
    "\n",
    "    def context_score(self, recStrength, genre_list, genre): \n",
    "        if genre not in genre_list: \n",
    "            strength = recStrength * 0.8\n",
    "        else: \n",
    "            strength = recStrength\n",
    "\n",
    "        return strength\n",
    "        \n",
    "\n",
    "    def recommend_items(self, model, user_id, genre, top_n): \n",
    "        recommendations_df = model.recommend_items(user_id, topn=1000)\n",
    "        recommendations_df = recommendations_df.merge(movies, how = 'left', \n",
    "                                                          left_on = 'tmdbId', \n",
    "                                                          right_on = 'id')[['recStrength', 'tmdbId', 'title', 'original_language', 'genre_list']]\n",
    "\n",
    "        recommendations_df[\"recStrength\"] = recommendations_df.apply(lambda x: self.context_score(x[\"recStrength\"], x[\"genre_list\"], genre), axis=1)\n",
    "        recommendations_df = recommendations_df.sort_values('recStrength', ascending = False).head(top_n)\n",
    "\n",
    "        return recommendations_df\n",
    "\n",
    "context_aware_cf = ContextAwareCF()"
   ]
  },
  {
   "cell_type": "code",
   "execution_count": 61,
   "metadata": {},
   "outputs": [
    {
     "data": {
      "text/html": [
       "<div>\n",
       "<style scoped>\n",
       "    .dataframe tbody tr th:only-of-type {\n",
       "        vertical-align: middle;\n",
       "    }\n",
       "\n",
       "    .dataframe tbody tr th {\n",
       "        vertical-align: top;\n",
       "    }\n",
       "\n",
       "    .dataframe thead th {\n",
       "        text-align: right;\n",
       "    }\n",
       "</style>\n",
       "<table border=\"1\" class=\"dataframe\">\n",
       "  <thead>\n",
       "    <tr style=\"text-align: right;\">\n",
       "      <th></th>\n",
       "      <th>recStrength</th>\n",
       "      <th>tmdbId</th>\n",
       "      <th>title</th>\n",
       "      <th>original_language</th>\n",
       "      <th>genre_list</th>\n",
       "    </tr>\n",
       "  </thead>\n",
       "  <tbody>\n",
       "    <tr>\n",
       "      <th>0</th>\n",
       "      <td>0.498452</td>\n",
       "      <td>1891</td>\n",
       "      <td>The Empire Strikes Back</td>\n",
       "      <td>en</td>\n",
       "      <td>[Adventure, Action, Science Fiction]</td>\n",
       "    </tr>\n",
       "    <tr>\n",
       "      <th>2</th>\n",
       "      <td>0.483028</td>\n",
       "      <td>1892</td>\n",
       "      <td>Return of the Jedi</td>\n",
       "      <td>en</td>\n",
       "      <td>[Adventure, Action, Science Fiction]</td>\n",
       "    </tr>\n",
       "    <tr>\n",
       "      <th>3</th>\n",
       "      <td>0.475098</td>\n",
       "      <td>11</td>\n",
       "      <td>Star Wars</td>\n",
       "      <td>en</td>\n",
       "      <td>[Adventure, Action, Science Fiction]</td>\n",
       "    </tr>\n",
       "    <tr>\n",
       "      <th>4</th>\n",
       "      <td>0.461170</td>\n",
       "      <td>280</td>\n",
       "      <td>Terminator 2: Judgment Day</td>\n",
       "      <td>en</td>\n",
       "      <td>[Action, Thriller, Science Fiction]</td>\n",
       "    </tr>\n",
       "    <tr>\n",
       "      <th>5</th>\n",
       "      <td>0.458969</td>\n",
       "      <td>603</td>\n",
       "      <td>The Matrix</td>\n",
       "      <td>en</td>\n",
       "      <td>[Action, Science Fiction]</td>\n",
       "    </tr>\n",
       "    <tr>\n",
       "      <th>6</th>\n",
       "      <td>0.451377</td>\n",
       "      <td>218</td>\n",
       "      <td>The Terminator</td>\n",
       "      <td>en</td>\n",
       "      <td>[Action, Thriller, Science Fiction]</td>\n",
       "    </tr>\n",
       "    <tr>\n",
       "      <th>7</th>\n",
       "      <td>0.451202</td>\n",
       "      <td>78</td>\n",
       "      <td>Blade Runner</td>\n",
       "      <td>en</td>\n",
       "      <td>[Science Fiction, Drama, Thriller]</td>\n",
       "    </tr>\n",
       "    <tr>\n",
       "      <th>8</th>\n",
       "      <td>0.443122</td>\n",
       "      <td>348</td>\n",
       "      <td>Alien</td>\n",
       "      <td>en</td>\n",
       "      <td>[Horror, Action, Thriller, Science Fiction]</td>\n",
       "    </tr>\n",
       "    <tr>\n",
       "      <th>12</th>\n",
       "      <td>0.411015</td>\n",
       "      <td>679</td>\n",
       "      <td>Aliens</td>\n",
       "      <td>en</td>\n",
       "      <td>[Horror, Action, Thriller, Science Fiction]</td>\n",
       "    </tr>\n",
       "    <tr>\n",
       "      <th>13</th>\n",
       "      <td>0.405496</td>\n",
       "      <td>105</td>\n",
       "      <td>Back to the Future</td>\n",
       "      <td>en</td>\n",
       "      <td>[Adventure, Comedy, Science Fiction, Family]</td>\n",
       "    </tr>\n",
       "    <tr>\n",
       "      <th>14</th>\n",
       "      <td>0.404790</td>\n",
       "      <td>602</td>\n",
       "      <td>Independence Day</td>\n",
       "      <td>en</td>\n",
       "      <td>[Action, Adventure, Science Fiction]</td>\n",
       "    </tr>\n",
       "    <tr>\n",
       "      <th>15</th>\n",
       "      <td>0.396389</td>\n",
       "      <td>607</td>\n",
       "      <td>Men in Black</td>\n",
       "      <td>en</td>\n",
       "      <td>[Action, Adventure, Comedy, Science Fiction]</td>\n",
       "    </tr>\n",
       "    <tr>\n",
       "      <th>1</th>\n",
       "      <td>0.391623</td>\n",
       "      <td>85</td>\n",
       "      <td>Raiders of the Lost Ark</td>\n",
       "      <td>en</td>\n",
       "      <td>[Adventure, Action]</td>\n",
       "    </tr>\n",
       "    <tr>\n",
       "      <th>17</th>\n",
       "      <td>0.390820</td>\n",
       "      <td>2756</td>\n",
       "      <td>The Abyss</td>\n",
       "      <td>en</td>\n",
       "      <td>[Adventure, Action, Thriller, Science Fiction]</td>\n",
       "    </tr>\n",
       "    <tr>\n",
       "      <th>19</th>\n",
       "      <td>0.387029</td>\n",
       "      <td>601</td>\n",
       "      <td>E.T. the Extra-Terrestrial</td>\n",
       "      <td>en</td>\n",
       "      <td>[Science Fiction, Adventure, Family, Fantasy]</td>\n",
       "    </tr>\n",
       "    <tr>\n",
       "      <th>20</th>\n",
       "      <td>0.386792</td>\n",
       "      <td>63</td>\n",
       "      <td>Twelve Monkeys</td>\n",
       "      <td>en</td>\n",
       "      <td>[Science Fiction, Thriller, Mystery]</td>\n",
       "    </tr>\n",
       "    <tr>\n",
       "      <th>21</th>\n",
       "      <td>0.379374</td>\n",
       "      <td>154</td>\n",
       "      <td>Star Trek II: The Wrath of Khan</td>\n",
       "      <td>en</td>\n",
       "      <td>[Action, Adventure, Science Fiction, Thriller]</td>\n",
       "    </tr>\n",
       "    <tr>\n",
       "      <th>22</th>\n",
       "      <td>0.378875</td>\n",
       "      <td>199</td>\n",
       "      <td>Star Trek: First Contact</td>\n",
       "      <td>en</td>\n",
       "      <td>[Science Fiction, Action, Adventure, Thriller]</td>\n",
       "    </tr>\n",
       "    <tr>\n",
       "      <th>23</th>\n",
       "      <td>0.378059</td>\n",
       "      <td>861</td>\n",
       "      <td>Total Recall</td>\n",
       "      <td>en</td>\n",
       "      <td>[Action, Adventure, Science Fiction]</td>\n",
       "    </tr>\n",
       "    <tr>\n",
       "      <th>25</th>\n",
       "      <td>0.376883</td>\n",
       "      <td>2164</td>\n",
       "      <td>Stargate</td>\n",
       "      <td>en</td>\n",
       "      <td>[Action, Adventure, Science Fiction]</td>\n",
       "    </tr>\n",
       "  </tbody>\n",
       "</table>\n",
       "</div>"
      ],
      "text/plain": [
       "    recStrength  tmdbId                            title original_language  \\\n",
       "0      0.498452    1891          The Empire Strikes Back                en   \n",
       "2      0.483028    1892               Return of the Jedi                en   \n",
       "3      0.475098      11                        Star Wars                en   \n",
       "4      0.461170     280       Terminator 2: Judgment Day                en   \n",
       "5      0.458969     603                       The Matrix                en   \n",
       "6      0.451377     218                   The Terminator                en   \n",
       "7      0.451202      78                     Blade Runner                en   \n",
       "8      0.443122     348                            Alien                en   \n",
       "12     0.411015     679                           Aliens                en   \n",
       "13     0.405496     105               Back to the Future                en   \n",
       "14     0.404790     602                 Independence Day                en   \n",
       "15     0.396389     607                     Men in Black                en   \n",
       "1      0.391623      85          Raiders of the Lost Ark                en   \n",
       "17     0.390820    2756                        The Abyss                en   \n",
       "19     0.387029     601       E.T. the Extra-Terrestrial                en   \n",
       "20     0.386792      63                   Twelve Monkeys                en   \n",
       "21     0.379374     154  Star Trek II: The Wrath of Khan                en   \n",
       "22     0.378875     199         Star Trek: First Contact                en   \n",
       "23     0.378059     861                     Total Recall                en   \n",
       "25     0.376883    2164                         Stargate                en   \n",
       "\n",
       "                                        genre_list  \n",
       "0             [Adventure, Action, Science Fiction]  \n",
       "2             [Adventure, Action, Science Fiction]  \n",
       "3             [Adventure, Action, Science Fiction]  \n",
       "4              [Action, Thriller, Science Fiction]  \n",
       "5                        [Action, Science Fiction]  \n",
       "6              [Action, Thriller, Science Fiction]  \n",
       "7               [Science Fiction, Drama, Thriller]  \n",
       "8      [Horror, Action, Thriller, Science Fiction]  \n",
       "12     [Horror, Action, Thriller, Science Fiction]  \n",
       "13    [Adventure, Comedy, Science Fiction, Family]  \n",
       "14            [Action, Adventure, Science Fiction]  \n",
       "15    [Action, Adventure, Comedy, Science Fiction]  \n",
       "1                              [Adventure, Action]  \n",
       "17  [Adventure, Action, Thriller, Science Fiction]  \n",
       "19   [Science Fiction, Adventure, Family, Fantasy]  \n",
       "20            [Science Fiction, Thriller, Mystery]  \n",
       "21  [Action, Adventure, Science Fiction, Thriller]  \n",
       "22  [Science Fiction, Action, Adventure, Thriller]  \n",
       "23            [Action, Adventure, Science Fiction]  \n",
       "25            [Action, Adventure, Science Fiction]  "
      ]
     },
     "execution_count": 61,
     "metadata": {},
     "output_type": "execute_result"
    }
   ],
   "source": [
    "context_aware_cf_recs_df = context_aware_cf.recommend_items(cf_recommender_model, 248, \"Science Fiction\", 20)\n",
    "context_aware_cf_recs_df.head(20)"
   ]
  },
  {
   "cell_type": "markdown",
   "metadata": {},
   "source": [
    "### Visualise the recommendations to the user's interaction"
   ]
  },
  {
   "cell_type": "code",
   "execution_count": 67,
   "metadata": {},
   "outputs": [],
   "source": [
    "USER_ID = 248\n",
    "TOP_REC = 20\n",
    "\n",
    "def rec_interaction_check(rec_model, user_id, genre, top_n): \n",
    "    recs = rec_model.recommend_items(cf_recommender_model, user_id, genre, top_n)\n",
    "    interactions = inspect_interactions(user_id, test_set=False)\n",
    "\n",
    "    interactions[\"interacted\"] = \"yes\"\n",
    "\n",
    "    recs = recs.merge(interactions[[\"rating\", \"id\", \"interacted\"]], how=\"left\", left_on=\"tmdbId\", right_on=\"id\")\n",
    "    recs[\"interacted\"] = recs[\"interacted\"].fillna(\"no\")\n",
    "    recs[\"color\"] = recs[\"interacted\"].apply(lambda x: \"green\" if x==\"yes\" else \"red\")\n",
    "\n",
    "    return recs\n",
    "\n",
    "recs = rec_interaction_check(context_aware_cf, USER_ID, \"Horror\", TOP_REC)"
   ]
  },
  {
   "cell_type": "code",
   "execution_count": 68,
   "metadata": {},
   "outputs": [
    {
     "data": {
      "text/html": [
       "<div>\n",
       "<style scoped>\n",
       "    .dataframe tbody tr th:only-of-type {\n",
       "        vertical-align: middle;\n",
       "    }\n",
       "\n",
       "    .dataframe tbody tr th {\n",
       "        vertical-align: top;\n",
       "    }\n",
       "\n",
       "    .dataframe thead th {\n",
       "        text-align: right;\n",
       "    }\n",
       "</style>\n",
       "<table border=\"1\" class=\"dataframe\">\n",
       "  <thead>\n",
       "    <tr style=\"text-align: right;\">\n",
       "      <th></th>\n",
       "      <th>recStrength</th>\n",
       "      <th>tmdbId</th>\n",
       "      <th>title</th>\n",
       "      <th>original_language</th>\n",
       "      <th>genre_list</th>\n",
       "      <th>rating</th>\n",
       "      <th>id</th>\n",
       "      <th>interacted</th>\n",
       "      <th>color</th>\n",
       "    </tr>\n",
       "  </thead>\n",
       "  <tbody>\n",
       "    <tr>\n",
       "      <th>0</th>\n",
       "      <td>0.443122</td>\n",
       "      <td>348</td>\n",
       "      <td>Alien</td>\n",
       "      <td>en</td>\n",
       "      <td>[Horror, Action, Thriller, Science Fiction]</td>\n",
       "      <td>NaN</td>\n",
       "      <td>NaN</td>\n",
       "      <td>no</td>\n",
       "      <td>red</td>\n",
       "    </tr>\n",
       "    <tr>\n",
       "      <th>1</th>\n",
       "      <td>0.411015</td>\n",
       "      <td>679</td>\n",
       "      <td>Aliens</td>\n",
       "      <td>en</td>\n",
       "      <td>[Horror, Action, Thriller, Science Fiction]</td>\n",
       "      <td>5.0</td>\n",
       "      <td>679.0</td>\n",
       "      <td>yes</td>\n",
       "      <td>green</td>\n",
       "    </tr>\n",
       "    <tr>\n",
       "      <th>2</th>\n",
       "      <td>0.398761</td>\n",
       "      <td>1891</td>\n",
       "      <td>The Empire Strikes Back</td>\n",
       "      <td>en</td>\n",
       "      <td>[Adventure, Action, Science Fiction]</td>\n",
       "      <td>NaN</td>\n",
       "      <td>NaN</td>\n",
       "      <td>no</td>\n",
       "      <td>red</td>\n",
       "    </tr>\n",
       "    <tr>\n",
       "      <th>3</th>\n",
       "      <td>0.391623</td>\n",
       "      <td>85</td>\n",
       "      <td>Raiders of the Lost Ark</td>\n",
       "      <td>en</td>\n",
       "      <td>[Adventure, Action]</td>\n",
       "      <td>5.0</td>\n",
       "      <td>85.0</td>\n",
       "      <td>yes</td>\n",
       "      <td>green</td>\n",
       "    </tr>\n",
       "    <tr>\n",
       "      <th>4</th>\n",
       "      <td>0.386422</td>\n",
       "      <td>1892</td>\n",
       "      <td>Return of the Jedi</td>\n",
       "      <td>en</td>\n",
       "      <td>[Adventure, Action, Science Fiction]</td>\n",
       "      <td>4.0</td>\n",
       "      <td>1892.0</td>\n",
       "      <td>yes</td>\n",
       "      <td>green</td>\n",
       "    </tr>\n",
       "    <tr>\n",
       "      <th>5</th>\n",
       "      <td>0.380079</td>\n",
       "      <td>11</td>\n",
       "      <td>Star Wars</td>\n",
       "      <td>en</td>\n",
       "      <td>[Adventure, Action, Science Fiction]</td>\n",
       "      <td>NaN</td>\n",
       "      <td>NaN</td>\n",
       "      <td>no</td>\n",
       "      <td>red</td>\n",
       "    </tr>\n",
       "    <tr>\n",
       "      <th>6</th>\n",
       "      <td>0.374409</td>\n",
       "      <td>8077</td>\n",
       "      <td>Alien³</td>\n",
       "      <td>en</td>\n",
       "      <td>[Science Fiction, Action, Horror]</td>\n",
       "      <td>4.0</td>\n",
       "      <td>8077.0</td>\n",
       "      <td>yes</td>\n",
       "      <td>green</td>\n",
       "    </tr>\n",
       "    <tr>\n",
       "      <th>7</th>\n",
       "      <td>0.368936</td>\n",
       "      <td>280</td>\n",
       "      <td>Terminator 2: Judgment Day</td>\n",
       "      <td>en</td>\n",
       "      <td>[Action, Thriller, Science Fiction]</td>\n",
       "      <td>NaN</td>\n",
       "      <td>NaN</td>\n",
       "      <td>no</td>\n",
       "      <td>red</td>\n",
       "    </tr>\n",
       "    <tr>\n",
       "      <th>8</th>\n",
       "      <td>0.367176</td>\n",
       "      <td>603</td>\n",
       "      <td>The Matrix</td>\n",
       "      <td>en</td>\n",
       "      <td>[Action, Science Fiction]</td>\n",
       "      <td>5.0</td>\n",
       "      <td>603.0</td>\n",
       "      <td>yes</td>\n",
       "      <td>green</td>\n",
       "    </tr>\n",
       "    <tr>\n",
       "      <th>9</th>\n",
       "      <td>0.361102</td>\n",
       "      <td>218</td>\n",
       "      <td>The Terminator</td>\n",
       "      <td>en</td>\n",
       "      <td>[Action, Thriller, Science Fiction]</td>\n",
       "      <td>5.0</td>\n",
       "      <td>218.0</td>\n",
       "      <td>yes</td>\n",
       "      <td>green</td>\n",
       "    </tr>\n",
       "    <tr>\n",
       "      <th>10</th>\n",
       "      <td>0.360961</td>\n",
       "      <td>78</td>\n",
       "      <td>Blade Runner</td>\n",
       "      <td>en</td>\n",
       "      <td>[Science Fiction, Drama, Thriller]</td>\n",
       "      <td>5.0</td>\n",
       "      <td>78.0</td>\n",
       "      <td>yes</td>\n",
       "      <td>green</td>\n",
       "    </tr>\n",
       "    <tr>\n",
       "      <th>11</th>\n",
       "      <td>0.349221</td>\n",
       "      <td>539</td>\n",
       "      <td>Psycho</td>\n",
       "      <td>en</td>\n",
       "      <td>[Drama, Horror, Thriller]</td>\n",
       "      <td>NaN</td>\n",
       "      <td>NaN</td>\n",
       "      <td>no</td>\n",
       "      <td>red</td>\n",
       "    </tr>\n",
       "    <tr>\n",
       "      <th>12</th>\n",
       "      <td>0.348655</td>\n",
       "      <td>8078</td>\n",
       "      <td>Alien: Resurrection</td>\n",
       "      <td>en</td>\n",
       "      <td>[Science Fiction, Horror, Action]</td>\n",
       "      <td>4.0</td>\n",
       "      <td>8078.0</td>\n",
       "      <td>yes</td>\n",
       "      <td>green</td>\n",
       "    </tr>\n",
       "    <tr>\n",
       "      <th>13</th>\n",
       "      <td>0.348588</td>\n",
       "      <td>197</td>\n",
       "      <td>Braveheart</td>\n",
       "      <td>en</td>\n",
       "      <td>[Action, Drama, History, War]</td>\n",
       "      <td>5.0</td>\n",
       "      <td>197.0</td>\n",
       "      <td>yes</td>\n",
       "      <td>green</td>\n",
       "    </tr>\n",
       "    <tr>\n",
       "      <th>14</th>\n",
       "      <td>0.347657</td>\n",
       "      <td>766</td>\n",
       "      <td>Army of Darkness</td>\n",
       "      <td>en</td>\n",
       "      <td>[Fantasy, Horror, Comedy]</td>\n",
       "      <td>NaN</td>\n",
       "      <td>NaN</td>\n",
       "      <td>no</td>\n",
       "      <td>red</td>\n",
       "    </tr>\n",
       "    <tr>\n",
       "      <th>15</th>\n",
       "      <td>0.343468</td>\n",
       "      <td>9552</td>\n",
       "      <td>The Exorcist</td>\n",
       "      <td>en</td>\n",
       "      <td>[Drama, Horror, Thriller]</td>\n",
       "      <td>NaN</td>\n",
       "      <td>NaN</td>\n",
       "      <td>no</td>\n",
       "      <td>red</td>\n",
       "    </tr>\n",
       "    <tr>\n",
       "      <th>16</th>\n",
       "      <td>0.342871</td>\n",
       "      <td>578</td>\n",
       "      <td>Jaws</td>\n",
       "      <td>en</td>\n",
       "      <td>[Horror, Thriller, Adventure]</td>\n",
       "      <td>NaN</td>\n",
       "      <td>NaN</td>\n",
       "      <td>no</td>\n",
       "      <td>red</td>\n",
       "    </tr>\n",
       "    <tr>\n",
       "      <th>17</th>\n",
       "      <td>0.342792</td>\n",
       "      <td>694</td>\n",
       "      <td>The Shining</td>\n",
       "      <td>en</td>\n",
       "      <td>[Horror, Thriller]</td>\n",
       "      <td>NaN</td>\n",
       "      <td>NaN</td>\n",
       "      <td>no</td>\n",
       "      <td>red</td>\n",
       "    </tr>\n",
       "    <tr>\n",
       "      <th>18</th>\n",
       "      <td>0.338793</td>\n",
       "      <td>1091</td>\n",
       "      <td>The Thing</td>\n",
       "      <td>en</td>\n",
       "      <td>[Horror, Mystery, Science Fiction]</td>\n",
       "      <td>NaN</td>\n",
       "      <td>NaN</td>\n",
       "      <td>no</td>\n",
       "      <td>red</td>\n",
       "    </tr>\n",
       "    <tr>\n",
       "      <th>19</th>\n",
       "      <td>0.336689</td>\n",
       "      <td>628</td>\n",
       "      <td>Interview with the Vampire</td>\n",
       "      <td>en</td>\n",
       "      <td>[Horror, Romance]</td>\n",
       "      <td>NaN</td>\n",
       "      <td>NaN</td>\n",
       "      <td>no</td>\n",
       "      <td>red</td>\n",
       "    </tr>\n",
       "  </tbody>\n",
       "</table>\n",
       "</div>"
      ],
      "text/plain": [
       "    recStrength  tmdbId                       title original_language  \\\n",
       "0      0.443122     348                       Alien                en   \n",
       "1      0.411015     679                      Aliens                en   \n",
       "2      0.398761    1891     The Empire Strikes Back                en   \n",
       "3      0.391623      85     Raiders of the Lost Ark                en   \n",
       "4      0.386422    1892          Return of the Jedi                en   \n",
       "5      0.380079      11                   Star Wars                en   \n",
       "6      0.374409    8077                      Alien³                en   \n",
       "7      0.368936     280  Terminator 2: Judgment Day                en   \n",
       "8      0.367176     603                  The Matrix                en   \n",
       "9      0.361102     218              The Terminator                en   \n",
       "10     0.360961      78                Blade Runner                en   \n",
       "11     0.349221     539                      Psycho                en   \n",
       "12     0.348655    8078         Alien: Resurrection                en   \n",
       "13     0.348588     197                  Braveheart                en   \n",
       "14     0.347657     766            Army of Darkness                en   \n",
       "15     0.343468    9552                The Exorcist                en   \n",
       "16     0.342871     578                        Jaws                en   \n",
       "17     0.342792     694                 The Shining                en   \n",
       "18     0.338793    1091                   The Thing                en   \n",
       "19     0.336689     628  Interview with the Vampire                en   \n",
       "\n",
       "                                     genre_list  rating      id interacted  \\\n",
       "0   [Horror, Action, Thriller, Science Fiction]     NaN     NaN         no   \n",
       "1   [Horror, Action, Thriller, Science Fiction]     5.0   679.0        yes   \n",
       "2          [Adventure, Action, Science Fiction]     NaN     NaN         no   \n",
       "3                           [Adventure, Action]     5.0    85.0        yes   \n",
       "4          [Adventure, Action, Science Fiction]     4.0  1892.0        yes   \n",
       "5          [Adventure, Action, Science Fiction]     NaN     NaN         no   \n",
       "6             [Science Fiction, Action, Horror]     4.0  8077.0        yes   \n",
       "7           [Action, Thriller, Science Fiction]     NaN     NaN         no   \n",
       "8                     [Action, Science Fiction]     5.0   603.0        yes   \n",
       "9           [Action, Thriller, Science Fiction]     5.0   218.0        yes   \n",
       "10           [Science Fiction, Drama, Thriller]     5.0    78.0        yes   \n",
       "11                    [Drama, Horror, Thriller]     NaN     NaN         no   \n",
       "12            [Science Fiction, Horror, Action]     4.0  8078.0        yes   \n",
       "13                [Action, Drama, History, War]     5.0   197.0        yes   \n",
       "14                    [Fantasy, Horror, Comedy]     NaN     NaN         no   \n",
       "15                    [Drama, Horror, Thriller]     NaN     NaN         no   \n",
       "16                [Horror, Thriller, Adventure]     NaN     NaN         no   \n",
       "17                           [Horror, Thriller]     NaN     NaN         no   \n",
       "18           [Horror, Mystery, Science Fiction]     NaN     NaN         no   \n",
       "19                            [Horror, Romance]     NaN     NaN         no   \n",
       "\n",
       "    color  \n",
       "0     red  \n",
       "1   green  \n",
       "2     red  \n",
       "3   green  \n",
       "4   green  \n",
       "5     red  \n",
       "6   green  \n",
       "7     red  \n",
       "8   green  \n",
       "9   green  \n",
       "10  green  \n",
       "11    red  \n",
       "12  green  \n",
       "13  green  \n",
       "14    red  \n",
       "15    red  \n",
       "16    red  \n",
       "17    red  \n",
       "18    red  \n",
       "19    red  "
      ]
     },
     "execution_count": 68,
     "metadata": {},
     "output_type": "execute_result"
    }
   ],
   "source": [
    "recs"
   ]
  },
  {
   "cell_type": "code",
   "execution_count": 69,
   "metadata": {},
   "outputs": [
    {
     "data": {
      "application/vnd.plotly.v1+json": {
       "config": {
        "plotlyServerURL": "https://plot.ly"
       },
       "data": [
        {
         "branchvalues": "total",
         "domain": {
          "x": [
           0,
           1
          ],
          "y": [
           0,
           1
          ]
         },
         "hovertemplate": "labels=%{label}<br>value=%{value}<br>parent=%{parent}<br>id=%{id}<extra></extra>",
         "ids": [
          "Alien",
          "Alien: Resurrection",
          "Aliens",
          "Alien³",
          "Army of Darkness",
          "Blade Runner",
          "Braveheart",
          "Interview with the Vampire",
          "Jaws",
          "Psycho",
          "Raiders of the Lost Ark",
          "Return of the Jedi",
          "Star Wars",
          "Terminator 2: Judgment Day",
          "The Empire Strikes Back",
          "The Exorcist",
          "The Matrix",
          "The Shining",
          "The Terminator",
          "The Thing"
         ],
         "labels": [
          "Alien",
          "Alien: Resurrection",
          "Aliens",
          "Alien³",
          "Army of Darkness",
          "Blade Runner",
          "Braveheart",
          "Interview with the Vampire",
          "Jaws",
          "Psycho",
          "Raiders of the Lost Ark",
          "Return of the Jedi",
          "Star Wars",
          "Terminator 2: Judgment Day",
          "The Empire Strikes Back",
          "The Exorcist",
          "The Matrix",
          "The Shining",
          "The Terminator",
          "The Thing"
         ],
         "name": "",
         "parents": [
          "",
          "",
          "",
          "",
          "",
          "",
          "",
          "",
          "",
          "",
          "",
          "",
          "",
          "",
          "",
          "",
          "",
          "",
          "",
          ""
         ],
         "type": "treemap",
         "values": [
          0.08701032246357326,
          0.042382477268386544,
          0.06943398302065415,
          0.05248561795507292,
          0.04201965220369583,
          0.04703079819798242,
          0.04235817201835207,
          0.03816672234674936,
          0.04030812573807641,
          0.04258948413371179,
          0.06006244412454878,
          0.057701481011577155,
          0.05490605810616291,
          0.05021739191253405,
          0.0634072882310341,
          0.040519065380567175,
          0.04950184939506885,
          0.04028040868930974,
          0.04708569158469696,
          0.038886820757363647
         ]
        }
       ],
       "layout": {
        "height": 600,
        "legend": {
         "tracegroupgap": 0
        },
        "margin": {
         "b": 25,
         "l": 25,
         "r": 25,
         "t": 50
        },
        "template": {
         "data": {
          "bar": [
           {
            "error_x": {
             "color": "#2a3f5f"
            },
            "error_y": {
             "color": "#2a3f5f"
            },
            "marker": {
             "line": {
              "color": "#E5ECF6",
              "width": 0.5
             }
            },
            "type": "bar"
           }
          ],
          "barpolar": [
           {
            "marker": {
             "line": {
              "color": "#E5ECF6",
              "width": 0.5
             }
            },
            "type": "barpolar"
           }
          ],
          "carpet": [
           {
            "aaxis": {
             "endlinecolor": "#2a3f5f",
             "gridcolor": "white",
             "linecolor": "white",
             "minorgridcolor": "white",
             "startlinecolor": "#2a3f5f"
            },
            "baxis": {
             "endlinecolor": "#2a3f5f",
             "gridcolor": "white",
             "linecolor": "white",
             "minorgridcolor": "white",
             "startlinecolor": "#2a3f5f"
            },
            "type": "carpet"
           }
          ],
          "choropleth": [
           {
            "colorbar": {
             "outlinewidth": 0,
             "ticks": ""
            },
            "type": "choropleth"
           }
          ],
          "contour": [
           {
            "colorbar": {
             "outlinewidth": 0,
             "ticks": ""
            },
            "colorscale": [
             [
              0,
              "#0d0887"
             ],
             [
              0.1111111111111111,
              "#46039f"
             ],
             [
              0.2222222222222222,
              "#7201a8"
             ],
             [
              0.3333333333333333,
              "#9c179e"
             ],
             [
              0.4444444444444444,
              "#bd3786"
             ],
             [
              0.5555555555555556,
              "#d8576b"
             ],
             [
              0.6666666666666666,
              "#ed7953"
             ],
             [
              0.7777777777777778,
              "#fb9f3a"
             ],
             [
              0.8888888888888888,
              "#fdca26"
             ],
             [
              1,
              "#f0f921"
             ]
            ],
            "type": "contour"
           }
          ],
          "contourcarpet": [
           {
            "colorbar": {
             "outlinewidth": 0,
             "ticks": ""
            },
            "type": "contourcarpet"
           }
          ],
          "heatmap": [
           {
            "colorbar": {
             "outlinewidth": 0,
             "ticks": ""
            },
            "colorscale": [
             [
              0,
              "#0d0887"
             ],
             [
              0.1111111111111111,
              "#46039f"
             ],
             [
              0.2222222222222222,
              "#7201a8"
             ],
             [
              0.3333333333333333,
              "#9c179e"
             ],
             [
              0.4444444444444444,
              "#bd3786"
             ],
             [
              0.5555555555555556,
              "#d8576b"
             ],
             [
              0.6666666666666666,
              "#ed7953"
             ],
             [
              0.7777777777777778,
              "#fb9f3a"
             ],
             [
              0.8888888888888888,
              "#fdca26"
             ],
             [
              1,
              "#f0f921"
             ]
            ],
            "type": "heatmap"
           }
          ],
          "heatmapgl": [
           {
            "colorbar": {
             "outlinewidth": 0,
             "ticks": ""
            },
            "colorscale": [
             [
              0,
              "#0d0887"
             ],
             [
              0.1111111111111111,
              "#46039f"
             ],
             [
              0.2222222222222222,
              "#7201a8"
             ],
             [
              0.3333333333333333,
              "#9c179e"
             ],
             [
              0.4444444444444444,
              "#bd3786"
             ],
             [
              0.5555555555555556,
              "#d8576b"
             ],
             [
              0.6666666666666666,
              "#ed7953"
             ],
             [
              0.7777777777777778,
              "#fb9f3a"
             ],
             [
              0.8888888888888888,
              "#fdca26"
             ],
             [
              1,
              "#f0f921"
             ]
            ],
            "type": "heatmapgl"
           }
          ],
          "histogram": [
           {
            "marker": {
             "colorbar": {
              "outlinewidth": 0,
              "ticks": ""
             }
            },
            "type": "histogram"
           }
          ],
          "histogram2d": [
           {
            "colorbar": {
             "outlinewidth": 0,
             "ticks": ""
            },
            "colorscale": [
             [
              0,
              "#0d0887"
             ],
             [
              0.1111111111111111,
              "#46039f"
             ],
             [
              0.2222222222222222,
              "#7201a8"
             ],
             [
              0.3333333333333333,
              "#9c179e"
             ],
             [
              0.4444444444444444,
              "#bd3786"
             ],
             [
              0.5555555555555556,
              "#d8576b"
             ],
             [
              0.6666666666666666,
              "#ed7953"
             ],
             [
              0.7777777777777778,
              "#fb9f3a"
             ],
             [
              0.8888888888888888,
              "#fdca26"
             ],
             [
              1,
              "#f0f921"
             ]
            ],
            "type": "histogram2d"
           }
          ],
          "histogram2dcontour": [
           {
            "colorbar": {
             "outlinewidth": 0,
             "ticks": ""
            },
            "colorscale": [
             [
              0,
              "#0d0887"
             ],
             [
              0.1111111111111111,
              "#46039f"
             ],
             [
              0.2222222222222222,
              "#7201a8"
             ],
             [
              0.3333333333333333,
              "#9c179e"
             ],
             [
              0.4444444444444444,
              "#bd3786"
             ],
             [
              0.5555555555555556,
              "#d8576b"
             ],
             [
              0.6666666666666666,
              "#ed7953"
             ],
             [
              0.7777777777777778,
              "#fb9f3a"
             ],
             [
              0.8888888888888888,
              "#fdca26"
             ],
             [
              1,
              "#f0f921"
             ]
            ],
            "type": "histogram2dcontour"
           }
          ],
          "mesh3d": [
           {
            "colorbar": {
             "outlinewidth": 0,
             "ticks": ""
            },
            "type": "mesh3d"
           }
          ],
          "parcoords": [
           {
            "line": {
             "colorbar": {
              "outlinewidth": 0,
              "ticks": ""
             }
            },
            "type": "parcoords"
           }
          ],
          "pie": [
           {
            "automargin": true,
            "type": "pie"
           }
          ],
          "scatter": [
           {
            "marker": {
             "colorbar": {
              "outlinewidth": 0,
              "ticks": ""
             }
            },
            "type": "scatter"
           }
          ],
          "scatter3d": [
           {
            "line": {
             "colorbar": {
              "outlinewidth": 0,
              "ticks": ""
             }
            },
            "marker": {
             "colorbar": {
              "outlinewidth": 0,
              "ticks": ""
             }
            },
            "type": "scatter3d"
           }
          ],
          "scattercarpet": [
           {
            "marker": {
             "colorbar": {
              "outlinewidth": 0,
              "ticks": ""
             }
            },
            "type": "scattercarpet"
           }
          ],
          "scattergeo": [
           {
            "marker": {
             "colorbar": {
              "outlinewidth": 0,
              "ticks": ""
             }
            },
            "type": "scattergeo"
           }
          ],
          "scattergl": [
           {
            "marker": {
             "colorbar": {
              "outlinewidth": 0,
              "ticks": ""
             }
            },
            "type": "scattergl"
           }
          ],
          "scattermapbox": [
           {
            "marker": {
             "colorbar": {
              "outlinewidth": 0,
              "ticks": ""
             }
            },
            "type": "scattermapbox"
           }
          ],
          "scatterpolar": [
           {
            "marker": {
             "colorbar": {
              "outlinewidth": 0,
              "ticks": ""
             }
            },
            "type": "scatterpolar"
           }
          ],
          "scatterpolargl": [
           {
            "marker": {
             "colorbar": {
              "outlinewidth": 0,
              "ticks": ""
             }
            },
            "type": "scatterpolargl"
           }
          ],
          "scatterternary": [
           {
            "marker": {
             "colorbar": {
              "outlinewidth": 0,
              "ticks": ""
             }
            },
            "type": "scatterternary"
           }
          ],
          "surface": [
           {
            "colorbar": {
             "outlinewidth": 0,
             "ticks": ""
            },
            "colorscale": [
             [
              0,
              "#0d0887"
             ],
             [
              0.1111111111111111,
              "#46039f"
             ],
             [
              0.2222222222222222,
              "#7201a8"
             ],
             [
              0.3333333333333333,
              "#9c179e"
             ],
             [
              0.4444444444444444,
              "#bd3786"
             ],
             [
              0.5555555555555556,
              "#d8576b"
             ],
             [
              0.6666666666666666,
              "#ed7953"
             ],
             [
              0.7777777777777778,
              "#fb9f3a"
             ],
             [
              0.8888888888888888,
              "#fdca26"
             ],
             [
              1,
              "#f0f921"
             ]
            ],
            "type": "surface"
           }
          ],
          "table": [
           {
            "cells": {
             "fill": {
              "color": "#EBF0F8"
             },
             "line": {
              "color": "white"
             }
            },
            "header": {
             "fill": {
              "color": "#C8D4E3"
             },
             "line": {
              "color": "white"
             }
            },
            "type": "table"
           }
          ]
         },
         "layout": {
          "annotationdefaults": {
           "arrowcolor": "#2a3f5f",
           "arrowhead": 0,
           "arrowwidth": 1
          },
          "autotypenumbers": "strict",
          "coloraxis": {
           "colorbar": {
            "outlinewidth": 0,
            "ticks": ""
           }
          },
          "colorscale": {
           "diverging": [
            [
             0,
             "#8e0152"
            ],
            [
             0.1,
             "#c51b7d"
            ],
            [
             0.2,
             "#de77ae"
            ],
            [
             0.3,
             "#f1b6da"
            ],
            [
             0.4,
             "#fde0ef"
            ],
            [
             0.5,
             "#f7f7f7"
            ],
            [
             0.6,
             "#e6f5d0"
            ],
            [
             0.7,
             "#b8e186"
            ],
            [
             0.8,
             "#7fbc41"
            ],
            [
             0.9,
             "#4d9221"
            ],
            [
             1,
             "#276419"
            ]
           ],
           "sequential": [
            [
             0,
             "#0d0887"
            ],
            [
             0.1111111111111111,
             "#46039f"
            ],
            [
             0.2222222222222222,
             "#7201a8"
            ],
            [
             0.3333333333333333,
             "#9c179e"
            ],
            [
             0.4444444444444444,
             "#bd3786"
            ],
            [
             0.5555555555555556,
             "#d8576b"
            ],
            [
             0.6666666666666666,
             "#ed7953"
            ],
            [
             0.7777777777777778,
             "#fb9f3a"
            ],
            [
             0.8888888888888888,
             "#fdca26"
            ],
            [
             1,
             "#f0f921"
            ]
           ],
           "sequentialminus": [
            [
             0,
             "#0d0887"
            ],
            [
             0.1111111111111111,
             "#46039f"
            ],
            [
             0.2222222222222222,
             "#7201a8"
            ],
            [
             0.3333333333333333,
             "#9c179e"
            ],
            [
             0.4444444444444444,
             "#bd3786"
            ],
            [
             0.5555555555555556,
             "#d8576b"
            ],
            [
             0.6666666666666666,
             "#ed7953"
            ],
            [
             0.7777777777777778,
             "#fb9f3a"
            ],
            [
             0.8888888888888888,
             "#fdca26"
            ],
            [
             1,
             "#f0f921"
            ]
           ]
          },
          "colorway": [
           "#636efa",
           "#EF553B",
           "#00cc96",
           "#ab63fa",
           "#FFA15A",
           "#19d3f3",
           "#FF6692",
           "#B6E880",
           "#FF97FF",
           "#FECB52"
          ],
          "font": {
           "color": "#2a3f5f"
          },
          "geo": {
           "bgcolor": "white",
           "lakecolor": "white",
           "landcolor": "#E5ECF6",
           "showlakes": true,
           "showland": true,
           "subunitcolor": "white"
          },
          "hoverlabel": {
           "align": "left"
          },
          "hovermode": "closest",
          "mapbox": {
           "style": "light"
          },
          "paper_bgcolor": "white",
          "plot_bgcolor": "#E5ECF6",
          "polar": {
           "angularaxis": {
            "gridcolor": "white",
            "linecolor": "white",
            "ticks": ""
           },
           "bgcolor": "#E5ECF6",
           "radialaxis": {
            "gridcolor": "white",
            "linecolor": "white",
            "ticks": ""
           }
          },
          "scene": {
           "xaxis": {
            "backgroundcolor": "#E5ECF6",
            "gridcolor": "white",
            "gridwidth": 2,
            "linecolor": "white",
            "showbackground": true,
            "ticks": "",
            "zerolinecolor": "white"
           },
           "yaxis": {
            "backgroundcolor": "#E5ECF6",
            "gridcolor": "white",
            "gridwidth": 2,
            "linecolor": "white",
            "showbackground": true,
            "ticks": "",
            "zerolinecolor": "white"
           },
           "zaxis": {
            "backgroundcolor": "#E5ECF6",
            "gridcolor": "white",
            "gridwidth": 2,
            "linecolor": "white",
            "showbackground": true,
            "ticks": "",
            "zerolinecolor": "white"
           }
          },
          "shapedefaults": {
           "line": {
            "color": "#2a3f5f"
           }
          },
          "ternary": {
           "aaxis": {
            "gridcolor": "white",
            "linecolor": "white",
            "ticks": ""
           },
           "baxis": {
            "gridcolor": "white",
            "linecolor": "white",
            "ticks": ""
           },
           "bgcolor": "#E5ECF6",
           "caxis": {
            "gridcolor": "white",
            "linecolor": "white",
            "ticks": ""
           }
          },
          "title": {
           "x": 0.05
          },
          "xaxis": {
           "automargin": true,
           "gridcolor": "white",
           "linecolor": "white",
           "ticks": "",
           "title": {
            "standoff": 15
           },
           "zerolinecolor": "white",
           "zerolinewidth": 2
          },
          "yaxis": {
           "automargin": true,
           "gridcolor": "white",
           "linecolor": "white",
           "ticks": "",
           "title": {
            "standoff": 15
           },
           "zerolinecolor": "white",
           "zerolinewidth": 2
          }
         }
        },
        "title": {
         "text": "Top 20 Recommendations for User 248 Using Context-Aware Collaborative Filtering"
        },
        "treemapcolorway": [
         "red",
         "green",
         "red",
         "green",
         "green",
         "red",
         "green",
         "red",
         "green",
         "green",
         "green",
         "red",
         "green",
         "green",
         "red",
         "red",
         "red",
         "red",
         "red",
         "red"
        ],
        "width": 800
       }
      }
     },
     "metadata": {},
     "output_type": "display_data"
    }
   ],
   "source": [
    "import plotly.express as px\n",
    "fig = px.treemap(recs, path=['title'],values=(recs[\"recStrength\"]**3), width=800, height=600)\n",
    "fig.update_layout(\n",
    "    treemapcolorway = recs[\"color\"], #defines the colors in the treemap\n",
    "    margin = dict(t=50, l=25, r=25, b=25), \n",
    "    title = f\"Top {TOP_REC} Recommendations for User {USER_ID} Using {context_aware_cf.MODEL_NAME}\")\n",
    "fig.show()"
   ]
  },
  {
   "cell_type": "code",
   "execution_count": 87,
   "metadata": {},
   "outputs": [
    {
     "data": {
      "text/plain": [
       "[Text(0.5, 1.0, 'Top 20 Recommendations for User 248 Using Context-Aware Collaborative Filtering')]"
      ]
     },
     "execution_count": 87,
     "metadata": {},
     "output_type": "execute_result"
    },
    {
     "data": {
      "image/png": "[encoded data removed]",
      "text/plain": [
       "<Figure size 720x576 with 1 Axes>"
      ]
     },
     "metadata": {
      "needs_background": "light"
     },
     "output_type": "display_data"
    }
   ],
   "source": [
    "import seaborn as sns\n",
    "\n",
    "palette ={\"yes\": \"green\", \"no\": \"red\"}\n",
    "\n",
    "plt.figure(figsize=(10, 8))\n",
    "sns.barplot(data=recs, y=\"title\", x=\"recStrength\", hue='interacted', dodge=False, palette=palette).set(title=f\"Top {TOP_REC} Recommendations for User {USER_ID} Using {context_aware_cf.MODEL_NAME}\")"
   ]
  }
 ],
 "metadata": {
  "interpreter": {
   "hash": "3fea61c36fe247287092413de3716de74400756b3ef4fee288f9306e13b70834"
  },
  "kernelspec": {
   "display_name": "Python 3.8.8 ('base')",
   "language": "python",
   "name": "python3"
  },
  "language_info": {
   "codemirror_mode": {
    "name": "ipython",
    "version": 3
   },
   "file_extension": ".py",
   "mimetype": "text/x-python",
   "name": "python",
   "nbconvert_exporter": "python",
   "pygments_lexer": "ipython3",
   "version": "3.8.8"
  },
  "orig_nbformat": 4
 },
 "nbformat": 4,
 "nbformat_minor": 2
}
